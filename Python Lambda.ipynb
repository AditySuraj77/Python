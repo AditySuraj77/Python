{
 "cells": [
  {
   "cell_type": "markdown",
   "id": "842b34ba",
   "metadata": {},
   "source": [
    "# Lambda"
   ]
  },
  {
   "cell_type": "code",
   "execution_count": 1,
   "id": "0f9f5d1d",
   "metadata": {},
   "outputs": [
    {
     "data": {
      "text/plain": [
       "<function __main__.<lambda>(x)>"
      ]
     },
     "execution_count": 1,
     "metadata": {},
     "output_type": "execute_result"
    }
   ],
   "source": [
    "x = lambda x: x+x\n",
    "x"
   ]
  },
  {
   "cell_type": "code",
   "execution_count": 2,
   "id": "95b4bed5",
   "metadata": {},
   "outputs": [
    {
     "data": {
      "text/plain": [
       "12"
      ]
     },
     "execution_count": 2,
     "metadata": {},
     "output_type": "execute_result"
    }
   ],
   "source": [
    "x(6)"
   ]
  },
  {
   "cell_type": "code",
   "execution_count": 3,
   "id": "b1e20c62",
   "metadata": {},
   "outputs": [],
   "source": [
    "two_num_multi = lambda x,y: x*y"
   ]
  },
  {
   "cell_type": "code",
   "execution_count": 4,
   "id": "dd2978d3",
   "metadata": {},
   "outputs": [
    {
     "data": {
      "text/plain": [
       "25"
      ]
     },
     "execution_count": 4,
     "metadata": {},
     "output_type": "execute_result"
    }
   ],
   "source": [
    "two_num_multi(5,5)"
   ]
  },
  {
   "cell_type": "code",
   "execution_count": 5,
   "id": "301c27fc",
   "metadata": {},
   "outputs": [],
   "source": [
    "three_num_add = lambda a,b,c:a+b+c"
   ]
  },
  {
   "cell_type": "code",
   "execution_count": 9,
   "id": "c3e29a26",
   "metadata": {},
   "outputs": [
    {
     "data": {
      "text/plain": [
       "1000"
      ]
     },
     "execution_count": 9,
     "metadata": {},
     "output_type": "execute_result"
    }
   ],
   "source": [
    "three_num_add(300,500,200)"
   ]
  },
  {
   "cell_type": "markdown",
   "id": "a366578c",
   "metadata": {},
   "source": [
    "# Lambda with anonymous function"
   ]
  },
  {
   "cell_type": "code",
   "execution_count": 16,
   "id": "41483511",
   "metadata": {},
   "outputs": [],
   "source": [
    "def myfunc(n):\n",
    "    return lambda x:x*n"
   ]
  },
  {
   "cell_type": "code",
   "execution_count": 17,
   "id": "02d81472",
   "metadata": {},
   "outputs": [
    {
     "name": "stdout",
     "output_type": "stream",
     "text": [
      "<function myfunc.<locals>.<lambda> at 0x000002A3142E1080>\n"
     ]
    }
   ],
   "source": [
    "print(myfunc(3))"
   ]
  },
  {
   "cell_type": "code",
   "execution_count": 18,
   "id": "7a32c5fa",
   "metadata": {},
   "outputs": [
    {
     "name": "stdout",
     "output_type": "stream",
     "text": [
      "24\n"
     ]
    }
   ],
   "source": [
    "def myfunc(n):\n",
    "  return lambda a : a * n\n",
    "\n",
    "mydoubler = myfunc(2)\n",
    "\n",
    "print(mydoubler(12))"
   ]
  },
  {
   "cell_type": "code",
   "execution_count": 19,
   "id": "2b7746af",
   "metadata": {},
   "outputs": [
    {
     "name": "stdout",
     "output_type": "stream",
     "text": [
      "22\n",
      "33\n"
     ]
    }
   ],
   "source": [
    "def func(n):\n",
    "    return lambda x: x*n\n",
    "\n",
    "mydoubler = myfunc(2)\n",
    "mytrippler = myfunc(3)\n",
    "\n",
    "print(mydoubler(11))\n",
    "print(mytrippler(11))"
   ]
  },
  {
   "cell_type": "code",
   "execution_count": null,
   "id": "62062d7e",
   "metadata": {},
   "outputs": [],
   "source": []
  }
 ],
 "metadata": {
  "kernelspec": {
   "display_name": "Python 3 (ipykernel)",
   "language": "python",
   "name": "python3"
  },
  "language_info": {
   "codemirror_mode": {
    "name": "ipython",
    "version": 3
   },
   "file_extension": ".py",
   "mimetype": "text/x-python",
   "name": "python",
   "nbconvert_exporter": "python",
   "pygments_lexer": "ipython3",
   "version": "3.11.2"
  }
 },
 "nbformat": 4,
 "nbformat_minor": 5
}
