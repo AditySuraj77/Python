{
 "cells": [
  {
   "cell_type": "code",
   "execution_count": 4,
   "id": "861c1c3a",
   "metadata": {},
   "outputs": [],
   "source": [
    "import random"
   ]
  },
  {
   "cell_type": "code",
   "execution_count": 9,
   "id": "12c622ca",
   "metadata": {},
   "outputs": [
    {
     "name": "stdout",
     "output_type": "stream",
     "text": [
      "Enter a Number5\n",
      "Guess Higher\n",
      "Enter a Number3\n",
      "Guess Higher\n",
      "Enter a Number9\n",
      "Guess Lower\n",
      "Enter a Number8\n",
      "Guess Lower\n",
      "Enter a Number7\n",
      "Guess Lower\n",
      "Enter a Number6\n",
      "Right Guess\n",
      "You take 6 Attempt\n"
     ]
    }
   ],
   "source": [
    "jackpot = random.randint(1,10)\n",
    "guess = int(input('Enter a Number'))\n",
    "counter = 1\n",
    "\n",
    "while jackpot != guess:\n",
    "    if guess > jackpot:\n",
    "        print('Guess Lower')\n",
    "    else:\n",
    "        print('Guess Higher')\n",
    "    guess = int(input('Enter a Number'))\n",
    "    counter += 1\n",
    "    \n",
    "print('Right Guess')\n",
    "print('You take',counter,'Attempt')"
   ]
  },
  {
   "cell_type": "code",
   "execution_count": null,
   "id": "1a7b6646",
   "metadata": {},
   "outputs": [],
   "source": []
  }
 ],
 "metadata": {
  "kernelspec": {
   "display_name": "Python 3 (ipykernel)",
   "language": "python",
   "name": "python3"
  },
  "language_info": {
   "codemirror_mode": {
    "name": "ipython",
    "version": 3
   },
   "file_extension": ".py",
   "mimetype": "text/x-python",
   "name": "python",
   "nbconvert_exporter": "python",
   "pygments_lexer": "ipython3",
   "version": "3.11.2"
  }
 },
 "nbformat": 4,
 "nbformat_minor": 5
}
