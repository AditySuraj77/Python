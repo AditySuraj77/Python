{
 "cells": [
  {
   "cell_type": "markdown",
   "id": "29102f20",
   "metadata": {},
   "source": [
    "# Literals\n",
    "\n",
    "### Literal is a raw data given in a variable. In Python, there are various types of literals they are as follows:\n",
    "\n",
    "#### Numeric Literals\n",
    "#### String Literals\n",
    "#### Boolean Literals\n",
    "#### Special Literals"
   ]
  },
  {
   "cell_type": "markdown",
   "id": "0f9622b5",
   "metadata": {},
   "source": [
    "# 1. Numeric Literals"
   ]
  },
  {
   "cell_type": "code",
   "execution_count": 1,
   "id": "d7b776f6",
   "metadata": {},
   "outputs": [],
   "source": [
    "a = 55\n",
    "b = 29\n",
    "c = 123"
   ]
  },
  {
   "cell_type": "code",
   "execution_count": 2,
   "id": "309be811",
   "metadata": {},
   "outputs": [],
   "source": [
    "# float\n",
    "f_1 = 5.5\n",
    "f_2 = 222.333"
   ]
  },
  {
   "cell_type": "code",
   "execution_count": 4,
   "id": "03100422",
   "metadata": {},
   "outputs": [],
   "source": [
    "# complex\n",
    "comp_1 = 5 + 5j\n",
    "comp_2 = 4 + 56j"
   ]
  },
  {
   "cell_type": "code",
   "execution_count": 5,
   "id": "ff335f58",
   "metadata": {},
   "outputs": [
    {
     "name": "stdout",
     "output_type": "stream",
     "text": [
      "55 29 123\n",
      "5.5 222.333\n",
      "(5+5j) (4+56j)\n"
     ]
    }
   ],
   "source": [
    "print(a,b,c)\n",
    "print(f_1,f_2)\n",
    "print(comp_1,comp_2)"
   ]
  },
  {
   "cell_type": "markdown",
   "id": "879c8378",
   "metadata": {},
   "source": [
    "# 2. String Literals"
   ]
  },
  {
   "cell_type": "code",
   "execution_count": 6,
   "id": "81579b0e",
   "metadata": {},
   "outputs": [],
   "source": [
    "st_1 = 'heloo'\n",
    "st_2 = \"heloo\"\n",
    "st_3 = \"\"\"CampusX is an online mentorship program for engineering students.\"\"\"\n",
    "unicode = u\"\\U0001f600\\U0001F606\\U0001F923\"\n",
    "raw = r\"/n stringd\""
   ]
  },
  {
   "cell_type": "code",
   "execution_count": 9,
   "id": "d4c23b80",
   "metadata": {},
   "outputs": [
    {
     "name": "stdout",
     "output_type": "stream",
     "text": [
      "heloo\n",
      "heloo\n",
      "CampusX is an online mentorship program for engineering students.\n",
      "😀😆🤣\n",
      "/n stringd\n"
     ]
    }
   ],
   "source": [
    "print(st_1)\n",
    "print(st_2)\n",
    "print(st_3)\n",
    "print(unicode)\n",
    "print(raw)"
   ]
  },
  {
   "cell_type": "markdown",
   "id": "4640ed2a",
   "metadata": {},
   "source": [
    "# 3. Boolean Literals"
   ]
  },
  {
   "cell_type": "code",
   "execution_count": 10,
   "id": "43cc5079",
   "metadata": {},
   "outputs": [],
   "source": [
    "bool_1 = True + 5\n",
    "bool_2 = False + 10"
   ]
  },
  {
   "cell_type": "code",
   "execution_count": 11,
   "id": "db97ea6e",
   "metadata": {},
   "outputs": [
    {
     "name": "stdout",
     "output_type": "stream",
     "text": [
      "6\n",
      "10\n"
     ]
    }
   ],
   "source": [
    "print(bool_1)\n",
    "print(bool_2)"
   ]
  },
  {
   "cell_type": "markdown",
   "id": "f5317ff0",
   "metadata": {},
   "source": [
    "# 4. Special Literals"
   ]
  },
  {
   "cell_type": "code",
   "execution_count": 13,
   "id": "7a802936",
   "metadata": {},
   "outputs": [],
   "source": [
    "# the speceial literals is    None \n",
    "\n",
    "k = None"
   ]
  },
  {
   "cell_type": "code",
   "execution_count": 15,
   "id": "21c15f9d",
   "metadata": {},
   "outputs": [
    {
     "name": "stdout",
     "output_type": "stream",
     "text": [
      "None\n"
     ]
    }
   ],
   "source": [
    "print(k)"
   ]
  },
  {
   "cell_type": "code",
   "execution_count": null,
   "id": "47cb55a3",
   "metadata": {},
   "outputs": [],
   "source": []
  }
 ],
 "metadata": {
  "kernelspec": {
   "display_name": "Python 3 (ipykernel)",
   "language": "python",
   "name": "python3"
  },
  "language_info": {
   "codemirror_mode": {
    "name": "ipython",
    "version": 3
   },
   "file_extension": ".py",
   "mimetype": "text/x-python",
   "name": "python",
   "nbconvert_exporter": "python",
   "pygments_lexer": "ipython3",
   "version": "3.11.2"
  }
 },
 "nbformat": 4,
 "nbformat_minor": 5
}
