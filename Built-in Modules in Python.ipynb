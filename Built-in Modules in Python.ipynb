{
 "cells": [
  {
   "cell_type": "markdown",
   "id": "e5b83bce",
   "metadata": {},
   "source": [
    "# What are modules?\n",
    "## Consider a module to be the same as a code library.\n",
    "## A file containing a set of functions you want to include in your application.\n",
    "## Examples of python modules\n",
    "### Math\n",
    "### Random\n",
    "### os\n",
    "### time"
   ]
  },
  {
   "cell_type": "code",
   "execution_count": 13,
   "id": "14cdf4ca",
   "metadata": {},
   "outputs": [
    {
     "name": "stdout",
     "output_type": "stream",
     "text": [
      "\n",
      "Please wait a moment while I gather a list of all available modules...\n",
      "\n",
      "test_sqlite3: testing with version '2.6.0', sqlite_version '3.39.4'\n"
     ]
    },
    {
     "name": "stderr",
     "output_type": "stream",
     "text": [
      "C:\\Users\\user.LAPTOP\\AppData\\Local\\Programs\\Python\\Python311\\Lib\\site-packages\\altair\\vega\\v5\\__init__.py:18: AltairDeprecationWarning: The module altair.vega.v5 is deprecated and will be removed in Altair 5.\n",
      "  warnings.warn(\n",
      "C:\\Users\\user.LAPTOP\\AppData\\Local\\Programs\\Python\\Python311\\Lib\\site-packages\\altair\\vegalite\\v3\\__init__.py:29: AltairDeprecationWarning: The module altair.vegalite.v3 is deprecated and will be removed in Altair 5. Use `import altair as alt` instead of `import altair.vegalite.v3 as alt`.\n",
      "  warnings.warn(\n",
      "C:\\Users\\user.LAPTOP\\AppData\\Local\\Programs\\Python\\Python311\\Lib\\site-packages\\notebook\\utils.py:280: DeprecationWarning: distutils Version classes are deprecated. Use packaging.version instead.\n",
      "  return LooseVersion(v) >= LooseVersion(check)\n",
      "C:\\Users\\user.LAPTOP\\AppData\\Local\\Programs\\Python\\Python311\\Lib\\site-packages\\notebook\\utils.py:280: DeprecationWarning: distutils Version classes are deprecated. Use packaging.version instead.\n",
      "  return LooseVersion(v) >= LooseVersion(check)\n",
      "C:\\Users\\user.LAPTOP\\AppData\\Local\\Programs\\Python\\Python311\\Lib\\pkgutil.py:92: UserWarning: The numpy.array_api submodule is still experimental. See NEP 47.\n",
      "  __import__(info.name)\n",
      "C:\\Users\\user.LAPTOP\\AppData\\Local\\Programs\\Python\\Python311\\Lib\\pkgutil.py:92: DeprecationWarning: \n",
      "\n",
      "  `numpy.distutils` is deprecated since NumPy 1.23.0, as a result\n",
      "  of the deprecation of `distutils` itself. It will be removed for\n",
      "  Python >= 3.12. For older Python versions it will remain present.\n",
      "  It is recommended to use `setuptools < 60.0` for those Python versions.\n",
      "  For more details, see:\n",
      "    https://numpy.org/devdocs/reference/distutils_status_migration.html \n",
      "\n",
      "\n",
      "  __import__(info.name)\n",
      "C:\\Users\\user.LAPTOP\\AppData\\Local\\Programs\\Python\\Python311\\Lib\\site-packages\\opendatasets\\utils\\network.py:2: DeprecationWarning: 'cgi' is deprecated and slated for removal in Python 3.13\n",
      "  import cgi\n",
      "C:\\Users\\user.LAPTOP\\AppData\\Local\\Programs\\Python\\Python311\\Lib\\site-packages\\_distutils_hack\\__init__.py:33: UserWarning: Setuptools is replacing distutils.\n",
      "  warnings.warn(\"Setuptools is replacing distutils.\")\n",
      "C:\\Users\\user.LAPTOP\\AppData\\Local\\Programs\\Python\\Python311\\Lib\\site-packages\\setuptools\\command\\build_ext.py:8: DeprecationWarning: The distutils package is deprecated and slated for removal in Python 3.12. Use setuptools or check PEP 632 for potential alternatives\n",
      "  from distutils.command.build_ext import build_ext as _du_build_ext\n",
      "C:\\Users\\user.LAPTOP\\AppData\\Local\\Programs\\Python\\Python311\\Lib\\distutils\\command\\build_ext.py:13: DeprecationWarning: The distutils.sysconfig module is deprecated, use sysconfig instead\n",
      "  from distutils.sysconfig import customize_compiler, get_python_version\n",
      "C:\\Users\\user.LAPTOP\\AppData\\Local\\Programs\\Python\\Python311\\Lib\\site-packages\\streamlit\\elements\\image.py:22: DeprecationWarning: 'imghdr' is deprecated and slated for removal in Python 3.13\n",
      "  import imghdr\n",
      "C:\\Users\\user.LAPTOP\\AppData\\Local\\Programs\\Python\\Python311\\Lib\\site-packages\\tensorboard\\_vendor\\html5lib\\filters\\sanitizer.py:29: DeprecationWarning: html5lib's sanitizer is deprecated; see https://github.com/html5lib/html5lib-python/issues/443 and please let us know if Bleach is unsuitable for your needs\n",
      "  warnings.warn(_deprecation_msg, DeprecationWarning)\n"
     ]
    },
    {
     "name": "stdout",
     "output_type": "stream",
     "text": [
      "IPython             clang               mmsystem            string\n",
      "PIL                 click               modulefinder        stringprep\n",
      "PyPDF2              cmath               mpl_toolkits        struct\n",
      "__future__          cmd                 msilib              subprocess\n",
      "__hello__           code                msvcrt              sunau\n",
      "__phello__          codecs              multiprocessing     symtable\n",
      "_abc                codeop              nbclassic           sys\n",
      "_aix_support        collections         nbclient            sysconfig\n",
      "_argon2_cffi_bindings colorama            nbconvert           tabnanny\n",
      "_ast                colorsys            nbformat            tarfile\n",
      "_asyncio            comm                nest_asyncio        telnetlib\n",
      "_bisect             commctrl            netbios             tempfile\n",
      "_blake2             compileall          netrc               tensorboard\n",
      "_bootsubprocess     concurrent          nntplib             tensorboard_data_server\n",
      "_bz2                configparser        notebook            tensorboard_plugin_wit\n",
      "_cffi_backend       contextlib          notebook_shim       tensorflow\n",
      "_codecs             contextvars         nt                  tensorflow_estimator\n",
      "_codecs_cn          contourpy           ntpath              tensorflow_io_gcs_filesystem\n",
      "_codecs_hk          copy                ntsecuritycon       termcolor\n",
      "_codecs_iso2022     copyreg             nturl2path          terminado\n",
      "_codecs_jp          crypt               numbers             test\n",
      "_codecs_kr          csv                 numpy               text_unidecode\n",
      "_codecs_tw          ctypes              oauthlib            textwrap\n",
      "_collections        curses              odbc                this\n",
      "_collections_abc    cv2                 opcode              threading\n",
      "_compat_pickle      cycler              opendatasets        threadpoolctl\n",
      "_compression        dataclasses         operator            time\n",
      "_contextvars        datetime            opt_einsum          timeit\n",
      "_csv                dateutil            optparse            timer\n",
      "_ctypes             dbi                 os                  tinycss2\n",
      "_ctypes_test        dbm                 packaging           tkinter\n",
      "_datetime           dde                 pandas              tlz\n",
      "_decimal            debugpy             pandocfilters       token\n",
      "_distutils_hack     decimal             parso               tokenize\n",
      "_elementtree        decorator           pasta               toml\n",
      "_functools          defusedxml          pathlib             tomllib\n",
      "_hashlib            difflib             pdb                 toolz\n",
      "_heapq              dis                 perfmon             tornado\n",
      "_imp                distutils           pickle              tqdm\n",
      "_io                 doctest             pickleshare         trace\n",
      "_json               dot_parser          pickletools         traceback\n",
      "_locale             email               pip                 tracemalloc\n",
      "_lsprof             encodings           pipes               traitlets\n",
      "_lzma               ensurepip           pkg_resources       tty\n",
      "_markupbase         entrypoints         pkgutil             turtle\n",
      "_md5                enum                platform            turtledemo\n",
      "_msi                errno               platformdirs        types\n",
      "_multibytecodec     executing           plistlib            typing\n",
      "_multiprocessing    fastjsonschema      poplib              typing_extensions\n",
      "_opcode             faulthandler        posixpath           tzdata\n",
      "_operator           filecmp             pprint              tzlocal\n",
      "_osx_support        fileinput           profile             unicodedata\n",
      "_overlapped         flatbuffers         prometheus_client   unittest\n",
      "_pickle             fnmatch             prompt_toolkit      uri_template\n",
      "_py_abc             fontTools           pstats              urllib\n",
      "_pydecimal          fqdn                psutil              urllib3\n",
      "_pyio               fractions           pty                 uu\n",
      "_pyrsistent_version ftplib              pure_eval           uuid\n",
      "_queue              functools           pvectorc            validators\n",
      "_random             gast                py_compile          venv\n",
      "_sha1               gc                  pyarrow             warnings\n",
      "_sha256             genericpath         pyasn1              watchdog\n",
      "_sha3               getopt              pyasn1_modules      wave\n",
      "_sha512             getpass             pyclbr              wcwidth\n",
      "_signal             gettext             pycparser           weakref\n",
      "_sitebuiltins       git                 pydeck              webbrowser\n",
      "_socket             gitdb               pydoc               webcolors\n",
      "_sqlite3            glob                pydoc_data          webencodings\n",
      "_sre                google_auth_oauthlib pydot               websocket\n",
      "_ssl                graphlib            pyexpat             werkzeug\n",
      "_stat               graphviz            pygments            wheel\n",
      "_statistics         grpc                pylab               widgetsnbextension\n",
      "_string             gzip                pympler             win2kras\n",
      "_strptime           h5py                pyparsing           win32api\n",
      "_struct             hashlib             pyrsistent          win32clipboard\n",
      "_symtable           heapq               pythoncom           win32com\n",
      "_testbuffer         hmac                pythonjsonlogger    win32con\n",
      "_testcapi           html                pytz                win32console\n",
      "_testconsole        http                pytz_deprecation_shim win32cred\n",
      "_testimportmultiple idlelib             pywin               win32crypt\n",
      "_testinternalcapi   idna                pywin32_bootstrap   win32cryptcon\n",
      "_testmultiphase     imaplib             pywin32_testutil    win32event\n",
      "_thread             imghdr              pywintypes          win32evtlog\n",
      "_threading_local    imp                 qtconsole           win32evtlogutil\n",
      "_tkinter            importlib           qtpy                win32file\n",
      "_tokenize           importlib_metadata  queue               win32gui\n",
      "_tracemalloc        inspect             quopri              win32gui_struct\n",
      "_typing             io                  random              win32help\n",
      "_uuid               ipaddress           rasutil             win32inet\n",
      "_warnings           ipykernel           re                  win32inetcon\n",
      "_weakref            ipykernel_launcher  regcheck            win32job\n",
      "_weakrefset         ipython_genutils    regutil             win32lz\n",
      "_win32sysloader     ipywidgets          reprlib             win32net\n",
      "_winapi             isapi               requests            win32netcon\n",
      "_winxptheme         isoduration         requests_oauthlib   win32pdh\n",
      "_xxsubinterpreters  itertools           rfc3339_validator   win32pdhquery\n",
      "_yaml               jax                 rfc3986_validator   win32pdhutil\n",
      "_zoneinfo           jedi                rich                win32pipe\n",
      "abc                 jinja2              rlcompleter         win32print\n",
      "absl                joblib              rsa                 win32process\n",
      "adodbapi            json                runpy               win32profile\n",
      "afxres              jsonpointer         sched               win32ras\n",
      "aifc                jsonschema          scipy               win32rcparser\n",
      "altair              jupyter             seaborn             win32security\n",
      "antigravity         jupyter_client      secrets             win32service\n",
      "anyio               jupyter_console     select              win32serviceutil\n",
      "argon2              jupyter_core        selectors           win32timezone\n",
      "argparse            jupyter_events      semver              win32trace\n",
      "array               jupyter_server      send2trash          win32traceutil\n",
      "arrow               jupyter_server_terminals servicemanager      win32transaction\n",
      "ast                 jupyterlab_pygments setuptools          win32ts\n",
      "asttokens           jupyterlab_widgets  shelve              win32ui\n",
      "astunparse          kaggle              shlex               win32uiole\n",
      "asynchat            keras               shutil              win32verstamp\n",
      "asyncio             keras_tuner         signal              win32wnet\n",
      "asyncore            kerastuner          site                winerror\n",
      "atexit              keyword             six                 winioctlcon\n",
      "attr                kiwisolver          sklearn             winnt\n",
      "attrs               lib2to3             slugify             winperf\n",
      "audioop             linecache           smmap               winpty\n",
      "backcall            locale              smtpd               winreg\n",
      "base64              logging             smtplib             winsound\n",
      "bdb                 lzma                sndhdr              winxpgui\n",
      "binascii            mailbox             sniffio             winxptheme\n",
      "bisect              mailcap             socket              wrapt\n",
      "bleach              markdown            socketserver        wsgiref\n",
      "blinker             markdown_it         soupsieve           xdrlib\n",
      "bs4                 markupsafe          sqlite3             xml\n",
      "builtins            marshal             sre_compile         xmlrpc\n",
      "bz2                 math                sre_constants       xxsubtype\n",
      "cProfile            matplotlib          sre_parse           yaml\n",
      "cachetools          matplotlib_inline   ssl                 zipapp\n",
      "calendar            mdurl               sspi                zipfile\n",
      "certifi             mimetypes           sspicon             zipimport\n",
      "cffi                mistune             stack_data          zipp\n",
      "cgi                 ml_dtypes           start_pythonwin     zlib\n",
      "cgitb               mlxtend             stat                zmq\n",
      "charset_normalizer  mmap                statistics          zoneinfo\n",
      "chunk               mmapfile            streamlit           ~atplotlib\n",
      "\n",
      "Enter any module name to get more help.  Or, type \"modules spam\" to search\n",
      "for modules whose name or summary contain the string \"spam\".\n",
      "\n"
     ]
    }
   ],
   "source": [
    "help('modules')"
   ]
  },
  {
   "cell_type": "markdown",
   "id": "d5d277e1",
   "metadata": {},
   "source": [
    "# math module"
   ]
  },
  {
   "cell_type": "code",
   "execution_count": 1,
   "id": "214a2d68",
   "metadata": {},
   "outputs": [],
   "source": [
    "import math"
   ]
  },
  {
   "cell_type": "code",
   "execution_count": 3,
   "id": "d5615dca",
   "metadata": {},
   "outputs": [
    {
     "data": {
      "text/plain": [
       "286.4788975654116"
      ]
     },
     "execution_count": 3,
     "metadata": {},
     "output_type": "execute_result"
    }
   ],
   "source": [
    "math.degrees(5)"
   ]
  },
  {
   "cell_type": "code",
   "execution_count": 7,
   "id": "8d779c59",
   "metadata": {},
   "outputs": [
    {
     "data": {
      "text/plain": [
       "3628800"
      ]
     },
     "execution_count": 7,
     "metadata": {},
     "output_type": "execute_result"
    }
   ],
   "source": [
    "math.factorial(10)"
   ]
  },
  {
   "cell_type": "code",
   "execution_count": 8,
   "id": "790f3d19",
   "metadata": {},
   "outputs": [
    {
     "data": {
      "text/plain": [
       "3.141592653589793"
      ]
     },
     "execution_count": 8,
     "metadata": {},
     "output_type": "execute_result"
    }
   ],
   "source": [
    "math.pi"
   ]
  },
  {
   "cell_type": "code",
   "execution_count": 11,
   "id": "dcf421ae",
   "metadata": {},
   "outputs": [
    {
     "data": {
      "text/plain": [
       "10.0"
      ]
     },
     "execution_count": 11,
     "metadata": {},
     "output_type": "execute_result"
    }
   ],
   "source": [
    "math.sqrt(100)"
   ]
  },
  {
   "cell_type": "code",
   "execution_count": 14,
   "id": "cb9942da",
   "metadata": {},
   "outputs": [],
   "source": [
    "import random "
   ]
  },
  {
   "cell_type": "code",
   "execution_count": 16,
   "id": "92c8ca61",
   "metadata": {},
   "outputs": [
    {
     "data": {
      "text/plain": [
       "53"
      ]
     },
     "execution_count": 16,
     "metadata": {},
     "output_type": "execute_result"
    }
   ],
   "source": [
    "random.randint(1,200)"
   ]
  },
  {
   "cell_type": "code",
   "execution_count": 22,
   "id": "a9987cea",
   "metadata": {},
   "outputs": [
    {
     "data": {
      "text/plain": [
       "[2, 1, 3]"
      ]
     },
     "execution_count": 22,
     "metadata": {},
     "output_type": "execute_result"
    }
   ],
   "source": [
    "s = [1,2,3]\n",
    "random.shuffle(s)\n",
    "s"
   ]
  },
  {
   "cell_type": "markdown",
   "id": "c6947e8d",
   "metadata": {},
   "source": [
    "# time module"
   ]
  },
  {
   "cell_type": "code",
   "execution_count": 23,
   "id": "a003f7f6",
   "metadata": {},
   "outputs": [],
   "source": [
    "import time"
   ]
  },
  {
   "cell_type": "code",
   "execution_count": 27,
   "id": "f9752743",
   "metadata": {},
   "outputs": [
    {
     "data": {
      "text/plain": [
       "1682920554.707441"
      ]
     },
     "execution_count": 27,
     "metadata": {},
     "output_type": "execute_result"
    }
   ],
   "source": [
    "time.time()"
   ]
  },
  {
   "cell_type": "code",
   "execution_count": 29,
   "id": "4547c3e6",
   "metadata": {},
   "outputs": [
    {
     "data": {
      "text/plain": [
       "'Mon May  1 11:26:06 2023'"
      ]
     },
     "execution_count": 29,
     "metadata": {},
     "output_type": "execute_result"
    }
   ],
   "source": [
    "time.ctime()"
   ]
  },
  {
   "cell_type": "code",
   "execution_count": 30,
   "id": "3ba50067",
   "metadata": {},
   "outputs": [
    {
     "name": "stdout",
     "output_type": "stream",
     "text": [
      "hell\n",
      "Hitler\n"
     ]
    }
   ],
   "source": [
    "print('hell')\n",
    "time.sleep(5)\n",
    "print('Hitler')"
   ]
  },
  {
   "cell_type": "markdown",
   "id": "53fa425e",
   "metadata": {},
   "source": [
    "# os Module"
   ]
  },
  {
   "cell_type": "code",
   "execution_count": 31,
   "id": "43b7c048",
   "metadata": {},
   "outputs": [],
   "source": [
    "import os"
   ]
  },
  {
   "cell_type": "code",
   "execution_count": 32,
   "id": "16a5076e",
   "metadata": {},
   "outputs": [
    {
     "data": {
      "text/plain": [
       "'C:\\\\Users\\\\user.LAPTOP\\\\Desktop\\\\Python'"
      ]
     },
     "execution_count": 32,
     "metadata": {},
     "output_type": "execute_result"
    }
   ],
   "source": [
    "os.getcwd()"
   ]
  },
  {
   "cell_type": "code",
   "execution_count": 33,
   "id": "94e18ecf",
   "metadata": {},
   "outputs": [
    {
     "data": {
      "text/plain": [
       "['.ipynb_checkpoints',\n",
       " 'Break, Continue and Pass Statements in Python.ipynb',\n",
       " 'Built-in Functions in Python.ipynb',\n",
       " 'Built-in Modules in Python.ipynb',\n",
       " 'For Loop In Python.ipynb',\n",
       " 'Guessing Game.ipynb',\n",
       " 'If-else Statements in Python_Nested If-else .ipynb',\n",
       " 'Keywords and Identifiers in Python.ipynb',\n",
       " 'Literals in Python.ipynb',\n",
       " 'Nested Loop.ipynb',\n",
       " 'Operators in Python.ipynb',\n",
       " 'Taking user input in Python _The input function.ipynb',\n",
       " 'Variables in Python_Dynamic Typing_Dynamic Binding in Python.ipynb',\n",
       " 'While Loop in Python.ipynb']"
      ]
     },
     "execution_count": 33,
     "metadata": {},
     "output_type": "execute_result"
    }
   ],
   "source": [
    "os.listdir()"
   ]
  },
  {
   "cell_type": "code",
   "execution_count": null,
   "id": "8a17a506",
   "metadata": {},
   "outputs": [],
   "source": []
  }
 ],
 "metadata": {
  "kernelspec": {
   "display_name": "Python 3 (ipykernel)",
   "language": "python",
   "name": "python3"
  },
  "language_info": {
   "codemirror_mode": {
    "name": "ipython",
    "version": 3
   },
   "file_extension": ".py",
   "mimetype": "text/x-python",
   "name": "python",
   "nbconvert_exporter": "python",
   "pygments_lexer": "ipython3",
   "version": "3.11.2"
  }
 },
 "nbformat": 4,
 "nbformat_minor": 5
}
