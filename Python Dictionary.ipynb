{
 "cells": [
  {
   "cell_type": "markdown",
   "id": "37c3f7db",
   "metadata": {},
   "source": [
    "# Creating Dictionary"
   ]
  },
  {
   "cell_type": "code",
   "execution_count": 6,
   "id": "0230fd29",
   "metadata": {},
   "outputs": [],
   "source": [
    "dict_1 = {'Name':'Adity',\"Study-Mode\":'Online','Age':19,'current-learning':'Deep-Learning & Machine-Learning'}"
   ]
  },
  {
   "cell_type": "code",
   "execution_count": 7,
   "id": "f265f369",
   "metadata": {},
   "outputs": [
    {
     "data": {
      "text/plain": [
       "{'Name': 'Adity',\n",
       " 'Study-Mode': 'Online',\n",
       " 'Age': 19,\n",
       " 'current-learning': 'Deep-Learning & Machine-Learning'}"
      ]
     },
     "execution_count": 7,
     "metadata": {},
     "output_type": "execute_result"
    }
   ],
   "source": [
    "dict_1"
   ]
  },
  {
   "cell_type": "code",
   "execution_count": 8,
   "id": "8e101ef7",
   "metadata": {},
   "outputs": [
    {
     "data": {
      "text/plain": [
       "dict"
      ]
     },
     "execution_count": 8,
     "metadata": {},
     "output_type": "execute_result"
    }
   ],
   "source": [
    "type(dict_1)"
   ]
  },
  {
   "cell_type": "code",
   "execution_count": 9,
   "id": "906314dc",
   "metadata": {},
   "outputs": [
    {
     "data": {
      "text/plain": [
       "4"
      ]
     },
     "execution_count": 9,
     "metadata": {},
     "output_type": "execute_result"
    }
   ],
   "source": [
    "len(dict_1)"
   ]
  },
  {
   "cell_type": "code",
   "execution_count": 10,
   "id": "d23712e3",
   "metadata": {},
   "outputs": [
    {
     "data": {
      "text/plain": [
       "19"
      ]
     },
     "execution_count": 10,
     "metadata": {},
     "output_type": "execute_result"
    }
   ],
   "source": [
    "dict_1['Age']"
   ]
  },
  {
   "cell_type": "code",
   "execution_count": 11,
   "id": "15431b8a",
   "metadata": {},
   "outputs": [],
   "source": [
    "thisdict = {\n",
    "  \"brand\": \"Ford\",\n",
    "  \"electric\": False,\n",
    "  \"year\": 1964,\n",
    "  \"colors\": [\"red\", \"white\", \"blue\"]\n",
    "}"
   ]
  },
  {
   "cell_type": "code",
   "execution_count": 15,
   "id": "b3a6d180",
   "metadata": {},
   "outputs": [],
   "source": [
    "dict_2 = dict(name='volvo',ensembling='vehicle')"
   ]
  },
  {
   "cell_type": "code",
   "execution_count": 17,
   "id": "5b562ba2",
   "metadata": {},
   "outputs": [
    {
     "data": {
      "text/plain": [
       "'volvo'"
      ]
     },
     "execution_count": 17,
     "metadata": {},
     "output_type": "execute_result"
    }
   ],
   "source": [
    "dict_2['name']"
   ]
  },
  {
   "cell_type": "code",
   "execution_count": 18,
   "id": "d30619d3",
   "metadata": {},
   "outputs": [
    {
     "data": {
      "text/plain": [
       "2"
      ]
     },
     "execution_count": 18,
     "metadata": {},
     "output_type": "execute_result"
    }
   ],
   "source": [
    "len(dict_2)"
   ]
  },
  {
   "cell_type": "code",
   "execution_count": 19,
   "id": "6988d387",
   "metadata": {},
   "outputs": [
    {
     "data": {
      "text/plain": [
       "dict"
      ]
     },
     "execution_count": 19,
     "metadata": {},
     "output_type": "execute_result"
    }
   ],
   "source": [
    "type(dict_2)"
   ]
  },
  {
   "cell_type": "markdown",
   "id": "566c66cc",
   "metadata": {},
   "source": [
    "# Accessing Items"
   ]
  },
  {
   "cell_type": "code",
   "execution_count": 20,
   "id": "b859ac44",
   "metadata": {},
   "outputs": [
    {
     "data": {
      "text/plain": [
       "{'Name': 'Adity',\n",
       " 'Study-Mode': 'Online',\n",
       " 'Age': 19,\n",
       " 'current-learning': 'Deep-Learning & Machine-Learning'}"
      ]
     },
     "execution_count": 20,
     "metadata": {},
     "output_type": "execute_result"
    }
   ],
   "source": [
    "dict_1"
   ]
  },
  {
   "cell_type": "code",
   "execution_count": 21,
   "id": "fbc087ac",
   "metadata": {},
   "outputs": [
    {
     "data": {
      "text/plain": [
       "'Deep-Learning & Machine-Learning'"
      ]
     },
     "execution_count": 21,
     "metadata": {},
     "output_type": "execute_result"
    }
   ],
   "source": [
    "dict_1['current-learning']"
   ]
  },
  {
   "cell_type": "code",
   "execution_count": 30,
   "id": "47d642fb",
   "metadata": {},
   "outputs": [
    {
     "data": {
      "text/plain": [
       "19"
      ]
     },
     "execution_count": 30,
     "metadata": {},
     "output_type": "execute_result"
    }
   ],
   "source": [
    "dict_1.get('Age')"
   ]
  },
  {
   "cell_type": "code",
   "execution_count": 31,
   "id": "dcd5a480",
   "metadata": {},
   "outputs": [
    {
     "data": {
      "text/plain": [
       "dict_keys(['Name', 'Study-Mode', 'Age', 'current-learning'])"
      ]
     },
     "execution_count": 31,
     "metadata": {},
     "output_type": "execute_result"
    }
   ],
   "source": [
    "dict_1.keys()"
   ]
  },
  {
   "cell_type": "code",
   "execution_count": 32,
   "id": "baf4b309",
   "metadata": {},
   "outputs": [
    {
     "data": {
      "text/plain": [
       "dict_values(['Adity', 'Online', 19, 'Deep-Learning & Machine-Learning'])"
      ]
     },
     "execution_count": 32,
     "metadata": {},
     "output_type": "execute_result"
    }
   ],
   "source": [
    "dict_1.values()"
   ]
  },
  {
   "cell_type": "code",
   "execution_count": 33,
   "id": "6a51a45a",
   "metadata": {},
   "outputs": [
    {
     "data": {
      "text/plain": [
       "dict_items([('Name', 'Adity'), ('Study-Mode', 'Online'), ('Age', 19), ('current-learning', 'Deep-Learning & Machine-Learning')])"
      ]
     },
     "execution_count": 33,
     "metadata": {},
     "output_type": "execute_result"
    }
   ],
   "source": [
    "dict_1.items()"
   ]
  },
  {
   "cell_type": "code",
   "execution_count": 34,
   "id": "b889bb15",
   "metadata": {},
   "outputs": [
    {
     "name": "stdout",
     "output_type": "stream",
     "text": [
      "Name\n"
     ]
    }
   ],
   "source": [
    "if 'Name' in dict_1:\n",
    "    print('Name')"
   ]
  },
  {
   "cell_type": "markdown",
   "id": "ceedad08",
   "metadata": {},
   "source": [
    "# Change Values"
   ]
  },
  {
   "cell_type": "code",
   "execution_count": 35,
   "id": "e81fab68",
   "metadata": {},
   "outputs": [],
   "source": [
    "thisdict = {\n",
    "  \"brand\": \"Ford\",\n",
    "  \"electric\": False,\n",
    "  \"year\": 1964,\n",
    "  \"colors\": [\"red\", \"white\", \"blue\"]\n",
    "}"
   ]
  },
  {
   "cell_type": "code",
   "execution_count": 37,
   "id": "bd0ef5eb",
   "metadata": {},
   "outputs": [],
   "source": [
    "thisdict['year'] = 1990"
   ]
  },
  {
   "cell_type": "code",
   "execution_count": 38,
   "id": "28a25c5e",
   "metadata": {},
   "outputs": [
    {
     "data": {
      "text/plain": [
       "{'brand': 'Ford',\n",
       " 'electric': False,\n",
       " 'year': 1990,\n",
       " 'colors': ['red', 'white', 'blue']}"
      ]
     },
     "execution_count": 38,
     "metadata": {},
     "output_type": "execute_result"
    }
   ],
   "source": [
    "thisdict"
   ]
  },
  {
   "cell_type": "code",
   "execution_count": 39,
   "id": "eb63c47d",
   "metadata": {},
   "outputs": [],
   "source": [
    "thisdict.update({'brand':'KIAT'})"
   ]
  },
  {
   "cell_type": "code",
   "execution_count": 40,
   "id": "4f584094",
   "metadata": {},
   "outputs": [
    {
     "data": {
      "text/plain": [
       "{'brand': 'KIAT',\n",
       " 'electric': False,\n",
       " 'year': 1990,\n",
       " 'colors': ['red', 'white', 'blue']}"
      ]
     },
     "execution_count": 40,
     "metadata": {},
     "output_type": "execute_result"
    }
   ],
   "source": [
    "thisdict"
   ]
  },
  {
   "cell_type": "markdown",
   "id": "d0248442",
   "metadata": {},
   "source": [
    "# Adding Items"
   ]
  },
  {
   "cell_type": "code",
   "execution_count": 41,
   "id": "b741c937",
   "metadata": {},
   "outputs": [],
   "source": [
    "dict_1 = {'Name':'Adity',\"Study-Mode\":'Online','Age':19,'current-learning':'Deep-Learning & Machine-Learning'}"
   ]
  },
  {
   "cell_type": "code",
   "execution_count": 42,
   "id": "4b6fd943",
   "metadata": {},
   "outputs": [],
   "source": [
    "dict_1['color'] = 'red'"
   ]
  },
  {
   "cell_type": "code",
   "execution_count": 43,
   "id": "14ea6582",
   "metadata": {},
   "outputs": [
    {
     "data": {
      "text/plain": [
       "{'Name': 'Adity',\n",
       " 'Study-Mode': 'Online',\n",
       " 'Age': 19,\n",
       " 'current-learning': 'Deep-Learning & Machine-Learning',\n",
       " 'color': 'red'}"
      ]
     },
     "execution_count": 43,
     "metadata": {},
     "output_type": "execute_result"
    }
   ],
   "source": [
    "dict_1"
   ]
  },
  {
   "cell_type": "code",
   "execution_count": 44,
   "id": "d8581e15",
   "metadata": {},
   "outputs": [],
   "source": [
    "dict_1.update({'language':'python'})"
   ]
  },
  {
   "cell_type": "code",
   "execution_count": 45,
   "id": "5165efc1",
   "metadata": {},
   "outputs": [
    {
     "data": {
      "text/plain": [
       "{'Name': 'Adity',\n",
       " 'Study-Mode': 'Online',\n",
       " 'Age': 19,\n",
       " 'current-learning': 'Deep-Learning & Machine-Learning',\n",
       " 'color': 'red',\n",
       " 'language': 'python'}"
      ]
     },
     "execution_count": 45,
     "metadata": {},
     "output_type": "execute_result"
    }
   ],
   "source": [
    "dict_1"
   ]
  },
  {
   "cell_type": "markdown",
   "id": "0e3968f0",
   "metadata": {},
   "source": [
    "# Removing Items"
   ]
  },
  {
   "cell_type": "code",
   "execution_count": 47,
   "id": "455b2b7c",
   "metadata": {},
   "outputs": [
    {
     "data": {
      "text/plain": [
       "'red'"
      ]
     },
     "execution_count": 47,
     "metadata": {},
     "output_type": "execute_result"
    }
   ],
   "source": [
    "dict_1.pop('color')"
   ]
  },
  {
   "cell_type": "code",
   "execution_count": 48,
   "id": "cdbe1a71",
   "metadata": {},
   "outputs": [
    {
     "data": {
      "text/plain": [
       "('language', 'python')"
      ]
     },
     "execution_count": 48,
     "metadata": {},
     "output_type": "execute_result"
    }
   ],
   "source": [
    "dict_1.popitem()"
   ]
  },
  {
   "cell_type": "code",
   "execution_count": 49,
   "id": "3e9292bf",
   "metadata": {},
   "outputs": [
    {
     "data": {
      "text/plain": [
       "{'Name': 'Adity',\n",
       " 'Study-Mode': 'Online',\n",
       " 'Age': 19,\n",
       " 'current-learning': 'Deep-Learning & Machine-Learning'}"
      ]
     },
     "execution_count": 49,
     "metadata": {},
     "output_type": "execute_result"
    }
   ],
   "source": [
    "dict_1"
   ]
  },
  {
   "cell_type": "code",
   "execution_count": 50,
   "id": "fda4a4e9",
   "metadata": {},
   "outputs": [],
   "source": [
    "del dict_1['Study-Mode']"
   ]
  },
  {
   "cell_type": "code",
   "execution_count": 51,
   "id": "a22ac277",
   "metadata": {},
   "outputs": [
    {
     "data": {
      "text/plain": [
       "{'Name': 'Adity',\n",
       " 'Age': 19,\n",
       " 'current-learning': 'Deep-Learning & Machine-Learning'}"
      ]
     },
     "execution_count": 51,
     "metadata": {},
     "output_type": "execute_result"
    }
   ],
   "source": [
    "dict_1"
   ]
  },
  {
   "cell_type": "code",
   "execution_count": 52,
   "id": "cb713ec5",
   "metadata": {},
   "outputs": [],
   "source": [
    "del dict_1"
   ]
  },
  {
   "cell_type": "code",
   "execution_count": 54,
   "id": "10306930",
   "metadata": {},
   "outputs": [],
   "source": [
    "dict_1 = {'Name':'Adity',\"Study-Mode\":'Online','Age':19,'current-learning':'Deep-Learning & Machine-Learning'}"
   ]
  },
  {
   "cell_type": "code",
   "execution_count": 55,
   "id": "726756f9",
   "metadata": {},
   "outputs": [],
   "source": [
    "dict_1.clear()"
   ]
  },
  {
   "cell_type": "code",
   "execution_count": 56,
   "id": "10b8b69f",
   "metadata": {},
   "outputs": [
    {
     "data": {
      "text/plain": [
       "{}"
      ]
     },
     "execution_count": 56,
     "metadata": {},
     "output_type": "execute_result"
    }
   ],
   "source": [
    "dict_1"
   ]
  },
  {
   "cell_type": "markdown",
   "id": "9c4b5062",
   "metadata": {},
   "source": [
    "# Python - Loop Dictionaries"
   ]
  },
  {
   "cell_type": "code",
   "execution_count": 57,
   "id": "4c913cd6",
   "metadata": {},
   "outputs": [],
   "source": [
    "dict_1 = {'Name':'Adity',\"Study-Mode\":'Online','Age':19,'current-learning':'Deep-Learning & Machine-Learning'}"
   ]
  },
  {
   "cell_type": "code",
   "execution_count": 59,
   "id": "275e9d6e",
   "metadata": {},
   "outputs": [
    {
     "name": "stdout",
     "output_type": "stream",
     "text": [
      "Name\n",
      "Study-Mode\n",
      "Age\n",
      "current-learning\n"
     ]
    }
   ],
   "source": [
    "for x in dict_1:\n",
    "    print(x)"
   ]
  },
  {
   "cell_type": "code",
   "execution_count": 60,
   "id": "dad087a9",
   "metadata": {},
   "outputs": [
    {
     "name": "stdout",
     "output_type": "stream",
     "text": [
      "Adity\n",
      "Online\n",
      "19\n",
      "Deep-Learning & Machine-Learning\n"
     ]
    }
   ],
   "source": [
    "for i in dict_1:\n",
    "    print(dict_1[i])"
   ]
  },
  {
   "cell_type": "code",
   "execution_count": 62,
   "id": "cb97ec0b",
   "metadata": {},
   "outputs": [
    {
     "name": "stdout",
     "output_type": "stream",
     "text": [
      "Name\n",
      "Study-Mode\n",
      "Age\n",
      "current-learning\n"
     ]
    }
   ],
   "source": [
    "for i in dict_1.keys():\n",
    "    print(i)"
   ]
  },
  {
   "cell_type": "code",
   "execution_count": 63,
   "id": "2f984175",
   "metadata": {},
   "outputs": [
    {
     "name": "stdout",
     "output_type": "stream",
     "text": [
      "Adity\n",
      "Online\n",
      "19\n",
      "Deep-Learning & Machine-Learning\n"
     ]
    }
   ],
   "source": [
    "for i in dict_1.values():\n",
    "    print(i)"
   ]
  },
  {
   "cell_type": "code",
   "execution_count": 64,
   "id": "afc0572b",
   "metadata": {},
   "outputs": [
    {
     "name": "stdout",
     "output_type": "stream",
     "text": [
      "Name Adity\n",
      "Study-Mode Online\n",
      "Age 19\n",
      "current-learning Deep-Learning & Machine-Learning\n"
     ]
    }
   ],
   "source": [
    "for x,y in dict_1.items():\n",
    "    print(x,y)"
   ]
  },
  {
   "cell_type": "markdown",
   "id": "4a3a39eb",
   "metadata": {},
   "source": [
    "# Copy a Dictionary"
   ]
  },
  {
   "cell_type": "code",
   "execution_count": 66,
   "id": "7f8aa318",
   "metadata": {},
   "outputs": [],
   "source": [
    "dict_cop = {'Cat':0,'Mat':1,'Sat':2}"
   ]
  },
  {
   "cell_type": "code",
   "execution_count": 67,
   "id": "ad521d82",
   "metadata": {},
   "outputs": [],
   "source": [
    "mydict = dict_cop.copy()"
   ]
  },
  {
   "cell_type": "code",
   "execution_count": 68,
   "id": "bbb53f66",
   "metadata": {},
   "outputs": [
    {
     "name": "stdout",
     "output_type": "stream",
     "text": [
      "{'Cat': 0, 'Mat': 1, 'Sat': 2}\n"
     ]
    }
   ],
   "source": [
    "print(mydict)"
   ]
  },
  {
   "cell_type": "markdown",
   "id": "20f81424",
   "metadata": {},
   "source": [
    "# Nested Dictionaries"
   ]
  },
  {
   "cell_type": "code",
   "execution_count": 78,
   "id": "d1e0d933",
   "metadata": {},
   "outputs": [],
   "source": [
    "mluti_dic = {'child_1':{'name':'sam','passion':'basketball'},\n",
    "             'child_2':{'name':'ram','passion':'cricket'},\n",
    "             'child_3':{'name':'tom','passion':'chess'}\n",
    "            }"
   ]
  },
  {
   "cell_type": "code",
   "execution_count": 79,
   "id": "c408905b",
   "metadata": {},
   "outputs": [
    {
     "data": {
      "text/plain": [
       "'cricket'"
      ]
     },
     "execution_count": 79,
     "metadata": {},
     "output_type": "execute_result"
    }
   ],
   "source": [
    "mluti_dic['child_2']['passion']"
   ]
  },
  {
   "cell_type": "code",
   "execution_count": null,
   "id": "723ab6bc",
   "metadata": {},
   "outputs": [],
   "source": []
  }
 ],
 "metadata": {
  "kernelspec": {
   "display_name": "Python 3 (ipykernel)",
   "language": "python",
   "name": "python3"
  },
  "language_info": {
   "codemirror_mode": {
    "name": "ipython",
    "version": 3
   },
   "file_extension": ".py",
   "mimetype": "text/x-python",
   "name": "python",
   "nbconvert_exporter": "python",
   "pygments_lexer": "ipython3",
   "version": "3.11.2"
  }
 },
 "nbformat": 4,
 "nbformat_minor": 5
}
