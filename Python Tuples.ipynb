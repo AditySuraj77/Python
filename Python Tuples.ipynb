{
 "cells": [
  {
   "cell_type": "markdown",
   "id": "7753ca3e",
   "metadata": {},
   "source": [
    "#  Create Tuples"
   ]
  },
  {
   "cell_type": "code",
   "execution_count": 1,
   "id": "a54b2c51",
   "metadata": {},
   "outputs": [],
   "source": [
    "tup_1 = ('Hello',)"
   ]
  },
  {
   "cell_type": "code",
   "execution_count": 2,
   "id": "b4514e09",
   "metadata": {},
   "outputs": [
    {
     "data": {
      "text/plain": [
       "('Hello',)"
      ]
     },
     "execution_count": 2,
     "metadata": {},
     "output_type": "execute_result"
    }
   ],
   "source": [
    "tup_1"
   ]
  },
  {
   "cell_type": "code",
   "execution_count": 3,
   "id": "c69e48ef",
   "metadata": {},
   "outputs": [
    {
     "data": {
      "text/plain": [
       "tuple"
      ]
     },
     "execution_count": 3,
     "metadata": {},
     "output_type": "execute_result"
    }
   ],
   "source": [
    "type(tup_1)"
   ]
  },
  {
   "cell_type": "code",
   "execution_count": 4,
   "id": "764f1c75",
   "metadata": {},
   "outputs": [],
   "source": [
    "tup_2 = tuple(('hello','dear','welcome','to','titanic'))"
   ]
  },
  {
   "cell_type": "code",
   "execution_count": 5,
   "id": "a10caead",
   "metadata": {},
   "outputs": [
    {
     "data": {
      "text/plain": [
       "('hello', 'dear', 'welcome', 'to', 'titanic')"
      ]
     },
     "execution_count": 5,
     "metadata": {},
     "output_type": "execute_result"
    }
   ],
   "source": [
    "tup_2"
   ]
  },
  {
   "cell_type": "code",
   "execution_count": 7,
   "id": "f46db0de",
   "metadata": {},
   "outputs": [
    {
     "data": {
      "text/plain": [
       "tuple"
      ]
     },
     "execution_count": 7,
     "metadata": {},
     "output_type": "execute_result"
    }
   ],
   "source": [
    "type(tup_2)"
   ]
  },
  {
   "cell_type": "code",
   "execution_count": 8,
   "id": "ccad50f6",
   "metadata": {},
   "outputs": [
    {
     "data": {
      "text/plain": [
       "5"
      ]
     },
     "execution_count": 8,
     "metadata": {},
     "output_type": "execute_result"
    }
   ],
   "source": [
    "len(tup_2)"
   ]
  },
  {
   "cell_type": "markdown",
   "id": "7633e5e1",
   "metadata": {},
   "source": [
    "# Access Tuple Items"
   ]
  },
  {
   "cell_type": "code",
   "execution_count": 9,
   "id": "eee37a86",
   "metadata": {},
   "outputs": [],
   "source": [
    "tup_2 = tuple(('hello','dear','welcome','to','titanic'))"
   ]
  },
  {
   "cell_type": "code",
   "execution_count": 10,
   "id": "b1cab33d",
   "metadata": {},
   "outputs": [
    {
     "data": {
      "text/plain": [
       "'hello'"
      ]
     },
     "execution_count": 10,
     "metadata": {},
     "output_type": "execute_result"
    }
   ],
   "source": [
    "tup_2[0]"
   ]
  },
  {
   "cell_type": "code",
   "execution_count": 11,
   "id": "44f3df6d",
   "metadata": {},
   "outputs": [
    {
     "data": {
      "text/plain": [
       "'titanic'"
      ]
     },
     "execution_count": 11,
     "metadata": {},
     "output_type": "execute_result"
    }
   ],
   "source": [
    "tup_2[-1]"
   ]
  },
  {
   "cell_type": "code",
   "execution_count": 13,
   "id": "9477e9f0",
   "metadata": {},
   "outputs": [
    {
     "data": {
      "text/plain": [
       "('hello', 'dear', 'welcome')"
      ]
     },
     "execution_count": 13,
     "metadata": {},
     "output_type": "execute_result"
    }
   ],
   "source": [
    "tup_2[0:3]"
   ]
  },
  {
   "cell_type": "code",
   "execution_count": 14,
   "id": "c8e81de5",
   "metadata": {},
   "outputs": [
    {
     "data": {
      "text/plain": [
       "('hello', 'dear', 'welcome', 'to', 'titanic')"
      ]
     },
     "execution_count": 14,
     "metadata": {},
     "output_type": "execute_result"
    }
   ],
   "source": [
    "tup_2[:5]"
   ]
  },
  {
   "cell_type": "code",
   "execution_count": 15,
   "id": "0865586a",
   "metadata": {},
   "outputs": [
    {
     "data": {
      "text/plain": [
       "('welcome', 'to', 'titanic')"
      ]
     },
     "execution_count": 15,
     "metadata": {},
     "output_type": "execute_result"
    }
   ],
   "source": [
    "tup_2[2:]"
   ]
  },
  {
   "cell_type": "code",
   "execution_count": 16,
   "id": "5ce456ed",
   "metadata": {},
   "outputs": [
    {
     "data": {
      "text/plain": [
       "('dear', 'welcome', 'to')"
      ]
     },
     "execution_count": 16,
     "metadata": {},
     "output_type": "execute_result"
    }
   ],
   "source": [
    "tup_2[-4:-1]"
   ]
  },
  {
   "cell_type": "code",
   "execution_count": 17,
   "id": "c6deda70",
   "metadata": {},
   "outputs": [
    {
     "name": "stdout",
     "output_type": "stream",
     "text": [
      "Yes to is present in tup_2\n"
     ]
    }
   ],
   "source": [
    "if 'to' in tup_2:\n",
    "    print('Yes',tup_2[3],'is present in tup_2')"
   ]
  },
  {
   "cell_type": "code",
   "execution_count": 18,
   "id": "940bd0de",
   "metadata": {},
   "outputs": [],
   "source": [
    "del tup_2"
   ]
  },
  {
   "cell_type": "code",
   "execution_count": 19,
   "id": "4f3a88ee",
   "metadata": {},
   "outputs": [
    {
     "data": {
      "text/plain": [
       "('Hello',)"
      ]
     },
     "execution_count": 19,
     "metadata": {},
     "output_type": "execute_result"
    }
   ],
   "source": [
    "tup_1"
   ]
  },
  {
   "cell_type": "markdown",
   "id": "93021f99",
   "metadata": {},
   "source": [
    "# Unpack Tuple"
   ]
  },
  {
   "cell_type": "code",
   "execution_count": 26,
   "id": "d2a499c4",
   "metadata": {},
   "outputs": [],
   "source": [
    "fruit = ('apple','cherry','pineapple')"
   ]
  },
  {
   "cell_type": "code",
   "execution_count": 27,
   "id": "d64e32f3",
   "metadata": {},
   "outputs": [
    {
     "data": {
      "text/plain": [
       "('apple', 'cherry', 'pineapple')"
      ]
     },
     "execution_count": 27,
     "metadata": {},
     "output_type": "execute_result"
    }
   ],
   "source": [
    "fruit"
   ]
  },
  {
   "cell_type": "code",
   "execution_count": 28,
   "id": "458dc7a6",
   "metadata": {},
   "outputs": [],
   "source": [
    "(first,second,third) = fruit"
   ]
  },
  {
   "cell_type": "code",
   "execution_count": 29,
   "id": "2de7e751",
   "metadata": {},
   "outputs": [
    {
     "data": {
      "text/plain": [
       "'cherry'"
      ]
     },
     "execution_count": 29,
     "metadata": {},
     "output_type": "execute_result"
    }
   ],
   "source": [
    "second"
   ]
  },
  {
   "cell_type": "code",
   "execution_count": 30,
   "id": "0f307684",
   "metadata": {},
   "outputs": [],
   "source": [
    "fruit = ('apple','cherry','pineapple','banana','gavava','orange')"
   ]
  },
  {
   "cell_type": "code",
   "execution_count": 34,
   "id": "cc8d13e8",
   "metadata": {},
   "outputs": [],
   "source": [
    "(red,blue,*cyan) = fruit   "
   ]
  },
  {
   "cell_type": "code",
   "execution_count": 40,
   "id": "dbb1a5e7",
   "metadata": {},
   "outputs": [],
   "source": [
    "# If the number of variables is less than the number of values, you can add an * \n",
    "#to the variable name and the values will be assigned to the variable as a list:"
   ]
  },
  {
   "cell_type": "code",
   "execution_count": 38,
   "id": "0b399d42",
   "metadata": {},
   "outputs": [
    {
     "data": {
      "text/plain": [
       "['pineapple', 'banana', 'gavava', 'orange']"
      ]
     },
     "execution_count": 38,
     "metadata": {},
     "output_type": "execute_result"
    }
   ],
   "source": [
    "cyan"
   ]
  },
  {
   "cell_type": "markdown",
   "id": "1cad140d",
   "metadata": {},
   "source": [
    "# Looping on tuple"
   ]
  },
  {
   "cell_type": "code",
   "execution_count": 41,
   "id": "62a572b4",
   "metadata": {},
   "outputs": [
    {
     "name": "stdout",
     "output_type": "stream",
     "text": [
      "apple\n",
      "banana\n",
      "cherry\n"
     ]
    }
   ],
   "source": [
    "thistuple = (\"apple\", \"banana\", \"cherry\")\n",
    "i = 0\n",
    "while i < len(thistuple):\n",
    "  print(thistuple[i])\n",
    "  i = i + 1"
   ]
  },
  {
   "cell_type": "code",
   "execution_count": 42,
   "id": "4a55f65a",
   "metadata": {},
   "outputs": [
    {
     "name": "stdout",
     "output_type": "stream",
     "text": [
      "apple\n",
      "banana\n",
      "cherry\n"
     ]
    }
   ],
   "source": [
    "thistuple = (\"apple\", \"banana\", \"cherry\")\n",
    "for i in range(len(thistuple)):\n",
    "  print(thistuple[i])"
   ]
  },
  {
   "cell_type": "code",
   "execution_count": 43,
   "id": "4a7c6753",
   "metadata": {},
   "outputs": [
    {
     "name": "stdout",
     "output_type": "stream",
     "text": [
      "apple\n",
      "banana\n",
      "cherry\n"
     ]
    }
   ],
   "source": [
    "thistuple = (\"apple\", \"banana\", \"cherry\")\n",
    "for x in thistuple:\n",
    "  print(x)"
   ]
  },
  {
   "cell_type": "markdown",
   "id": "1e730bbe",
   "metadata": {},
   "source": [
    "# Join"
   ]
  },
  {
   "cell_type": "code",
   "execution_count": 44,
   "id": "c955c10c",
   "metadata": {},
   "outputs": [
    {
     "data": {
      "text/plain": [
       "('bell',\n",
       " 'tell',\n",
       " 'chell',\n",
       " 'bell',\n",
       " 'tell',\n",
       " 'chell',\n",
       " 'bell',\n",
       " 'tell',\n",
       " 'chell',\n",
       " 'bell',\n",
       " 'tell',\n",
       " 'chell',\n",
       " 'bell',\n",
       " 'tell',\n",
       " 'chell')"
      ]
     },
     "execution_count": 44,
     "metadata": {},
     "output_type": "execute_result"
    }
   ],
   "source": [
    "this_tup = ('bell','tell','chell')\n",
    "this_tup * 5"
   ]
  },
  {
   "cell_type": "code",
   "execution_count": 45,
   "id": "02147be6",
   "metadata": {},
   "outputs": [],
   "source": [
    "tup_f= (1,2,3,4,5)\n",
    "tup_s = (6,7,8,9,10)\n",
    "tup_add = tup_f + tup_s"
   ]
  },
  {
   "cell_type": "code",
   "execution_count": 46,
   "id": "8a31407e",
   "metadata": {},
   "outputs": [
    {
     "data": {
      "text/plain": [
       "(1, 2, 3, 4, 5, 6, 7, 8, 9, 10)"
      ]
     },
     "execution_count": 46,
     "metadata": {},
     "output_type": "execute_result"
    }
   ],
   "source": [
    "tup_add"
   ]
  },
  {
   "cell_type": "markdown",
   "id": "b420456e",
   "metadata": {},
   "source": [
    "# tuple Function"
   ]
  },
  {
   "cell_type": "code",
   "execution_count": 51,
   "id": "7a65b3de",
   "metadata": {},
   "outputs": [
    {
     "data": {
      "text/plain": [
       "1"
      ]
     },
     "execution_count": 51,
     "metadata": {},
     "output_type": "execute_result"
    }
   ],
   "source": [
    "fruit.count(\"orange\")"
   ]
  },
  {
   "cell_type": "code",
   "execution_count": 57,
   "id": "d094c6da",
   "metadata": {},
   "outputs": [
    {
     "data": {
      "text/plain": [
       "2"
      ]
     },
     "execution_count": 57,
     "metadata": {},
     "output_type": "execute_result"
    }
   ],
   "source": [
    "tup_add.index(3)"
   ]
  },
  {
   "cell_type": "code",
   "execution_count": null,
   "id": "731b1ba8",
   "metadata": {},
   "outputs": [],
   "source": []
  }
 ],
 "metadata": {
  "kernelspec": {
   "display_name": "Python 3 (ipykernel)",
   "language": "python",
   "name": "python3"
  },
  "language_info": {
   "codemirror_mode": {
    "name": "ipython",
    "version": 3
   },
   "file_extension": ".py",
   "mimetype": "text/x-python",
   "name": "python",
   "nbconvert_exporter": "python",
   "pygments_lexer": "ipython3",
   "version": "3.11.2"
  }
 },
 "nbformat": 4,
 "nbformat_minor": 5
}
