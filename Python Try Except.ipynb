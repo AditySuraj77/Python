{
 "cells": [
  {
   "cell_type": "markdown",
   "id": "bdcf6f4b",
   "metadata": {},
   "source": [
    "##### The try: block lets you test a block of code for errors.\n",
    "\n",
    "#### The except: block lets you handle the error.\n",
    "\n",
    "#### The else: block lets you execute code when there is no error.\n",
    "\n",
    "#### The finally: block lets you execute code, regardless of the result of the try- and except blocks.\n",
    "\n",
    "# Exception Handling\n",
    "#### When an error occurs, or exception as we call it, Python will normally stop and generate an error message.\n",
    "\n",
    "#### These exceptions can be handled using the try statement:"
   ]
  },
  {
   "cell_type": "code",
   "execution_count": 4,
   "id": "9c2d4b53",
   "metadata": {},
   "outputs": [
    {
     "name": "stdout",
     "output_type": "stream",
     "text": [
      "SomeThings Went Wrong Please Wait\n"
     ]
    }
   ],
   "source": [
    "try:\n",
    "    print(x)\n",
    "except:\n",
    "    \n",
    "    print('SomeThings Went Wrong Please Wait')\n",
    "    "
   ]
  },
  {
   "cell_type": "markdown",
   "id": "92015d23",
   "metadata": {},
   "source": [
    "# Many Exceptions\n",
    "### You can define as many exception blocks as you want, e.g. if you want to execute a special block of code for a special kind of error:"
   ]
  },
  {
   "cell_type": "code",
   "execution_count": 9,
   "id": "f74c3586",
   "metadata": {},
   "outputs": [
    {
     "name": "stdout",
     "output_type": "stream",
     "text": [
      "Variable \"x\" is not defined\n"
     ]
    }
   ],
   "source": [
    "try:\n",
    "    print(x)\n",
    "except NameError:\n",
    "    print('Variable \"x\" is not defined')\n",
    "except:\n",
    "    print('SomeThings Went wrong Please wait')"
   ]
  },
  {
   "cell_type": "markdown",
   "id": "b34184a3",
   "metadata": {},
   "source": [
    "# Else\n",
    "### You can use the else keyword to define a block of code to be executed if no errors were raised:"
   ]
  },
  {
   "cell_type": "code",
   "execution_count": 11,
   "id": "73d2bcde",
   "metadata": {},
   "outputs": [
    {
     "name": "stdout",
     "output_type": "stream",
     "text": [
      "Hello\n",
      "Nothing Went Wrong\n"
     ]
    }
   ],
   "source": [
    "try:\n",
    "    print('Hello')\n",
    "except:\n",
    "    print('SomeThing Went Wrong')\n",
    "else:\n",
    "    print('Nothing Went Wrong')"
   ]
  },
  {
   "cell_type": "markdown",
   "id": "93ecd7df",
   "metadata": {},
   "source": [
    "# Finally\n",
    "### The finally block, if specified, will be executed regardless if the try block raises an error or not."
   ]
  },
  {
   "cell_type": "code",
   "execution_count": 12,
   "id": "ec964ffe",
   "metadata": {},
   "outputs": [
    {
     "name": "stdout",
     "output_type": "stream",
     "text": [
      "SomeThing Went Wrong\n",
      "try exception was complete\n"
     ]
    }
   ],
   "source": [
    "try:\n",
    "    print(x)\n",
    "except:\n",
    "    print('SomeThing Went Wrong')\n",
    "finally:\n",
    "    print('try exception was complete')"
   ]
  },
  {
   "cell_type": "markdown",
   "id": "c94547a7",
   "metadata": {},
   "source": [
    "Example :"
   ]
  },
  {
   "cell_type": "code",
   "execution_count": 13,
   "id": "0dc1c033",
   "metadata": {},
   "outputs": [
    {
     "name": "stdout",
     "output_type": "stream",
     "text": [
      "Something went wrong when opening the file\n"
     ]
    }
   ],
   "source": [
    "try:\n",
    "  f = open(\"demofile.txt\")\n",
    "  try:\n",
    "    f.write(\"Lorum Ipsum\")\n",
    "  except:\n",
    "    print(\"Something went wrong when writing to the file\")\n",
    "  finally:\n",
    "    f.close()\n",
    "except:\n",
    "  print(\"Something went wrong when opening the file\")"
   ]
  },
  {
   "cell_type": "markdown",
   "id": "18b955c6",
   "metadata": {},
   "source": [
    "# Raise an exception\n",
    "### As a Python developer you can choose to throw an exception if a condition occurs.\n",
    "\n",
    "#### To throw (or raise) an exception, use the raise keyword."
   ]
  },
  {
   "cell_type": "code",
   "execution_count": 15,
   "id": "9e46dbfb",
   "metadata": {},
   "outputs": [],
   "source": [
    "i = 1\n",
    "if i <0:\n",
    "    raise Exception('Sorry no number below zero')"
   ]
  },
  {
   "cell_type": "code",
   "execution_count": 19,
   "id": "0bc259a5",
   "metadata": {},
   "outputs": [
    {
     "ename": "Exception",
     "evalue": "Not",
     "output_type": "error",
     "traceback": [
      "\u001b[1;31m---------------------------------------------------------------------------\u001b[0m",
      "\u001b[1;31mException\u001b[0m                                 Traceback (most recent call last)",
      "Cell \u001b[1;32mIn[19], line 3\u001b[0m\n\u001b[0;32m      1\u001b[0m word \u001b[38;5;241m=\u001b[39m \u001b[38;5;124m'\u001b[39m\u001b[38;5;124mheloo\u001b[39m\u001b[38;5;124m'\u001b[39m\n\u001b[0;32m      2\u001b[0m \u001b[38;5;28;01mif\u001b[39;00m \u001b[38;5;129;01mnot\u001b[39;00m \u001b[38;5;28mtype\u001b[39m(word) \u001b[38;5;129;01mis\u001b[39;00m \u001b[38;5;28mint\u001b[39m:\n\u001b[1;32m----> 3\u001b[0m     \u001b[38;5;28;01mraise\u001b[39;00m \u001b[38;5;167;01mException\u001b[39;00m(\u001b[38;5;124m'\u001b[39m\u001b[38;5;124mNot\u001b[39m\u001b[38;5;124m'\u001b[39m)\n",
      "\u001b[1;31mException\u001b[0m: Not"
     ]
    }
   ],
   "source": [
    "word = 'heloo'\n",
    "if not type(word) is int:\n",
    "    raise Exception('Not')"
   ]
  },
  {
   "cell_type": "code",
   "execution_count": null,
   "id": "74a2fdbb",
   "metadata": {},
   "outputs": [],
   "source": []
  }
 ],
 "metadata": {
  "kernelspec": {
   "display_name": "Python 3 (ipykernel)",
   "language": "python",
   "name": "python3"
  },
  "language_info": {
   "codemirror_mode": {
    "name": "ipython",
    "version": 3
   },
   "file_extension": ".py",
   "mimetype": "text/x-python",
   "name": "python",
   "nbconvert_exporter": "python",
   "pygments_lexer": "ipython3",
   "version": "3.11.2"
  }
 },
 "nbformat": 4,
 "nbformat_minor": 5
}
