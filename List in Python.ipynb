{
 "cells": [
  {
   "cell_type": "markdown",
   "id": "526aaf35",
   "metadata": {},
   "source": [
    "# Creating List"
   ]
  },
  {
   "cell_type": "code",
   "execution_count": 12,
   "id": "835276fb",
   "metadata": {},
   "outputs": [
    {
     "data": {
      "text/plain": [
       "['apple', 'banana', 'mango', 'watermelon']"
      ]
     },
     "execution_count": 12,
     "metadata": {},
     "output_type": "execute_result"
    }
   ],
   "source": [
    "f_list = ['apple','banana','mango','watermelon']\n",
    "f_list"
   ]
  },
  {
   "cell_type": "code",
   "execution_count": 2,
   "id": "ca01b6d0",
   "metadata": {},
   "outputs": [
    {
     "data": {
      "text/plain": [
       "list"
      ]
     },
     "execution_count": 2,
     "metadata": {},
     "output_type": "execute_result"
    }
   ],
   "source": [
    "type(f_list)"
   ]
  },
  {
   "cell_type": "code",
   "execution_count": null,
   "id": "95c4f042",
   "metadata": {},
   "outputs": [],
   "source": [
    "len(f_list)"
   ]
  },
  {
   "cell_type": "code",
   "execution_count": 5,
   "id": "80a2dc26",
   "metadata": {},
   "outputs": [],
   "source": [
    "s_list = ['apple',33,5.5,True,4+4]"
   ]
  },
  {
   "cell_type": "code",
   "execution_count": 6,
   "id": "e009f705",
   "metadata": {},
   "outputs": [
    {
     "data": {
      "text/plain": [
       "['apple', 33, 5.5, True, 8]"
      ]
     },
     "execution_count": 6,
     "metadata": {},
     "output_type": "execute_result"
    }
   ],
   "source": [
    "s_list"
   ]
  },
  {
   "cell_type": "code",
   "execution_count": 9,
   "id": "74948ca5",
   "metadata": {},
   "outputs": [],
   "source": [
    "fet_s_list = s_list[1]"
   ]
  },
  {
   "cell_type": "code",
   "execution_count": 11,
   "id": "b1de7ebb",
   "metadata": {},
   "outputs": [
    {
     "data": {
      "text/plain": [
       "int"
      ]
     },
     "execution_count": 11,
     "metadata": {},
     "output_type": "execute_result"
    }
   ],
   "source": [
    "type(fet_s_list)"
   ]
  },
  {
   "cell_type": "code",
   "execution_count": 13,
   "id": "4bb962a9",
   "metadata": {},
   "outputs": [
    {
     "data": {
      "text/plain": [
       "list['apple', 'none', 44, 5.5, True]"
      ]
     },
     "execution_count": 13,
     "metadata": {},
     "output_type": "execute_result"
    }
   ],
   "source": [
    "list['apple','none',44,5.5,True]"
   ]
  },
  {
   "cell_type": "markdown",
   "id": "227367cf",
   "metadata": {},
   "source": [
    "# Access Items"
   ]
  },
  {
   "cell_type": "code",
   "execution_count": 15,
   "id": "67315d90",
   "metadata": {},
   "outputs": [],
   "source": [
    "fo_list = [\"apple\", \"banana\", \"cherry\", \"orange\", \"kiwi\", \"melon\", \"mango\"]"
   ]
  },
  {
   "cell_type": "code",
   "execution_count": 16,
   "id": "d139ce11",
   "metadata": {},
   "outputs": [
    {
     "data": {
      "text/plain": [
       "list"
      ]
     },
     "execution_count": 16,
     "metadata": {},
     "output_type": "execute_result"
    }
   ],
   "source": [
    "type(fo_list)"
   ]
  },
  {
   "cell_type": "code",
   "execution_count": 18,
   "id": "b887bd8b",
   "metadata": {},
   "outputs": [
    {
     "data": {
      "text/plain": [
       "'banana'"
      ]
     },
     "execution_count": 18,
     "metadata": {},
     "output_type": "execute_result"
    }
   ],
   "source": [
    "fo_list[1]"
   ]
  },
  {
   "cell_type": "code",
   "execution_count": 19,
   "id": "94a65079",
   "metadata": {},
   "outputs": [
    {
     "data": {
      "text/plain": [
       "'mango'"
      ]
     },
     "execution_count": 19,
     "metadata": {},
     "output_type": "execute_result"
    }
   ],
   "source": [
    "fo_list[-1]"
   ]
  },
  {
   "cell_type": "code",
   "execution_count": 20,
   "id": "9cbbdf98",
   "metadata": {},
   "outputs": [
    {
     "data": {
      "text/plain": [
       "['cherry', 'orange', 'kiwi']"
      ]
     },
     "execution_count": 20,
     "metadata": {},
     "output_type": "execute_result"
    }
   ],
   "source": [
    "fo_list[2:5]"
   ]
  },
  {
   "cell_type": "code",
   "execution_count": 21,
   "id": "aacd7970",
   "metadata": {},
   "outputs": [
    {
     "data": {
      "text/plain": [
       "['apple', 'banana', 'cherry', 'orange']"
      ]
     },
     "execution_count": 21,
     "metadata": {},
     "output_type": "execute_result"
    }
   ],
   "source": [
    "fo_list[:4]"
   ]
  },
  {
   "cell_type": "code",
   "execution_count": 22,
   "id": "3111021e",
   "metadata": {},
   "outputs": [
    {
     "data": {
      "text/plain": [
       "['cherry', 'orange', 'kiwi', 'melon', 'mango']"
      ]
     },
     "execution_count": 22,
     "metadata": {},
     "output_type": "execute_result"
    }
   ],
   "source": [
    "fo_list[2:]"
   ]
  },
  {
   "cell_type": "code",
   "execution_count": 23,
   "id": "e197235a",
   "metadata": {},
   "outputs": [
    {
     "data": {
      "text/plain": [
       "['orange', 'kiwi', 'melon']"
      ]
     },
     "execution_count": 23,
     "metadata": {},
     "output_type": "execute_result"
    }
   ],
   "source": [
    "fo_list[-4:-1]"
   ]
  },
  {
   "cell_type": "code",
   "execution_count": 24,
   "id": "6af0f8ff",
   "metadata": {},
   "outputs": [
    {
     "name": "stdout",
     "output_type": "stream",
     "text": [
      "Yes melon in the list\n"
     ]
    }
   ],
   "source": [
    "if 'melon' in fo_list:\n",
    "    print(\"Yes\",fo_list[5],\"in the list\")"
   ]
  },
  {
   "cell_type": "markdown",
   "id": "3302abac",
   "metadata": {},
   "source": [
    "# Change Item Value"
   ]
  },
  {
   "cell_type": "code",
   "execution_count": 25,
   "id": "00bffdf4",
   "metadata": {},
   "outputs": [],
   "source": [
    "ch_list = [\"apple\", \"banana\", \"cherry\", \"orange\", \"kiwi\", \"mango\"]"
   ]
  },
  {
   "cell_type": "code",
   "execution_count": 26,
   "id": "303c1714",
   "metadata": {},
   "outputs": [],
   "source": [
    "ch_list[1] = 'BananaShake'"
   ]
  },
  {
   "cell_type": "code",
   "execution_count": 27,
   "id": "173eabd2",
   "metadata": {},
   "outputs": [
    {
     "data": {
      "text/plain": [
       "['apple', 'BananaShake', 'cherry', 'orange', 'kiwi', 'mango']"
      ]
     },
     "execution_count": 27,
     "metadata": {},
     "output_type": "execute_result"
    }
   ],
   "source": [
    "ch_list"
   ]
  },
  {
   "cell_type": "code",
   "execution_count": 28,
   "id": "a2cbd3ca",
   "metadata": {},
   "outputs": [],
   "source": [
    "ch_list[1:3] = ['BananaShake','StrawBerry']"
   ]
  },
  {
   "cell_type": "code",
   "execution_count": 29,
   "id": "1f0545fb",
   "metadata": {},
   "outputs": [
    {
     "data": {
      "text/plain": [
       "['apple', 'BananaShake', 'StrawBerry', 'orange', 'kiwi', 'mango']"
      ]
     },
     "execution_count": 29,
     "metadata": {},
     "output_type": "execute_result"
    }
   ],
   "source": [
    "ch_list"
   ]
  },
  {
   "cell_type": "code",
   "execution_count": 30,
   "id": "b2efa205",
   "metadata": {},
   "outputs": [],
   "source": [
    "ch_list[1:2] = ['BananaShake','StrawBerry']"
   ]
  },
  {
   "cell_type": "code",
   "execution_count": 31,
   "id": "82919757",
   "metadata": {},
   "outputs": [
    {
     "data": {
      "text/plain": [
       "['apple', 'BananaShake', 'StrawBerry', 'StrawBerry', 'orange', 'kiwi', 'mango']"
      ]
     },
     "execution_count": 31,
     "metadata": {},
     "output_type": "execute_result"
    }
   ],
   "source": [
    "ch_list"
   ]
  },
  {
   "cell_type": "code",
   "execution_count": 32,
   "id": "8313fede",
   "metadata": {},
   "outputs": [],
   "source": [
    "ch_list[1:3] = ['Graphes']"
   ]
  },
  {
   "cell_type": "code",
   "execution_count": 35,
   "id": "0478ef26",
   "metadata": {},
   "outputs": [
    {
     "data": {
      "text/plain": [
       "['apple', 'Graphes', 'StrawBerry', 'orange', 'kiwi', 'mango']"
      ]
     },
     "execution_count": 35,
     "metadata": {},
     "output_type": "execute_result"
    }
   ],
   "source": [
    "ch_list"
   ]
  },
  {
   "cell_type": "markdown",
   "id": "47996e5d",
   "metadata": {},
   "source": [
    "# Insert Items"
   ]
  },
  {
   "cell_type": "code",
   "execution_count": 36,
   "id": "92efee90",
   "metadata": {},
   "outputs": [],
   "source": [
    "ins_list = [\"apple\", \"banana\", \"cherry\", \"orange\", \"kiwi\", \"mango\"]"
   ]
  },
  {
   "cell_type": "code",
   "execution_count": 44,
   "id": "a21d4997",
   "metadata": {},
   "outputs": [],
   "source": [
    "ins_list.insert(2,'Babab')"
   ]
  },
  {
   "cell_type": "code",
   "execution_count": 45,
   "id": "961441ca",
   "metadata": {},
   "outputs": [
    {
     "data": {
      "text/plain": [
       "['apple',\n",
       " 'banana',\n",
       " 'Babab',\n",
       " 'cherry',\n",
       " 'orange',\n",
       " 'kiwi',\n",
       " 'KacchaMango',\n",
       " 'KacchaMango',\n",
       " 'KacchaMango',\n",
       " 'mango']"
      ]
     },
     "execution_count": 45,
     "metadata": {},
     "output_type": "execute_result"
    }
   ],
   "source": [
    "ins_list"
   ]
  },
  {
   "cell_type": "markdown",
   "id": "98ab0fa2",
   "metadata": {},
   "source": [
    "# Add List Items\n"
   ]
  },
  {
   "cell_type": "code",
   "execution_count": 46,
   "id": "a98f13cb",
   "metadata": {},
   "outputs": [],
   "source": [
    "# Append\n",
    "thislist = [\"apple\", \"banana\", \"cherry\"]\n",
    "thislist.append('Orange')"
   ]
  },
  {
   "cell_type": "code",
   "execution_count": 47,
   "id": "dcfdce31",
   "metadata": {},
   "outputs": [
    {
     "data": {
      "text/plain": [
       "['apple', 'banana', 'cherry', 'Orange']"
      ]
     },
     "execution_count": 47,
     "metadata": {},
     "output_type": "execute_result"
    }
   ],
   "source": [
    "thislist"
   ]
  },
  {
   "cell_type": "code",
   "execution_count": 48,
   "id": "8a97b29d",
   "metadata": {},
   "outputs": [],
   "source": [
    "# Insert\n",
    "thislist.insert(1,'Gavava')"
   ]
  },
  {
   "cell_type": "code",
   "execution_count": 49,
   "id": "cc708f21",
   "metadata": {},
   "outputs": [
    {
     "data": {
      "text/plain": [
       "['apple', 'Gavava', 'banana', 'cherry', 'Orange']"
      ]
     },
     "execution_count": 49,
     "metadata": {},
     "output_type": "execute_result"
    }
   ],
   "source": [
    "thislist"
   ]
  },
  {
   "cell_type": "code",
   "execution_count": 50,
   "id": "13e04066",
   "metadata": {},
   "outputs": [],
   "source": [
    "# extend\n",
    "thislist = [\"apple\", \"banana\", \"cherry\"]\n",
    "tropical = [\"mango\", \"pineapple\", \"papaya\"]\n",
    "thislist.extend(tropical)"
   ]
  },
  {
   "cell_type": "code",
   "execution_count": 51,
   "id": "6e1aeb1e",
   "metadata": {},
   "outputs": [
    {
     "data": {
      "text/plain": [
       "['apple', 'banana', 'cherry', 'mango', 'pineapple', 'papaya']"
      ]
     },
     "execution_count": 51,
     "metadata": {},
     "output_type": "execute_result"
    }
   ],
   "source": [
    "thislist"
   ]
  },
  {
   "cell_type": "code",
   "execution_count": 64,
   "id": "d88a2502",
   "metadata": {},
   "outputs": [
    {
     "name": "stdout",
     "output_type": "stream",
     "text": [
      "['apple', 'banana', 'cherry', 'kiwi', 'orange']\n"
     ]
    }
   ],
   "source": [
    "thislist = [\"apple\", \"banana\", \"cherry\"]\n",
    "thistuple = (\"kiwi\", \"orange\")\n",
    "thislist.extend(thistuple)\n",
    "print(thislist)"
   ]
  },
  {
   "cell_type": "code",
   "execution_count": 65,
   "id": "f87da84b",
   "metadata": {},
   "outputs": [],
   "source": [
    "ex"
   ]
  },
  {
   "cell_type": "markdown",
   "id": "f44ad697",
   "metadata": {},
   "source": [
    "# Remove List Items"
   ]
  },
  {
   "cell_type": "code",
   "execution_count": 71,
   "id": "7f03174b",
   "metadata": {},
   "outputs": [],
   "source": [
    "fruitlist = [\"apple\", \"banana\", \"cherry\"]"
   ]
  },
  {
   "cell_type": "code",
   "execution_count": 72,
   "id": "25fbc6dc",
   "metadata": {},
   "outputs": [],
   "source": [
    "# remove\n",
    "fruitlist.remove('cherry')"
   ]
  },
  {
   "cell_type": "code",
   "execution_count": 73,
   "id": "9596345c",
   "metadata": {},
   "outputs": [
    {
     "data": {
      "text/plain": [
       "['apple', 'banana']"
      ]
     },
     "execution_count": 73,
     "metadata": {},
     "output_type": "execute_result"
    }
   ],
   "source": [
    "fruitlist"
   ]
  },
  {
   "cell_type": "code",
   "execution_count": 74,
   "id": "9ff72488",
   "metadata": {},
   "outputs": [
    {
     "data": {
      "text/plain": [
       "'banana'"
      ]
     },
     "execution_count": 74,
     "metadata": {},
     "output_type": "execute_result"
    }
   ],
   "source": [
    "# pop()\n",
    "fruitlist.pop(1)"
   ]
  },
  {
   "cell_type": "code",
   "execution_count": 75,
   "id": "a1e6e51d",
   "metadata": {},
   "outputs": [
    {
     "data": {
      "text/plain": [
       "['apple']"
      ]
     },
     "execution_count": 75,
     "metadata": {},
     "output_type": "execute_result"
    }
   ],
   "source": [
    "fruitlist"
   ]
  },
  {
   "cell_type": "code",
   "execution_count": 76,
   "id": "766192f7",
   "metadata": {},
   "outputs": [],
   "source": [
    "fruitlist = [\"apple\", \"banana\", \"cherry\"]"
   ]
  },
  {
   "cell_type": "code",
   "execution_count": 77,
   "id": "e29f78bb",
   "metadata": {},
   "outputs": [
    {
     "data": {
      "text/plain": [
       "['apple', 'banana', 'cherry']"
      ]
     },
     "execution_count": 77,
     "metadata": {},
     "output_type": "execute_result"
    }
   ],
   "source": [
    "fruitlist"
   ]
  },
  {
   "cell_type": "code",
   "execution_count": 78,
   "id": "4579a3ce",
   "metadata": {},
   "outputs": [],
   "source": [
    "del fruitlist[0] # del fuction"
   ]
  },
  {
   "cell_type": "code",
   "execution_count": 79,
   "id": "df9b38d2",
   "metadata": {},
   "outputs": [
    {
     "data": {
      "text/plain": [
       "['banana', 'cherry']"
      ]
     },
     "execution_count": 79,
     "metadata": {},
     "output_type": "execute_result"
    }
   ],
   "source": [
    "fruitlist"
   ]
  },
  {
   "cell_type": "code",
   "execution_count": 80,
   "id": "adb975b6",
   "metadata": {},
   "outputs": [],
   "source": [
    "fruitlist = [\"apple\", \"banana\", \"cherry\"]"
   ]
  },
  {
   "cell_type": "code",
   "execution_count": 83,
   "id": "c068391c",
   "metadata": {},
   "outputs": [],
   "source": [
    "fruitlist.clear() # clear"
   ]
  },
  {
   "cell_type": "code",
   "execution_count": 84,
   "id": "9c27b489",
   "metadata": {},
   "outputs": [
    {
     "data": {
      "text/plain": [
       "[]"
      ]
     },
     "execution_count": 84,
     "metadata": {},
     "output_type": "execute_result"
    }
   ],
   "source": [
    "fruitlist"
   ]
  },
  {
   "cell_type": "code",
   "execution_count": null,
   "id": "7317d821",
   "metadata": {},
   "outputs": [],
   "source": []
  }
 ],
 "metadata": {
  "kernelspec": {
   "display_name": "Python 3 (ipykernel)",
   "language": "python",
   "name": "python3"
  },
  "language_info": {
   "codemirror_mode": {
    "name": "ipython",
    "version": 3
   },
   "file_extension": ".py",
   "mimetype": "text/x-python",
   "name": "python",
   "nbconvert_exporter": "python",
   "pygments_lexer": "ipython3",
   "version": "3.11.2"
  }
 },
 "nbformat": 4,
 "nbformat_minor": 5
}
