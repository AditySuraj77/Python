{
 "cells": [
  {
   "cell_type": "code",
   "execution_count": 1,
   "id": "2c4f3446",
   "metadata": {},
   "outputs": [],
   "source": [
    "import os"
   ]
  },
  {
   "cell_type": "code",
   "execution_count": 2,
   "id": "318e5618",
   "metadata": {},
   "outputs": [],
   "source": [
    "os.remove('rem.txt')"
   ]
  },
  {
   "cell_type": "markdown",
   "id": "e960bb5d",
   "metadata": {},
   "source": [
    "# Check if File exist"
   ]
  },
  {
   "cell_type": "code",
   "execution_count": 3,
   "id": "47569a73",
   "metadata": {},
   "outputs": [
    {
     "name": "stdout",
     "output_type": "stream",
     "text": [
      "File Dosnt Exists\n"
     ]
    }
   ],
   "source": [
    "if os.path.exists('rem.txt'):\n",
    "    os.remove('rem.txt')\n",
    "else:\n",
    "    print('File Dosnt Exists')"
   ]
  },
  {
   "cell_type": "markdown",
   "id": "a2998e3e",
   "metadata": {},
   "source": [
    "# Delete Folder"
   ]
  },
  {
   "cell_type": "code",
   "execution_count": 4,
   "id": "9828194f",
   "metadata": {},
   "outputs": [],
   "source": [
    "os.rmdir('rem_foler/')"
   ]
  },
  {
   "cell_type": "code",
   "execution_count": null,
   "id": "46543f02",
   "metadata": {},
   "outputs": [],
   "source": []
  }
 ],
 "metadata": {
  "kernelspec": {
   "display_name": "Python 3 (ipykernel)",
   "language": "python",
   "name": "python3"
  },
  "language_info": {
   "codemirror_mode": {
    "name": "ipython",
    "version": 3
   },
   "file_extension": ".py",
   "mimetype": "text/x-python",
   "name": "python",
   "nbconvert_exporter": "python",
   "pygments_lexer": "ipython3",
   "version": "3.11.2"
  }
 },
 "nbformat": 4,
 "nbformat_minor": 5
}
