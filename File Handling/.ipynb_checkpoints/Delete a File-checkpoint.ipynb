{
 "cells": [
  {
   "cell_type": "code",
   "execution_count": 1,
   "id": "4d000207",
   "metadata": {},
   "outputs": [],
   "source": [
    "import os"
   ]
  },
  {
   "cell_type": "code",
   "execution_count": 2,
   "id": "ee93536c",
   "metadata": {},
   "outputs": [],
   "source": [
    "os.remove('rem.txt')"
   ]
  },
  {
   "cell_type": "markdown",
   "id": "089209b0",
   "metadata": {},
   "source": [
    "# Check if File exist"
   ]
  },
  {
   "cell_type": "code",
   "execution_count": 3,
   "id": "458be6b7",
   "metadata": {},
   "outputs": [
    {
     "name": "stdout",
     "output_type": "stream",
     "text": [
      "File Dosnt Exists\n"
     ]
    }
   ],
   "source": [
    "if os.path.exists('rem.txt'):\n",
    "    os.remove('rem.txt')\n",
    "else:\n",
    "    print('File Dosnt Exists')"
   ]
  },
  {
   "cell_type": "markdown",
   "id": "2d7c58af",
   "metadata": {},
   "source": [
    "# Delete Folder"
   ]
  },
  {
   "cell_type": "code",
   "execution_count": 4,
   "id": "c1026991",
   "metadata": {},
   "outputs": [],
   "source": [
    "os.rmdir('rem_foler/')"
   ]
  },
  {
   "cell_type": "code",
   "execution_count": null,
   "id": "2154a9e3",
   "metadata": {},
   "outputs": [],
   "source": []
  }
 ],
 "metadata": {
  "kernelspec": {
   "display_name": "Python 3 (ipykernel)",
   "language": "python",
   "name": "python3"
  },
  "language_info": {
   "codemirror_mode": {
    "name": "ipython",
    "version": 3
   },
   "file_extension": ".py",
   "mimetype": "text/x-python",
   "name": "python",
   "nbconvert_exporter": "python",
   "pygments_lexer": "ipython3",
   "version": "3.11.2"
  }
 },
 "nbformat": 4,
 "nbformat_minor": 5
}
