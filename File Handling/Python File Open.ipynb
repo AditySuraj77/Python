{
 "cells": [
  {
   "cell_type": "code",
   "execution_count": 3,
   "id": "7297132a",
   "metadata": {},
   "outputs": [
    {
     "data": {
      "text/plain": [
       "'The Amazon rainforest, covering much of northwestern Brazil and extending into Colombia, Peru and other South American countries, is the world’s largest tropical rainforest, famed for its biodiversity. It’s crisscrossed by thousands of rivers, including the powerful Amazon. River towns, with 19th-century architecture from rubber-boom days, include Brazil’s Manaus and Belém and Peru’s Iquitos and Puerto Maldonado'"
      ]
     },
     "execution_count": 3,
     "metadata": {},
     "output_type": "execute_result"
    }
   ],
   "source": [
    "f = open('demofile.txt','r')\n",
    "f.read()"
   ]
  },
  {
   "cell_type": "markdown",
   "id": "43c036c8",
   "metadata": {},
   "source": [
    "# Read Only Parts of the File"
   ]
  },
  {
   "cell_type": "code",
   "execution_count": 12,
   "id": "6978535f",
   "metadata": {},
   "outputs": [
    {
     "data": {
      "text/plain": [
       "'The Amazon rainforest, covering much of northwestern Brazil and extending into Colombia, Peru and ot'"
      ]
     },
     "execution_count": 12,
     "metadata": {},
     "output_type": "execute_result"
    }
   ],
   "source": [
    "f = open('demofile.txt','r')\n",
    "f.read(100)"
   ]
  },
  {
   "cell_type": "markdown",
   "id": "71720d83",
   "metadata": {},
   "source": [
    "# Read Lines"
   ]
  },
  {
   "cell_type": "code",
   "execution_count": 19,
   "id": "bd0b4ff9",
   "metadata": {},
   "outputs": [
    {
     "data": {
      "text/plain": [
       "'The Amazon rainforest, covering much of northwestern Brazil and extending into Colombia, Peru and other South American countries, is the world’s largest tropical rainforest, famed for its biodiversity. It’s crisscrossed by thousands of rivers, including the powerful Amazon. River towns, with 19th-century architecture from rubber-boom days, include Brazil’s Manaus and Belém and Peru’s Iquitos and Puerto Maldonado'"
      ]
     },
     "execution_count": 19,
     "metadata": {},
     "output_type": "execute_result"
    }
   ],
   "source": [
    "f = open('demofile.txt','r')\n",
    "f.readline()"
   ]
  },
  {
   "cell_type": "markdown",
   "id": "01d789bf",
   "metadata": {},
   "source": [
    "# Read file with Loop"
   ]
  },
  {
   "cell_type": "code",
   "execution_count": 24,
   "id": "3c016954",
   "metadata": {},
   "outputs": [
    {
     "name": "stdout",
     "output_type": "stream",
     "text": [
      "The Amazon rainforest, covering much of northwestern Brazil and extending into Colombia, Peru and other South American countries, is the world’s largest tropical rainforest, famed for its biodiversity. It’s crisscrossed by thousands of rivers, including the powerful Amazon. River towns, with 19th-century architecture from rubber-boom days, include Brazil’s Manaus and Belém and Peru’s Iquitos and Puerto Maldonado\n"
     ]
    }
   ],
   "source": [
    "f = open('demofile.txt','r')\n",
    "\n",
    "for x in f:\n",
    "    print(x)"
   ]
  },
  {
   "cell_type": "code",
   "execution_count": 22,
   "id": "906b66af",
   "metadata": {},
   "outputs": [
    {
     "name": "stdout",
     "output_type": "stream",
     "text": [
      "The Amazon rainforest, covering much of northwestern Brazil and extending into Colombia, Peru and other South American countries, is the world’s largest tropical rainforest, famed for its biodiversity. It’s crisscrossed by thousands of rivers, including the powerful Amazon. River towns, with 19th-century architecture from rubber-boom days, include Brazil’s Manaus and Belém and Peru’s Iquitos and Puerto Maldonado\n"
     ]
    }
   ],
   "source": [
    "f = open(\"demofile.txt\", \"r\")\n",
    "for x in f:\n",
    "  print(x)"
   ]
  },
  {
   "cell_type": "markdown",
   "id": "bb1a97b7",
   "metadata": {},
   "source": [
    "# Close Files\n",
    "## It is a good practice to always close the file when you are done with it."
   ]
  },
  {
   "cell_type": "code",
   "execution_count": 25,
   "id": "b8afc000",
   "metadata": {},
   "outputs": [],
   "source": [
    "f.close()"
   ]
  },
  {
   "cell_type": "code",
   "execution_count": null,
   "id": "9b1400f2",
   "metadata": {},
   "outputs": [],
   "source": []
  }
 ],
 "metadata": {
  "kernelspec": {
   "display_name": "Python 3 (ipykernel)",
   "language": "python",
   "name": "python3"
  },
  "language_info": {
   "codemirror_mode": {
    "name": "ipython",
    "version": 3
   },
   "file_extension": ".py",
   "mimetype": "text/x-python",
   "name": "python",
   "nbconvert_exporter": "python",
   "pygments_lexer": "ipython3",
   "version": "3.11.2"
  }
 },
 "nbformat": 4,
 "nbformat_minor": 5
}
