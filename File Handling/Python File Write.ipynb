{
 "cells": [
  {
   "cell_type": "markdown",
   "id": "be88c3b4",
   "metadata": {},
   "source": [
    "# Write to an Existing File"
   ]
  },
  {
   "cell_type": "code",
   "execution_count": 8,
   "id": "81bcb89d",
   "metadata": {},
   "outputs": [],
   "source": [
    "f = open('demo.txt','a')\n",
    "f.write('Hay writing once again !!!! , we started today and right now add new item')\n",
    "f.close()"
   ]
  },
  {
   "cell_type": "code",
   "execution_count": 9,
   "id": "1c284b41",
   "metadata": {},
   "outputs": [
    {
     "data": {
      "text/plain": [
       "'Hay writing once again !!!!Hay writing once again !!!! , we started today and right nowHay writing once again !!!! , we started today and right now add new item'"
      ]
     },
     "execution_count": 9,
     "metadata": {},
     "output_type": "execute_result"
    }
   ],
   "source": [
    "o = open('demo.txt','r')\n",
    "o.read()"
   ]
  },
  {
   "cell_type": "markdown",
   "id": "41ad2d28",
   "metadata": {},
   "source": [
    "# Overwrite the file"
   ]
  },
  {
   "cell_type": "code",
   "execution_count": 10,
   "id": "b1becca2",
   "metadata": {},
   "outputs": [],
   "source": [
    "x = open('demofile.txt','w')\n",
    "x.write('woops i ahve delete the file')\n",
    "x.close()"
   ]
  },
  {
   "cell_type": "code",
   "execution_count": 11,
   "id": "353a9c10",
   "metadata": {},
   "outputs": [
    {
     "data": {
      "text/plain": [
       "'woops i ahve delete the file'"
      ]
     },
     "execution_count": 11,
     "metadata": {},
     "output_type": "execute_result"
    }
   ],
   "source": [
    "a = open('demofile.txt','r')\n",
    "a.read()"
   ]
  },
  {
   "cell_type": "markdown",
   "id": "11f99cd7",
   "metadata": {},
   "source": [
    "# Create a New File"
   ]
  },
  {
   "cell_type": "code",
   "execution_count": 12,
   "id": "081e28e3",
   "metadata": {},
   "outputs": [],
   "source": [
    "f_2 = open('myfile.txt','x')"
   ]
  },
  {
   "cell_type": "code",
   "execution_count": 13,
   "id": "f12b3d1c",
   "metadata": {},
   "outputs": [],
   "source": [
    "f_3 = open('mysecod_file.txt','w')"
   ]
  },
  {
   "cell_type": "code",
   "execution_count": null,
   "id": "ba7958a8",
   "metadata": {},
   "outputs": [],
   "source": []
  }
 ],
 "metadata": {
  "kernelspec": {
   "display_name": "Python 3 (ipykernel)",
   "language": "python",
   "name": "python3"
  },
  "language_info": {
   "codemirror_mode": {
    "name": "ipython",
    "version": 3
   },
   "file_extension": ".py",
   "mimetype": "text/x-python",
   "name": "python",
   "nbconvert_exporter": "python",
   "pygments_lexer": "ipython3",
   "version": "3.11.2"
  }
 },
 "nbformat": 4,
 "nbformat_minor": 5
}
