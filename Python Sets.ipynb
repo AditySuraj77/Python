{
 "cells": [
  {
   "cell_type": "markdown",
   "id": "37cb4938",
   "metadata": {},
   "source": [
    "# Sets"
   ]
  },
  {
   "cell_type": "code",
   "execution_count": 5,
   "id": "e9afa2aa",
   "metadata": {},
   "outputs": [],
   "source": [
    "set_1= {'row','cow','mow'}"
   ]
  },
  {
   "cell_type": "code",
   "execution_count": 6,
   "id": "9d8a0c88",
   "metadata": {},
   "outputs": [
    {
     "data": {
      "text/plain": [
       "set"
      ]
     },
     "execution_count": 6,
     "metadata": {},
     "output_type": "execute_result"
    }
   ],
   "source": [
    "type(set_1)"
   ]
  },
  {
   "cell_type": "code",
   "execution_count": 7,
   "id": "99db824c",
   "metadata": {},
   "outputs": [],
   "source": [
    "set_1= {'row','cow','mow',2,4,3,True}"
   ]
  },
  {
   "cell_type": "code",
   "execution_count": 8,
   "id": "a02101a3",
   "metadata": {},
   "outputs": [
    {
     "data": {
      "text/plain": [
       "{2, 3, 4, True, 'cow', 'mow', 'row'}"
      ]
     },
     "execution_count": 8,
     "metadata": {},
     "output_type": "execute_result"
    }
   ],
   "source": [
    "set_1"
   ]
  },
  {
   "cell_type": "code",
   "execution_count": 9,
   "id": "5f78b0ea",
   "metadata": {},
   "outputs": [
    {
     "data": {
      "text/plain": [
       "7"
      ]
     },
     "execution_count": 9,
     "metadata": {},
     "output_type": "execute_result"
    }
   ],
   "source": [
    "len(set_1)"
   ]
  },
  {
   "cell_type": "code",
   "execution_count": 12,
   "id": "a5590867",
   "metadata": {},
   "outputs": [],
   "source": [
    "set_2 = set(('hello',\"hello\",\"\"\"Hello\"\"\",True,False,55,5.5))"
   ]
  },
  {
   "cell_type": "code",
   "execution_count": 13,
   "id": "72af07f4",
   "metadata": {},
   "outputs": [
    {
     "data": {
      "text/plain": [
       "{5.5, 55, False, 'Hello', True, 'hello'}"
      ]
     },
     "execution_count": 13,
     "metadata": {},
     "output_type": "execute_result"
    }
   ],
   "source": [
    "set_2"
   ]
  },
  {
   "cell_type": "markdown",
   "id": "84cf698a",
   "metadata": {},
   "source": [
    "# Access Items"
   ]
  },
  {
   "cell_type": "code",
   "execution_count": 14,
   "id": "64ebf2ae",
   "metadata": {},
   "outputs": [
    {
     "name": "stdout",
     "output_type": "stream",
     "text": [
      "False\n",
      "True\n",
      "5.5\n",
      "hello\n",
      "Hello\n",
      "55\n"
     ]
    }
   ],
   "source": [
    "for x in set_2:\n",
    "    print(x)"
   ]
  },
  {
   "cell_type": "code",
   "execution_count": 20,
   "id": "24d69c0d",
   "metadata": {},
   "outputs": [
    {
     "name": "stdout",
     "output_type": "stream",
     "text": [
      "True\n"
     ]
    }
   ],
   "source": [
    "print(True in set_2)"
   ]
  },
  {
   "cell_type": "markdown",
   "id": "7b454aa3",
   "metadata": {},
   "source": [
    "# Add Items"
   ]
  },
  {
   "cell_type": "code",
   "execution_count": 21,
   "id": "a98c9462",
   "metadata": {},
   "outputs": [],
   "source": [
    "set_f = {'Mango','Cherry','Kiwi'}"
   ]
  },
  {
   "cell_type": "code",
   "execution_count": 22,
   "id": "2edf6322",
   "metadata": {},
   "outputs": [],
   "source": [
    "set_f.add('Orange')"
   ]
  },
  {
   "cell_type": "code",
   "execution_count": 23,
   "id": "d193e4f8",
   "metadata": {},
   "outputs": [
    {
     "data": {
      "text/plain": [
       "{'Cherry', 'Kiwi', 'Mango', 'Orange'}"
      ]
     },
     "execution_count": 23,
     "metadata": {},
     "output_type": "execute_result"
    }
   ],
   "source": [
    "set_f"
   ]
  },
  {
   "cell_type": "code",
   "execution_count": 26,
   "id": "f021021c",
   "metadata": {},
   "outputs": [],
   "source": [
    "set_s = {1,2,3,4,5}\n",
    "st_t = {6,7,8,9,10}\n",
    "Up_se = set_s.update(st_t)"
   ]
  },
  {
   "cell_type": "code",
   "execution_count": 28,
   "id": "95002ceb",
   "metadata": {},
   "outputs": [
    {
     "data": {
      "text/plain": [
       "{1, 2, 3, 4, 5, 6, 7, 8, 9, 10}"
      ]
     },
     "execution_count": 28,
     "metadata": {},
     "output_type": "execute_result"
    }
   ],
   "source": [
    "set_s"
   ]
  },
  {
   "cell_type": "markdown",
   "id": "8c9fa6a3",
   "metadata": {},
   "source": [
    "# Remove Set"
   ]
  },
  {
   "cell_type": "code",
   "execution_count": 30,
   "id": "6b794a4c",
   "metadata": {},
   "outputs": [],
   "source": [
    "set_country = {'England','India','New Zealand','Australia','Finland'}"
   ]
  },
  {
   "cell_type": "code",
   "execution_count": 31,
   "id": "4473dc9a",
   "metadata": {},
   "outputs": [],
   "source": [
    "set_country.remove('India')"
   ]
  },
  {
   "cell_type": "code",
   "execution_count": 32,
   "id": "16cdb5d8",
   "metadata": {},
   "outputs": [
    {
     "data": {
      "text/plain": [
       "{'Australia', 'England', 'Finland', 'New Zealand'}"
      ]
     },
     "execution_count": 32,
     "metadata": {},
     "output_type": "execute_result"
    }
   ],
   "source": [
    "set_country"
   ]
  },
  {
   "cell_type": "code",
   "execution_count": 33,
   "id": "d216becd",
   "metadata": {},
   "outputs": [],
   "source": [
    "set_country.discard('Finland')"
   ]
  },
  {
   "cell_type": "code",
   "execution_count": 34,
   "id": "3b7479b3",
   "metadata": {},
   "outputs": [
    {
     "data": {
      "text/plain": [
       "{'Australia', 'England', 'New Zealand'}"
      ]
     },
     "execution_count": 34,
     "metadata": {},
     "output_type": "execute_result"
    }
   ],
   "source": [
    "set_country"
   ]
  },
  {
   "cell_type": "code",
   "execution_count": 35,
   "id": "451c0b40",
   "metadata": {},
   "outputs": [
    {
     "data": {
      "text/plain": [
       "'England'"
      ]
     },
     "execution_count": 35,
     "metadata": {},
     "output_type": "execute_result"
    }
   ],
   "source": [
    "set_country.pop()"
   ]
  },
  {
   "cell_type": "code",
   "execution_count": 36,
   "id": "348f880f",
   "metadata": {},
   "outputs": [],
   "source": [
    "set_country = {'England','India','New Zealand','Australia','Finland'}"
   ]
  },
  {
   "cell_type": "code",
   "execution_count": 37,
   "id": "6147d976",
   "metadata": {},
   "outputs": [],
   "source": [
    "set_country.clear()"
   ]
  },
  {
   "cell_type": "code",
   "execution_count": 38,
   "id": "c0211480",
   "metadata": {},
   "outputs": [
    {
     "data": {
      "text/plain": [
       "set()"
      ]
     },
     "execution_count": 38,
     "metadata": {},
     "output_type": "execute_result"
    }
   ],
   "source": [
    "set_country"
   ]
  },
  {
   "cell_type": "code",
   "execution_count": 39,
   "id": "06fe80c7",
   "metadata": {},
   "outputs": [],
   "source": [
    "set_country = {'England','India','New Zealand','Australia','Finland'}"
   ]
  },
  {
   "cell_type": "code",
   "execution_count": 40,
   "id": "5161ee2b",
   "metadata": {},
   "outputs": [
    {
     "data": {
      "text/plain": [
       "{'Australia', 'England', 'Finland', 'India', 'New Zealand'}"
      ]
     },
     "execution_count": 40,
     "metadata": {},
     "output_type": "execute_result"
    }
   ],
   "source": [
    "set_country"
   ]
  },
  {
   "cell_type": "code",
   "execution_count": 41,
   "id": "94c54e98",
   "metadata": {},
   "outputs": [],
   "source": [
    "del set_country"
   ]
  },
  {
   "cell_type": "markdown",
   "id": "3231182a",
   "metadata": {},
   "source": [
    "# Loop"
   ]
  },
  {
   "cell_type": "code",
   "execution_count": 42,
   "id": "e41ec28b",
   "metadata": {},
   "outputs": [],
   "source": [
    "set_country = {'England','India','New Zealand','Australia','Finland'}"
   ]
  },
  {
   "cell_type": "code",
   "execution_count": 44,
   "id": "2d532e53",
   "metadata": {},
   "outputs": [
    {
     "name": "stdout",
     "output_type": "stream",
     "text": [
      "England\n",
      "India\n",
      "Australia\n",
      "Finland\n",
      "New Zealand\n"
     ]
    }
   ],
   "source": [
    "for i in set_country:\n",
    "    print(i)"
   ]
  },
  {
   "cell_type": "markdown",
   "id": "d071f81d",
   "metadata": {},
   "source": [
    "# Join Sets"
   ]
  },
  {
   "cell_type": "code",
   "execution_count": 45,
   "id": "8145b903",
   "metadata": {},
   "outputs": [],
   "source": [
    "firts_set = {2,4,6,8,10}\n",
    "second_set = {12,14,16,18,20}"
   ]
  },
  {
   "cell_type": "code",
   "execution_count": 46,
   "id": "f70f9fcb",
   "metadata": {},
   "outputs": [
    {
     "data": {
      "text/plain": [
       "{2, 4, 6, 8, 10, 12, 14, 16, 18, 20}"
      ]
     },
     "execution_count": 46,
     "metadata": {},
     "output_type": "execute_result"
    }
   ],
   "source": [
    "firts_set.union(second_set)"
   ]
  },
  {
   "cell_type": "code",
   "execution_count": 52,
   "id": "3cf11121",
   "metadata": {},
   "outputs": [],
   "source": [
    "firts_set = {2,4,6,8,10,11}\n",
    "second_set = {11,12,14,16,18,20}"
   ]
  },
  {
   "cell_type": "code",
   "execution_count": 53,
   "id": "5b481e4f",
   "metadata": {},
   "outputs": [
    {
     "data": {
      "text/plain": [
       "{11}"
      ]
     },
     "execution_count": 53,
     "metadata": {},
     "output_type": "execute_result"
    }
   ],
   "source": [
    "firts_set.intersection(second_set)"
   ]
  },
  {
   "cell_type": "code",
   "execution_count": 57,
   "id": "4b4c1487",
   "metadata": {},
   "outputs": [],
   "source": [
    "x = {\"apple\", \"banana\", \"cherry\"}\n",
    "y = {\"google\", \"microsoft\", \"apple\"}\n",
    "x.symmetric_difference_update(y)\n"
   ]
  },
  {
   "cell_type": "code",
   "execution_count": null,
   "id": "2f56a981",
   "metadata": {},
   "outputs": [],
   "source": []
  },
  {
   "cell_type": "code",
   "execution_count": null,
   "id": "98c5b56e",
   "metadata": {},
   "outputs": [],
   "source": []
  }
 ],
 "metadata": {
  "kernelspec": {
   "display_name": "Python 3 (ipykernel)",
   "language": "python",
   "name": "python3"
  },
  "language_info": {
   "codemirror_mode": {
    "name": "ipython",
    "version": 3
   },
   "file_extension": ".py",
   "mimetype": "text/x-python",
   "name": "python",
   "nbconvert_exporter": "python",
   "pygments_lexer": "ipython3",
   "version": "3.11.2"
  }
 },
 "nbformat": 4,
 "nbformat_minor": 5
}
