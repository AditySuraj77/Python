{
 "cells": [
  {
   "cell_type": "markdown",
   "id": "69d83cf5",
   "metadata": {},
   "source": [
    "### A variable is only available from inside the region it is created. This is called scope.\n",
    "\n",
    "# Local Scope\n",
    "### A variable created inside a function belongs to the local scope of that function, and can only be used inside that function."
   ]
  },
  {
   "cell_type": "code",
   "execution_count": 1,
   "id": "fb97259c",
   "metadata": {},
   "outputs": [
    {
     "name": "stdout",
     "output_type": "stream",
     "text": [
      "500\n"
     ]
    }
   ],
   "source": [
    "def myfunc():\n",
    "    x = 500\n",
    "    print(x)\n",
    "myfunc()"
   ]
  },
  {
   "cell_type": "raw",
   "id": "b8a62b84",
   "metadata": {},
   "source": [
    "Function Inside Function\n",
    "As explained in the example above, the variable x is not available outside the function, but it is available for any function inside the function:"
   ]
  },
  {
   "cell_type": "code",
   "execution_count": 4,
   "id": "662e63e2",
   "metadata": {},
   "outputs": [
    {
     "name": "stdout",
     "output_type": "stream",
     "text": [
      "1000\n"
     ]
    }
   ],
   "source": [
    "def myfunc():\n",
    "    x = 1000\n",
    "    def yfunc():\n",
    "        print(x)\n",
    "    yfunc()\n",
    "myfunc()"
   ]
  },
  {
   "cell_type": "markdown",
   "id": "2b2761a0",
   "metadata": {},
   "source": [
    "# Global Scope\n",
    "### A variable created in the main body of the Python code is a global variable and belongs to the global scope.\n",
    "\n",
    "### Global variables are available from within any scope, global and local."
   ]
  },
  {
   "cell_type": "code",
   "execution_count": 6,
   "id": "29e1af5c",
   "metadata": {},
   "outputs": [
    {
     "name": "stdout",
     "output_type": "stream",
     "text": [
      "1200\n"
     ]
    }
   ],
   "source": [
    "x = 1200 # Global Scope\n",
    "\n",
    "def my_func():\n",
    "    print(x)\n",
    "my_func()"
   ]
  },
  {
   "cell_type": "raw",
   "id": "4459cba9",
   "metadata": {},
   "source": [
    "Naming Variables\n",
    "If you operate with the same variable name inside and outside of a function, Python will treat them as two separate variables, one available in the global scope (outside the function) and one available in the local scope (inside the function):"
   ]
  },
  {
   "cell_type": "code",
   "execution_count": 9,
   "id": "8e0eebaf",
   "metadata": {},
   "outputs": [
    {
     "name": "stdout",
     "output_type": "stream",
     "text": [
      "100\n",
      "200\n"
     ]
    }
   ],
   "source": [
    "x = 200\n",
    "\n",
    "def fucn():\n",
    "    x = 100\n",
    "    print(x)\n",
    "fucn()\n",
    "print(x)"
   ]
  },
  {
   "cell_type": "markdown",
   "id": "19644316",
   "metadata": {},
   "source": [
    "# Global Keyword\n",
    "### If you need to create a global variable, but are stuck in the local scope, you can use the global keyword.\n",
    "\n",
    "### The global keyword makes the variable global."
   ]
  },
  {
   "cell_type": "code",
   "execution_count": 13,
   "id": "c2f98116",
   "metadata": {},
   "outputs": [
    {
     "ename": "NameError",
     "evalue": "name 'x_1' is not defined",
     "output_type": "error",
     "traceback": [
      "\u001b[1;31m---------------------------------------------------------------------------\u001b[0m",
      "\u001b[1;31mNameError\u001b[0m                                 Traceback (most recent call last)",
      "Cell \u001b[1;32mIn[13], line 5\u001b[0m\n\u001b[0;32m      2\u001b[0m     x_1 \u001b[38;5;241m=\u001b[39m \u001b[38;5;241m400\u001b[39m\n\u001b[0;32m      4\u001b[0m fucn()\n\u001b[1;32m----> 5\u001b[0m \u001b[38;5;28mprint\u001b[39m(\u001b[43mx_1\u001b[49m)\n",
      "\u001b[1;31mNameError\u001b[0m: name 'x_1' is not defined"
     ]
    }
   ],
   "source": [
    "def fucn():\n",
    "    x_1 = 400\n",
    "    \n",
    "fucn()\n",
    "print(x_1) # This Error was give me because my variable is in scope but i was print in global "
   ]
  },
  {
   "cell_type": "code",
   "execution_count": 15,
   "id": "c9a74606",
   "metadata": {},
   "outputs": [
    {
     "name": "stdout",
     "output_type": "stream",
     "text": [
      "400\n"
     ]
    }
   ],
   "source": [
    "def fucn():\n",
    "    global x_1\n",
    "    x_1 = 400\n",
    "    \n",
    "fucn()\n",
    "print(x_1)"
   ]
  },
  {
   "cell_type": "raw",
   "id": "44d867ad",
   "metadata": {},
   "source": [
    "Also, use the global keyword if you want to make a change to a global variable inside a function."
   ]
  },
  {
   "cell_type": "code",
   "execution_count": 17,
   "id": "14093848",
   "metadata": {},
   "outputs": [
    {
     "name": "stdout",
     "output_type": "stream",
     "text": [
      "150\n"
     ]
    }
   ],
   "source": [
    "x = 500\n",
    "\n",
    "def function():\n",
    "    global x\n",
    "    x = 150\n",
    "function()\n",
    "print(x)"
   ]
  },
  {
   "cell_type": "code",
   "execution_count": null,
   "id": "4495c935",
   "metadata": {},
   "outputs": [],
   "source": []
  }
 ],
 "metadata": {
  "kernelspec": {
   "display_name": "Python 3 (ipykernel)",
   "language": "python",
   "name": "python3"
  },
  "language_info": {
   "codemirror_mode": {
    "name": "ipython",
    "version": 3
   },
   "file_extension": ".py",
   "mimetype": "text/x-python",
   "name": "python",
   "nbconvert_exporter": "python",
   "pygments_lexer": "ipython3",
   "version": "3.11.2"
  }
 },
 "nbformat": 4,
 "nbformat_minor": 5
}
