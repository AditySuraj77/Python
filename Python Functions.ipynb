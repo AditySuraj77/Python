{
 "cells": [
  {
   "cell_type": "markdown",
   "id": "5d800b16",
   "metadata": {},
   "source": [
    "# Python Creating Functions"
   ]
  },
  {
   "cell_type": "code",
   "execution_count": 1,
   "id": "680e6cde",
   "metadata": {},
   "outputs": [],
   "source": [
    "def fun_c(a):\n",
    "    return f\"Heloo {a}\""
   ]
  },
  {
   "cell_type": "code",
   "execution_count": 2,
   "id": "0262cb73",
   "metadata": {},
   "outputs": [
    {
     "data": {
      "text/plain": [
       "'Heloo Aditya'"
      ]
     },
     "execution_count": 2,
     "metadata": {},
     "output_type": "execute_result"
    }
   ],
   "source": [
    "fun_c(\"Aditya\")"
   ]
  },
  {
   "cell_type": "code",
   "execution_count": 3,
   "id": "f77fb948",
   "metadata": {},
   "outputs": [],
   "source": [
    "def add(a,b):\n",
    "    return a+b"
   ]
  },
  {
   "cell_type": "code",
   "execution_count": 4,
   "id": "ffb59779",
   "metadata": {},
   "outputs": [
    {
     "data": {
      "text/plain": [
       "10"
      ]
     },
     "execution_count": 4,
     "metadata": {},
     "output_type": "execute_result"
    }
   ],
   "source": [
    "add(5,5)"
   ]
  },
  {
   "cell_type": "code",
   "execution_count": 5,
   "id": "754a9e58",
   "metadata": {},
   "outputs": [],
   "source": [
    "def bio_data(name,age,address):\n",
    "    return f\"Hello my self is {name} and i am {age} year old and my home in {address}\""
   ]
  },
  {
   "cell_type": "code",
   "execution_count": 6,
   "id": "2c50a159",
   "metadata": {},
   "outputs": [
    {
     "data": {
      "text/plain": [
       "'Hello my self is Felix and i am 35 year old and my home in Austria'"
      ]
     },
     "execution_count": 6,
     "metadata": {},
     "output_type": "execute_result"
    }
   ],
   "source": [
    "bio_data('Felix',35,'Austria')"
   ]
  },
  {
   "cell_type": "markdown",
   "id": "1e4ddb10",
   "metadata": {},
   "source": [
    "# Arbitrary Arguments, *args"
   ]
  },
  {
   "cell_type": "code",
   "execution_count": 7,
   "id": "876a55c4",
   "metadata": {},
   "outputs": [],
   "source": [
    "def kids_name(*kids):\n",
    "    return f\"your kids name is = {kids}\""
   ]
  },
  {
   "cell_type": "code",
   "execution_count": 12,
   "id": "8a9b3d8a",
   "metadata": {},
   "outputs": [
    {
     "data": {
      "text/plain": [
       "\"your kids name is = ('Felix', 'Tom', 'Sam')\""
      ]
     },
     "execution_count": 12,
     "metadata": {},
     "output_type": "execute_result"
    }
   ],
   "source": [
    "kids_name('Felix','Tom','Sam')"
   ]
  },
  {
   "cell_type": "markdown",
   "id": "dc19f828",
   "metadata": {},
   "source": [
    "# Keyword Arguments"
   ]
  },
  {
   "cell_type": "code",
   "execution_count": 26,
   "id": "a6b77c06",
   "metadata": {},
   "outputs": [],
   "source": [
    "def palyer_name(paly_1,paly_2,paly_3):\n",
    "    print('The player name is ' + paly_3)"
   ]
  },
  {
   "cell_type": "code",
   "execution_count": 27,
   "id": "53b169df",
   "metadata": {},
   "outputs": [
    {
     "name": "stdout",
     "output_type": "stream",
     "text": [
      "The player name is Gill\n"
     ]
    }
   ],
   "source": [
    "palyer_name(paly_1='virat',paly_2='Rahane',paly_3='Gill')"
   ]
  },
  {
   "cell_type": "markdown",
   "id": "f449118e",
   "metadata": {},
   "source": [
    "# Arbitrary Keyword Arguments, **kwargs"
   ]
  },
  {
   "cell_type": "code",
   "execution_count": 28,
   "id": "c22eed5e",
   "metadata": {},
   "outputs": [],
   "source": [
    "def last_name(**kids):\n",
    "    print('The last name is ' + kids['lname'])"
   ]
  },
  {
   "cell_type": "code",
   "execution_count": 29,
   "id": "df517e9d",
   "metadata": {},
   "outputs": [
    {
     "name": "stdout",
     "output_type": "stream",
     "text": [
      "The last name is kohli\n"
     ]
    }
   ],
   "source": [
    "last_name(fname='virat',lname='kohli')"
   ]
  },
  {
   "cell_type": "markdown",
   "id": "992c67ea",
   "metadata": {},
   "source": [
    "# Default Parameter Value"
   ]
  },
  {
   "cell_type": "code",
   "execution_count": 30,
   "id": "b946be74",
   "metadata": {},
   "outputs": [],
   "source": [
    "def country_belong(country='Norway'):\n",
    "    print('Country is ' + country)"
   ]
  },
  {
   "cell_type": "code",
   "execution_count": 33,
   "id": "b04e5386",
   "metadata": {},
   "outputs": [
    {
     "name": "stdout",
     "output_type": "stream",
     "text": [
      "Country is England\n",
      "Country is Norway\n",
      "Country is Japan\n"
     ]
    }
   ],
   "source": [
    "country_belong('England')\n",
    "country_belong()\n",
    "country_belong('Japan')"
   ]
  },
  {
   "cell_type": "markdown",
   "id": "a916315b",
   "metadata": {},
   "source": [
    "# using loop in func"
   ]
  },
  {
   "cell_type": "code",
   "execution_count": 34,
   "id": "9862de70",
   "metadata": {},
   "outputs": [],
   "source": [
    "\n",
    "def food_ls(food):\n",
    "    for x in food:\n",
    "        print(x)"
   ]
  },
  {
   "cell_type": "code",
   "execution_count": 36,
   "id": "50139019",
   "metadata": {},
   "outputs": [],
   "source": [
    "foods = ['Wheat','Rice','Chapati','Vegetabels']"
   ]
  },
  {
   "cell_type": "code",
   "execution_count": 37,
   "id": "ad3da23f",
   "metadata": {},
   "outputs": [
    {
     "name": "stdout",
     "output_type": "stream",
     "text": [
      "Wheat\n",
      "Rice\n",
      "Chapati\n",
      "Vegetabels\n"
     ]
    }
   ],
   "source": [
    "food_ls(foods)"
   ]
  },
  {
   "cell_type": "markdown",
   "id": "8fd18f1f",
   "metadata": {},
   "source": [
    "# Return"
   ]
  },
  {
   "cell_type": "code",
   "execution_count": 39,
   "id": "e4bfb0ad",
   "metadata": {},
   "outputs": [],
   "source": [
    "def squar_func(x):\n",
    "    return x**x"
   ]
  },
  {
   "cell_type": "code",
   "execution_count": 40,
   "id": "d3daead4",
   "metadata": {},
   "outputs": [
    {
     "data": {
      "text/plain": [
       "4"
      ]
     },
     "execution_count": 40,
     "metadata": {},
     "output_type": "execute_result"
    }
   ],
   "source": [
    "squar_func(2)"
   ]
  },
  {
   "cell_type": "markdown",
   "id": "43fcb3df",
   "metadata": {},
   "source": [
    "# Pass"
   ]
  },
  {
   "cell_type": "code",
   "execution_count": 41,
   "id": "43f9641c",
   "metadata": {},
   "outputs": [],
   "source": [
    "def myfunction():\n",
    "    pass"
   ]
  },
  {
   "cell_type": "code",
   "execution_count": null,
   "id": "acc82978",
   "metadata": {},
   "outputs": [],
   "source": []
  }
 ],
 "metadata": {
  "kernelspec": {
   "display_name": "Python 3 (ipykernel)",
   "language": "python",
   "name": "python3"
  },
  "language_info": {
   "codemirror_mode": {
    "name": "ipython",
    "version": 3
   },
   "file_extension": ".py",
   "mimetype": "text/x-python",
   "name": "python",
   "nbconvert_exporter": "python",
   "pygments_lexer": "ipython3",
   "version": "3.11.2"
  }
 },
 "nbformat": 4,
 "nbformat_minor": 5
}
