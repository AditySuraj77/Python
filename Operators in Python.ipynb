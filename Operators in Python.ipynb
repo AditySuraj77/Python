{
 "cells": [
  {
   "cell_type": "markdown",
   "id": "98a2d0f6",
   "metadata": {},
   "source": [
    "# Operators\n",
    "## Operators are used to perform operations on variables and values. Python has the following operators:\n",
    "\n",
    "### 1. Arithmetic operators\n",
    "### 2. Comparison operators\n",
    "### 3. Logical operators\n",
    "### 4. Bitwise operators\n",
    "### 5. Assignment operators\n",
    "### 6. Identity operators\n",
    "### 7. Membership operators"
   ]
  },
  {
   "cell_type": "markdown",
   "id": "e3d0a68f",
   "metadata": {},
   "source": [
    "# Arithmetic operators\n"
   ]
  },
  {
   "cell_type": "code",
   "execution_count": null,
   "id": "ec5c1574",
   "metadata": {},
   "outputs": [],
   "source": [
    "x = 5\n",
    "y = 2"
   ]
  },
  {
   "cell_type": "code",
   "execution_count": 11,
   "id": "77acf6a2",
   "metadata": {},
   "outputs": [
    {
     "name": "stdout",
     "output_type": "stream",
     "text": [
      "7\n",
      "3\n",
      "10\n",
      "2.5\n",
      "25\n",
      "2\n",
      "1\n"
     ]
    }
   ],
   "source": [
    "print(x + y)\n",
    "print(x - y)\n",
    "print(x * y)\n",
    "print(x / y)\n",
    "print(x ** y)\n",
    "print(x // y)\n",
    "print(x%y)"
   ]
  },
  {
   "cell_type": "markdown",
   "id": "67a494cc",
   "metadata": {},
   "source": [
    "# Comparison operators\n"
   ]
  },
  {
   "cell_type": "code",
   "execution_count": null,
   "id": "33485d83",
   "metadata": {},
   "outputs": [],
   "source": [
    "a = 5\n",
    "b = 3"
   ]
  },
  {
   "cell_type": "code",
   "execution_count": 17,
   "id": "b6d4d61e",
   "metadata": {},
   "outputs": [
    {
     "name": "stdout",
     "output_type": "stream",
     "text": [
      "True\n",
      "False\n",
      "True\n",
      "False\n",
      "False\n",
      "True\n"
     ]
    }
   ],
   "source": [
    "print(a>b)\n",
    "print(a<b)\n",
    "print(a>=b)\n",
    "print(a<=b)\n",
    "print(a == b)\n",
    "print(a != b)"
   ]
  },
  {
   "cell_type": "markdown",
   "id": "b82c2cb0",
   "metadata": {},
   "source": [
    "# Logical operators\n"
   ]
  },
  {
   "cell_type": "code",
   "execution_count": null,
   "id": "007e4d7d",
   "metadata": {},
   "outputs": [],
   "source": [
    "t = True\n",
    "f = False"
   ]
  },
  {
   "cell_type": "code",
   "execution_count": 24,
   "id": "d59e8c7f",
   "metadata": {},
   "outputs": [
    {
     "name": "stdout",
     "output_type": "stream",
     "text": [
      "False\n",
      "True\n",
      "False\n",
      "True\n",
      "False\n"
     ]
    }
   ],
   "source": [
    "print(t is f)\n",
    "print(f or t)\n",
    "print(t and f)\n",
    "print(not f)\n",
    "print(not t)"
   ]
  },
  {
   "cell_type": "markdown",
   "id": "d2b7aa89",
   "metadata": {},
   "source": [
    "# Bitwise operators"
   ]
  },
  {
   "cell_type": "code",
   "execution_count": 26,
   "id": "18360f90",
   "metadata": {},
   "outputs": [],
   "source": [
    "x = 3\n",
    "y = 4"
   ]
  },
  {
   "cell_type": "code",
   "execution_count": 32,
   "id": "cb2190f5",
   "metadata": {},
   "outputs": [
    {
     "name": "stdout",
     "output_type": "stream",
     "text": [
      "0\n",
      "7\n",
      "48\n",
      "0\n",
      "-5\n"
     ]
    }
   ],
   "source": [
    "print(x & y)\n",
    "print(x | y)\n",
    "print(x << y)\n",
    "print(x >> y)\n",
    "print(~y)"
   ]
  },
  {
   "cell_type": "markdown",
   "id": "ea2463c8",
   "metadata": {},
   "source": [
    "# Assignment operators\n"
   ]
  },
  {
   "cell_type": "code",
   "execution_count": 59,
   "id": "c9f62a69",
   "metadata": {},
   "outputs": [],
   "source": [
    "a = 5\n",
    "a +=5"
   ]
  },
  {
   "cell_type": "code",
   "execution_count": 38,
   "id": "24398f6c",
   "metadata": {},
   "outputs": [
    {
     "name": "stdout",
     "output_type": "stream",
     "text": [
      "10\n"
     ]
    }
   ],
   "source": [
    "print(a)"
   ]
  },
  {
   "cell_type": "code",
   "execution_count": 44,
   "id": "6e9932b8",
   "metadata": {},
   "outputs": [],
   "source": [
    "a-=5\n",
    "a*=5\n",
    "a/=5"
   ]
  },
  {
   "cell_type": "markdown",
   "id": "b2d694bc",
   "metadata": {},
   "source": [
    "# Identity operators"
   ]
  },
  {
   "cell_type": "code",
   "execution_count": 52,
   "id": "16ef835d",
   "metadata": {},
   "outputs": [],
   "source": [
    "a = 4\n",
    "b =4"
   ]
  },
  {
   "cell_type": "code",
   "execution_count": 53,
   "id": "944dad9c",
   "metadata": {},
   "outputs": [
    {
     "name": "stdout",
     "output_type": "stream",
     "text": [
      "True\n"
     ]
    }
   ],
   "source": [
    "print(a is b)"
   ]
  },
  {
   "cell_type": "code",
   "execution_count": 54,
   "id": "f6cd7bae",
   "metadata": {},
   "outputs": [
    {
     "name": "stdout",
     "output_type": "stream",
     "text": [
      "False\n"
     ]
    }
   ],
   "source": [
    "print(a is not b)"
   ]
  },
  {
   "cell_type": "code",
   "execution_count": 55,
   "id": "1e6c4a27",
   "metadata": {},
   "outputs": [],
   "source": [
    "str_1 = 'hello-world'\n",
    "str_2 = 'hello-world'"
   ]
  },
  {
   "cell_type": "code",
   "execution_count": 57,
   "id": "1d4fcc88",
   "metadata": {},
   "outputs": [
    {
     "name": "stdout",
     "output_type": "stream",
     "text": [
      "False\n"
     ]
    }
   ],
   "source": [
    "print(str_1 is str_2)"
   ]
  },
  {
   "cell_type": "code",
   "execution_count": 58,
   "id": "5f6d2d15",
   "metadata": {},
   "outputs": [
    {
     "name": "stdout",
     "output_type": "stream",
     "text": [
      "True\n"
     ]
    }
   ],
   "source": [
    "print(str_1 is not str_2)"
   ]
  },
  {
   "cell_type": "markdown",
   "id": "4eacde63",
   "metadata": {},
   "source": [
    "# Membership operators"
   ]
  },
  {
   "cell_type": "code",
   "execution_count": 60,
   "id": "f421d71f",
   "metadata": {},
   "outputs": [],
   "source": [
    "x = 'Hello i am going to UK for Two week'"
   ]
  },
  {
   "cell_type": "code",
   "execution_count": 62,
   "id": "5be90dd2",
   "metadata": {},
   "outputs": [
    {
     "name": "stdout",
     "output_type": "stream",
     "text": [
      "True\n"
     ]
    }
   ],
   "source": [
    "print('am' in x)"
   ]
  },
  {
   "cell_type": "code",
   "execution_count": 64,
   "id": "968fdff7",
   "metadata": {},
   "outputs": [
    {
     "name": "stdout",
     "output_type": "stream",
     "text": [
      "False\n"
     ]
    }
   ],
   "source": [
    "print('UK'not in x)"
   ]
  },
  {
   "cell_type": "code",
   "execution_count": 65,
   "id": "c5a1ea4a",
   "metadata": {},
   "outputs": [],
   "source": [
    "num = [5,10,15,20]"
   ]
  },
  {
   "cell_type": "code",
   "execution_count": 66,
   "id": "7eb9b5e6",
   "metadata": {},
   "outputs": [
    {
     "name": "stdout",
     "output_type": "stream",
     "text": [
      "True\n"
     ]
    }
   ],
   "source": [
    "print(5 in num)"
   ]
  },
  {
   "cell_type": "code",
   "execution_count": 67,
   "id": "14fbcb2d",
   "metadata": {},
   "outputs": [
    {
     "name": "stdout",
     "output_type": "stream",
     "text": [
      "False\n"
     ]
    }
   ],
   "source": [
    "print(5 not in num)"
   ]
  },
  {
   "cell_type": "code",
   "execution_count": null,
   "id": "89431343",
   "metadata": {},
   "outputs": [],
   "source": []
  }
 ],
 "metadata": {
  "kernelspec": {
   "display_name": "Python 3 (ipykernel)",
   "language": "python",
   "name": "python3"
  },
  "language_info": {
   "codemirror_mode": {
    "name": "ipython",
    "version": 3
   },
   "file_extension": ".py",
   "mimetype": "text/x-python",
   "name": "python",
   "nbconvert_exporter": "python",
   "pygments_lexer": "ipython3",
   "version": "3.11.2"
  }
 },
 "nbformat": 4,
 "nbformat_minor": 5
}
