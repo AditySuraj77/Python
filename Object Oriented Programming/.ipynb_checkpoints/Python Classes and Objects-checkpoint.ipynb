{
 "cells": [
  {
   "cell_type": "markdown",
   "id": "06247c63",
   "metadata": {},
   "source": [
    "# Create a Class"
   ]
  },
  {
   "cell_type": "code",
   "execution_count": 1,
   "id": "7f1a5a56",
   "metadata": {},
   "outputs": [],
   "source": [
    "class Myclass:\n",
    "    x = 'hello user'"
   ]
  },
  {
   "cell_type": "markdown",
   "id": "a6ee0b93",
   "metadata": {},
   "source": [
    "# Create Object"
   ]
  },
  {
   "cell_type": "code",
   "execution_count": 2,
   "id": "18b0489b",
   "metadata": {},
   "outputs": [],
   "source": [
    "p1 = Myclass()"
   ]
  },
  {
   "cell_type": "code",
   "execution_count": 3,
   "id": "8cb57816",
   "metadata": {},
   "outputs": [
    {
     "data": {
      "text/plain": [
       "'hello user'"
      ]
     },
     "execution_count": 3,
     "metadata": {},
     "output_type": "execute_result"
    }
   ],
   "source": [
    "p1.x"
   ]
  },
  {
   "cell_type": "markdown",
   "id": "aacd6cec",
   "metadata": {},
   "source": [
    "# The __init__() Function"
   ]
  },
  {
   "cell_type": "code",
   "execution_count": 8,
   "id": "85bac97c",
   "metadata": {},
   "outputs": [],
   "source": [
    "class  Person:\n",
    "    def __init__(self,name,Gender):\n",
    "        self.name = name\n",
    "        self.Gender = Gender"
   ]
  },
  {
   "cell_type": "code",
   "execution_count": 13,
   "id": "aba9aa93",
   "metadata": {},
   "outputs": [],
   "source": [
    "p2 = Person('Felix','Male')"
   ]
  },
  {
   "cell_type": "code",
   "execution_count": 14,
   "id": "b48dbd78",
   "metadata": {},
   "outputs": [
    {
     "data": {
      "text/plain": [
       "'Felix'"
      ]
     },
     "execution_count": 14,
     "metadata": {},
     "output_type": "execute_result"
    }
   ],
   "source": [
    "p2.name"
   ]
  },
  {
   "cell_type": "code",
   "execution_count": 15,
   "id": "d34d449b",
   "metadata": {},
   "outputs": [
    {
     "data": {
      "text/plain": [
       "'Male'"
      ]
     },
     "execution_count": 15,
     "metadata": {},
     "output_type": "execute_result"
    }
   ],
   "source": [
    "p2.Gender"
   ]
  },
  {
   "cell_type": "markdown",
   "id": "92526ac1",
   "metadata": {},
   "source": [
    "# The __str__() Function"
   ]
  },
  {
   "cell_type": "code",
   "execution_count": 22,
   "id": "ec1e8c75",
   "metadata": {},
   "outputs": [],
   "source": [
    "class  Person:\n",
    "    def __init__(self,name,Gender):\n",
    "        self.name = name\n",
    "        self.Gender = Gender\n",
    "        \n",
    "    def __str__(self):\n",
    "        return f\"My name is {self.name}, & Gender is {self.Gender}\""
   ]
  },
  {
   "cell_type": "code",
   "execution_count": 23,
   "id": "a99cd013",
   "metadata": {},
   "outputs": [],
   "source": [
    "p3 = Person('John','Male')"
   ]
  },
  {
   "cell_type": "code",
   "execution_count": 26,
   "id": "ae6d649f",
   "metadata": {},
   "outputs": [
    {
     "data": {
      "text/plain": [
       "'John'"
      ]
     },
     "execution_count": 26,
     "metadata": {},
     "output_type": "execute_result"
    }
   ],
   "source": [
    "p3.name"
   ]
  },
  {
   "cell_type": "code",
   "execution_count": 30,
   "id": "3898e5a6",
   "metadata": {},
   "outputs": [
    {
     "name": "stdout",
     "output_type": "stream",
     "text": [
      "My name is John, & Gender is Male\n"
     ]
    }
   ],
   "source": [
    "print(p3)"
   ]
  },
  {
   "cell_type": "markdown",
   "id": "4dce0464",
   "metadata": {},
   "source": [
    "# Object Methods"
   ]
  },
  {
   "cell_type": "code",
   "execution_count": 31,
   "id": "8b0a0806",
   "metadata": {},
   "outputs": [],
   "source": [
    "class Phone:\n",
    "    def __init__(self,price,color):\n",
    "        self.price = price\n",
    "        self.color = color\n",
    "        \n",
    "    def my_func(self):\n",
    "        return f'The Phone Price is {self.price}, and color is {self.color}'"
   ]
  },
  {
   "cell_type": "code",
   "execution_count": 37,
   "id": "7b1dc41d",
   "metadata": {},
   "outputs": [],
   "source": [
    "ph = Phone(12000,'Black')"
   ]
  },
  {
   "cell_type": "code",
   "execution_count": 38,
   "id": "4bd3d2a2",
   "metadata": {},
   "outputs": [
    {
     "data": {
      "text/plain": [
       "<bound method Phone.my_func of <__main__.Phone object at 0x000001682D286090>>"
      ]
     },
     "execution_count": 38,
     "metadata": {},
     "output_type": "execute_result"
    }
   ],
   "source": [
    "ph.my_func"
   ]
  },
  {
   "cell_type": "code",
   "execution_count": 39,
   "id": "6225104c",
   "metadata": {},
   "outputs": [
    {
     "data": {
      "text/plain": [
       "12000"
      ]
     },
     "execution_count": 39,
     "metadata": {},
     "output_type": "execute_result"
    }
   ],
   "source": [
    "ph.price"
   ]
  },
  {
   "cell_type": "code",
   "execution_count": 40,
   "id": "4be1e1e7",
   "metadata": {},
   "outputs": [
    {
     "data": {
      "text/plain": [
       "'Black'"
      ]
     },
     "execution_count": 40,
     "metadata": {},
     "output_type": "execute_result"
    }
   ],
   "source": [
    "ph.color"
   ]
  },
  {
   "cell_type": "code",
   "execution_count": 42,
   "id": "22b0be3a",
   "metadata": {},
   "outputs": [
    {
     "name": "stdout",
     "output_type": "stream",
     "text": [
      "The Phone Price is 12000, and color is Black\n"
     ]
    }
   ],
   "source": [
    "print(ph.my_func())"
   ]
  },
  {
   "cell_type": "markdown",
   "id": "b65ba826",
   "metadata": {},
   "source": [
    "# The self Parameter\n",
    "### The self parameter is a reference to the current instance of the class, and is used to access variables that belongs to the class.\n",
    "\n",
    "### It does not have to be named self , you can call it whatever you like, but it has to be the first parameter of any function in the class:"
   ]
  },
  {
   "cell_type": "markdown",
   "id": "524586c3",
   "metadata": {},
   "source": [
    "##  We used abs with replacing self"
   ]
  },
  {
   "cell_type": "code",
   "execution_count": 61,
   "id": "ce722cda",
   "metadata": {},
   "outputs": [],
   "source": [
    "class Car:\n",
    "    def __init__(abs,color,fuel,price):\n",
    "        abs.color = color\n",
    "        abs.fuel = fuel\n",
    "        abs.price = price\n",
    "        \n",
    "    def func(abs):\n",
    "        return f\"The car color {abs.color} fuel type {abs.fuel} and price is {abs.price}\""
   ]
  },
  {
   "cell_type": "code",
   "execution_count": 62,
   "id": "aa0e13e2",
   "metadata": {},
   "outputs": [],
   "source": [
    "c1= Car('GrayWhite','EV',7500000\n",
    "       \n",
    "       )"
   ]
  },
  {
   "cell_type": "code",
   "execution_count": 63,
   "id": "8f7f433c",
   "metadata": {},
   "outputs": [
    {
     "data": {
      "text/plain": [
       "'GrayWhite'"
      ]
     },
     "execution_count": 63,
     "metadata": {},
     "output_type": "execute_result"
    }
   ],
   "source": [
    "c1.color"
   ]
  },
  {
   "cell_type": "code",
   "execution_count": 64,
   "id": "abd14fda",
   "metadata": {},
   "outputs": [
    {
     "data": {
      "text/plain": [
       "'EV'"
      ]
     },
     "execution_count": 64,
     "metadata": {},
     "output_type": "execute_result"
    }
   ],
   "source": [
    "c1.fuel"
   ]
  },
  {
   "cell_type": "code",
   "execution_count": 65,
   "id": "39aa401d",
   "metadata": {},
   "outputs": [
    {
     "data": {
      "text/plain": [
       "7500000"
      ]
     },
     "execution_count": 65,
     "metadata": {},
     "output_type": "execute_result"
    }
   ],
   "source": [
    "c1.price"
   ]
  },
  {
   "cell_type": "code",
   "execution_count": 66,
   "id": "ee805661",
   "metadata": {},
   "outputs": [
    {
     "data": {
      "text/plain": [
       "'The car color GrayWhite fuel type EV and price is 7500000'"
      ]
     },
     "execution_count": 66,
     "metadata": {},
     "output_type": "execute_result"
    }
   ],
   "source": [
    "c1.func()"
   ]
  },
  {
   "cell_type": "markdown",
   "id": "8b27b720",
   "metadata": {},
   "source": [
    "# Modify Object Properties"
   ]
  },
  {
   "cell_type": "code",
   "execution_count": 67,
   "id": "5491cc35",
   "metadata": {},
   "outputs": [],
   "source": [
    "c1.color = 'red'"
   ]
  },
  {
   "cell_type": "code",
   "execution_count": 68,
   "id": "39a9c30f",
   "metadata": {},
   "outputs": [
    {
     "data": {
      "text/plain": [
       "'red'"
      ]
     },
     "execution_count": 68,
     "metadata": {},
     "output_type": "execute_result"
    }
   ],
   "source": [
    "c1.color"
   ]
  },
  {
   "cell_type": "code",
   "execution_count": 69,
   "id": "f9863330",
   "metadata": {},
   "outputs": [
    {
     "data": {
      "text/plain": [
       "'The car color red fuel type EV and price is 7500000'"
      ]
     },
     "execution_count": 69,
     "metadata": {},
     "output_type": "execute_result"
    }
   ],
   "source": [
    "c1.func()"
   ]
  },
  {
   "cell_type": "markdown",
   "id": "090bedd8",
   "metadata": {},
   "source": [
    "# Delete Object Properties"
   ]
  },
  {
   "cell_type": "code",
   "execution_count": 70,
   "id": "0f38da84",
   "metadata": {},
   "outputs": [],
   "source": [
    "class School:\n",
    "    def __init__(self,name,roll_no):\n",
    "        self.name = name\n",
    "        self.roll_no = roll_no"
   ]
  },
  {
   "cell_type": "code",
   "execution_count": 71,
   "id": "abe26a34",
   "metadata": {},
   "outputs": [],
   "source": [
    "sch = School('Sam',45)"
   ]
  },
  {
   "cell_type": "code",
   "execution_count": 72,
   "id": "f3a74b34",
   "metadata": {},
   "outputs": [
    {
     "data": {
      "text/plain": [
       "'Sam'"
      ]
     },
     "execution_count": 72,
     "metadata": {},
     "output_type": "execute_result"
    }
   ],
   "source": [
    "sch.name"
   ]
  },
  {
   "cell_type": "code",
   "execution_count": 74,
   "id": "bfb2bdb1",
   "metadata": {},
   "outputs": [
    {
     "data": {
      "text/plain": [
       "45"
      ]
     },
     "execution_count": 74,
     "metadata": {},
     "output_type": "execute_result"
    }
   ],
   "source": [
    "sch.roll_no"
   ]
  },
  {
   "cell_type": "code",
   "execution_count": 75,
   "id": "f34e20e7",
   "metadata": {},
   "outputs": [],
   "source": [
    "del sch.roll_no"
   ]
  },
  {
   "cell_type": "code",
   "execution_count": 76,
   "id": "f27f1437",
   "metadata": {},
   "outputs": [
    {
     "data": {
      "text/plain": [
       "<__main__.School at 0x1682d1d98d0>"
      ]
     },
     "execution_count": 76,
     "metadata": {},
     "output_type": "execute_result"
    }
   ],
   "source": [
    "sch"
   ]
  },
  {
   "cell_type": "markdown",
   "id": "a278bd5a",
   "metadata": {},
   "source": [
    "# Delete Objects"
   ]
  },
  {
   "cell_type": "code",
   "execution_count": 77,
   "id": "4241dc48",
   "metadata": {},
   "outputs": [],
   "source": [
    "class Bus:\n",
    "    def __init__(self,Type,color,size):\n",
    "        self.Type = Type\n",
    "        self.color = color\n",
    "        self.size = size\n",
    "        \n",
    "    def __str__(self):\n",
    "        return f\"The {self.Type} color {self.color} and size is {self.size}\""
   ]
  },
  {
   "cell_type": "code",
   "execution_count": 78,
   "id": "9be6af1e",
   "metadata": {},
   "outputs": [],
   "source": [
    "bs =Bus('School Bus','Yellow','Medium')"
   ]
  },
  {
   "cell_type": "code",
   "execution_count": 79,
   "id": "1d1df92e",
   "metadata": {},
   "outputs": [
    {
     "data": {
      "text/plain": [
       "'Yellow'"
      ]
     },
     "execution_count": 79,
     "metadata": {},
     "output_type": "execute_result"
    }
   ],
   "source": [
    "bs.color"
   ]
  },
  {
   "cell_type": "code",
   "execution_count": 80,
   "id": "69a37fd7",
   "metadata": {},
   "outputs": [
    {
     "data": {
      "text/plain": [
       "'Medium'"
      ]
     },
     "execution_count": 80,
     "metadata": {},
     "output_type": "execute_result"
    }
   ],
   "source": [
    "bs.size"
   ]
  },
  {
   "cell_type": "code",
   "execution_count": 81,
   "id": "b1d9696f",
   "metadata": {},
   "outputs": [
    {
     "data": {
      "text/plain": [
       "'School Bus'"
      ]
     },
     "execution_count": 81,
     "metadata": {},
     "output_type": "execute_result"
    }
   ],
   "source": [
    "bs.Type"
   ]
  },
  {
   "cell_type": "code",
   "execution_count": 82,
   "id": "c11428e9",
   "metadata": {},
   "outputs": [],
   "source": [
    "del bs"
   ]
  },
  {
   "cell_type": "markdown",
   "id": "56de2c88",
   "metadata": {},
   "source": [
    "# The pass Statement"
   ]
  },
  {
   "cell_type": "code",
   "execution_count": 84,
   "id": "6dd26781",
   "metadata": {},
   "outputs": [],
   "source": [
    "class Empty:\n",
    "    pass"
   ]
  },
  {
   "cell_type": "code",
   "execution_count": null,
   "id": "d82dc9de",
   "metadata": {},
   "outputs": [],
   "source": []
  }
 ],
 "metadata": {
  "kernelspec": {
   "display_name": "Python 3 (ipykernel)",
   "language": "python",
   "name": "python3"
  },
  "language_info": {
   "codemirror_mode": {
    "name": "ipython",
    "version": 3
   },
   "file_extension": ".py",
   "mimetype": "text/x-python",
   "name": "python",
   "nbconvert_exporter": "python",
   "pygments_lexer": "ipython3",
   "version": "3.11.2"
  }
 },
 "nbformat": 4,
 "nbformat_minor": 5
}
