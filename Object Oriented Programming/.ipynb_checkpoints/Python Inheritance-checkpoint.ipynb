{
 "cells": [
  {
   "cell_type": "markdown",
   "id": "3bfc0974",
   "metadata": {},
   "source": [
    "# Python Inheritance\n",
    "### Inheritance allows us to define a class that inherits all the methods and properties from another class.\n",
    "\n",
    "### Parent class is the class being inherited from, also called base class.\n",
    "\n",
    "### Child class is the class that inherits from another class, also called derived class."
   ]
  },
  {
   "cell_type": "code",
   "execution_count": 1,
   "id": "a2cca18b",
   "metadata": {},
   "outputs": [
    {
     "name": "stdout",
     "output_type": "stream",
     "text": [
      "John Doe\n"
     ]
    }
   ],
   "source": [
    "class Person:\n",
    "  def __init__(self, fname, lname):\n",
    "    self.firstname = fname\n",
    "    self.lastname = lname\n",
    "\n",
    "  def printname(self):\n",
    "    print(self.firstname, self.lastname)\n",
    "\n",
    "#Use the Person class to create an object, and then execute the printname method:\n",
    "\n",
    "x = Person(\"John\", \"Doe\")\n",
    "x.printname()"
   ]
  },
  {
   "cell_type": "markdown",
   "id": "39eb3a85",
   "metadata": {},
   "source": [
    "# Create a Child Class"
   ]
  },
  {
   "cell_type": "code",
   "execution_count": 2,
   "id": "75711507",
   "metadata": {},
   "outputs": [],
   "source": [
    "class Student(Person):\n",
    "  pass\n"
   ]
  },
  {
   "cell_type": "code",
   "execution_count": 3,
   "id": "07e48788",
   "metadata": {},
   "outputs": [
    {
     "name": "stdout",
     "output_type": "stream",
     "text": [
      "Mike Olsen\n"
     ]
    }
   ],
   "source": [
    "x = Student(\"Mike\", \"Olsen\")\n",
    "x.printname()"
   ]
  },
  {
   "cell_type": "code",
   "execution_count": 28,
   "id": "94f56fc1",
   "metadata": {},
   "outputs": [],
   "source": [
    "class vechiles:\n",
    "    def __init__(self,tyre,movement,color):\n",
    "        self.tyre = tyre\n",
    "        self.movement = movement\n",
    "        self.color = color\n",
    "        \n",
    "    def show_feat(self):\n",
    "        return self.tyre, self.movement"
   ]
  },
  {
   "cell_type": "code",
   "execution_count": 30,
   "id": "df892aba",
   "metadata": {},
   "outputs": [],
   "source": [
    "x = vechiles('Yes','Yes','black')"
   ]
  },
  {
   "cell_type": "code",
   "execution_count": 31,
   "id": "ec6c0d1a",
   "metadata": {},
   "outputs": [
    {
     "data": {
      "text/plain": [
       "('Yes', 'Yes')"
      ]
     },
     "execution_count": 31,
     "metadata": {},
     "output_type": "execute_result"
    }
   ],
   "source": [
    "x.show_feat()"
   ]
  },
  {
   "cell_type": "code",
   "execution_count": 32,
   "id": "c2fb742e",
   "metadata": {},
   "outputs": [],
   "source": [
    "class car(vechiles):\n",
    "    def show_extra_fes(self):\n",
    "        print('Modern car with EV Features')"
   ]
  },
  {
   "cell_type": "code",
   "execution_count": 34,
   "id": "26471ddc",
   "metadata": {},
   "outputs": [],
   "source": [
    "x = car('Yes','Yes','color')"
   ]
  },
  {
   "cell_type": "code",
   "execution_count": 35,
   "id": "2619632c",
   "metadata": {},
   "outputs": [
    {
     "name": "stdout",
     "output_type": "stream",
     "text": [
      "Modern car with EV Features\n"
     ]
    }
   ],
   "source": [
    "x.show_extra_fes()"
   ]
  },
  {
   "cell_type": "markdown",
   "id": "804033b8",
   "metadata": {},
   "source": [
    "# Add the __init__() Function in child class"
   ]
  },
  {
   "cell_type": "code",
   "execution_count": 36,
   "id": "eee98331",
   "metadata": {},
   "outputs": [],
   "source": [
    "class car(vechiles):\n",
    "    def __init__(self,tyre,movement):\n",
    "        self.tyre = tyre\n",
    "        self.movement = movement\n",
    "        \n",
    "        \n",
    "        def show_extra_fes(self):\n",
    "            print('Modern car with EV Features')"
   ]
  },
  {
   "cell_type": "code",
   "execution_count": 37,
   "id": "e97889d7",
   "metadata": {},
   "outputs": [],
   "source": [
    "cf = car('mrf','yes')"
   ]
  },
  {
   "cell_type": "code",
   "execution_count": 38,
   "id": "d4b21679",
   "metadata": {},
   "outputs": [
    {
     "data": {
      "text/plain": [
       "'mrf'"
      ]
     },
     "execution_count": 38,
     "metadata": {},
     "output_type": "execute_result"
    }
   ],
   "source": [
    "cf.tyre"
   ]
  },
  {
   "cell_type": "code",
   "execution_count": 39,
   "id": "c48d5ade",
   "metadata": {},
   "outputs": [
    {
     "data": {
      "text/plain": [
       "'yes'"
      ]
     },
     "execution_count": 39,
     "metadata": {},
     "output_type": "execute_result"
    }
   ],
   "source": [
    "cf.movement"
   ]
  },
  {
   "cell_type": "markdown",
   "id": "5f1e532d",
   "metadata": {},
   "source": [
    "# Use the super() Function"
   ]
  },
  {
   "cell_type": "code",
   "execution_count": 53,
   "id": "96909403",
   "metadata": {},
   "outputs": [],
   "source": [
    "class Student(Person):\n",
    "  def __init__(self, fname, lname):\n",
    "    super().__init__(fname, lname)"
   ]
  },
  {
   "cell_type": "code",
   "execution_count": 54,
   "id": "8fe46bf5",
   "metadata": {},
   "outputs": [],
   "source": [
    "y = Student('ram','din')"
   ]
  },
  {
   "cell_type": "code",
   "execution_count": 56,
   "id": "3653a158",
   "metadata": {},
   "outputs": [
    {
     "name": "stdout",
     "output_type": "stream",
     "text": [
      "ram din\n"
     ]
    }
   ],
   "source": [
    "y.printname()"
   ]
  },
  {
   "cell_type": "code",
   "execution_count": 57,
   "id": "0de4f827",
   "metadata": {},
   "outputs": [
    {
     "data": {
      "text/plain": [
       "'ram'"
      ]
     },
     "execution_count": 57,
     "metadata": {},
     "output_type": "execute_result"
    }
   ],
   "source": [
    "y.firstname"
   ]
  },
  {
   "cell_type": "markdown",
   "id": "a95bc47a",
   "metadata": {},
   "source": [
    "# Add Properties"
   ]
  },
  {
   "cell_type": "code",
   "execution_count": 59,
   "id": "b79a10d1",
   "metadata": {},
   "outputs": [],
   "source": [
    "class Student(Person):\n",
    "  def __init__(self, fname, lname,year):\n",
    "    super().__init__(fname, lname)\n",
    "    self.gradutionyear = year"
   ]
  },
  {
   "cell_type": "code",
   "execution_count": 60,
   "id": "43f9549a",
   "metadata": {},
   "outputs": [],
   "source": [
    "z = Student('shyam','gangwar',2020)"
   ]
  },
  {
   "cell_type": "code",
   "execution_count": 61,
   "id": "f8c941fd",
   "metadata": {},
   "outputs": [
    {
     "data": {
      "text/plain": [
       "2020"
      ]
     },
     "execution_count": 61,
     "metadata": {},
     "output_type": "execute_result"
    }
   ],
   "source": [
    "z.gradutionyear"
   ]
  },
  {
   "cell_type": "code",
   "execution_count": 63,
   "id": "a2146f5b",
   "metadata": {},
   "outputs": [
    {
     "name": "stdout",
     "output_type": "stream",
     "text": [
      "shyam gangwar\n"
     ]
    }
   ],
   "source": [
    "z.printname()"
   ]
  },
  {
   "cell_type": "markdown",
   "id": "ae8f3550",
   "metadata": {},
   "source": [
    "# Add Methods"
   ]
  },
  {
   "cell_type": "code",
   "execution_count": 78,
   "id": "8fa73cde",
   "metadata": {},
   "outputs": [],
   "source": [
    "class Student(Person):\n",
    "  def __init__(self, fname, lname,year):\n",
    "    super().__init__(fname, lname)\n",
    "    self.gradutionyear = year\n",
    "    \n",
    "    def welcome(self):\n",
    "        print(\"Welcome\", self.fname, self.lname, \"to the class of\", self.graduationyear)"
   ]
  },
  {
   "cell_type": "code",
   "execution_count": 79,
   "id": "9b47fada",
   "metadata": {},
   "outputs": [],
   "source": [
    "met = Student('Aditya','Gupta',2023)"
   ]
  },
  {
   "cell_type": "code",
   "execution_count": 80,
   "id": "d987a782",
   "metadata": {},
   "outputs": [
    {
     "data": {
      "text/plain": [
       "2023"
      ]
     },
     "execution_count": 80,
     "metadata": {},
     "output_type": "execute_result"
    }
   ],
   "source": [
    "met.gradutionyear"
   ]
  },
  {
   "cell_type": "code",
   "execution_count": 81,
   "id": "29e6f896",
   "metadata": {},
   "outputs": [
    {
     "name": "stdout",
     "output_type": "stream",
     "text": [
      "Aditya Gupta\n"
     ]
    }
   ],
   "source": [
    "met.printname()"
   ]
  },
  {
   "cell_type": "code",
   "execution_count": null,
   "id": "9eb535c3",
   "metadata": {},
   "outputs": [],
   "source": [
    "met."
   ]
  }
 ],
 "metadata": {
  "kernelspec": {
   "display_name": "Python 3 (ipykernel)",
   "language": "python",
   "name": "python3"
  },
  "language_info": {
   "codemirror_mode": {
    "name": "ipython",
    "version": 3
   },
   "file_extension": ".py",
   "mimetype": "text/x-python",
   "name": "python",
   "nbconvert_exporter": "python",
   "pygments_lexer": "ipython3",
   "version": "3.11.2"
  }
 },
 "nbformat": 4,
 "nbformat_minor": 5
}
