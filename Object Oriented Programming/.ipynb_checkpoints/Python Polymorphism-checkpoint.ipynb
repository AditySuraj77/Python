{
 "cells": [
  {
   "cell_type": "markdown",
   "id": "e4587493",
   "metadata": {},
   "source": [
    "# Python Polymorphism\n",
    "### The word \"polymorphism\" means \"many forms\", and in programming it refers to methods/functions/operators with the same name that can be executed on many objects or classes."
   ]
  },
  {
   "cell_type": "markdown",
   "id": "78d8d24c",
   "metadata": {},
   "source": [
    "## Function Polymorphism\n",
    "### An example of a Python function that can be used on different objects is the len() function."
   ]
  },
  {
   "cell_type": "code",
   "execution_count": 7,
   "id": "83ae6ebe",
   "metadata": {},
   "outputs": [
    {
     "data": {
      "text/plain": [
       "9"
      ]
     },
     "execution_count": 7,
     "metadata": {},
     "output_type": "execute_result"
    }
   ],
   "source": [
    "str_ = \"WateMelon\"\n",
    "len(str_)"
   ]
  },
  {
   "cell_type": "code",
   "execution_count": 8,
   "id": "5b1d066f",
   "metadata": {},
   "outputs": [
    {
     "data": {
      "text/plain": [
       "11"
      ]
     },
     "execution_count": 8,
     "metadata": {},
     "output_type": "execute_result"
    }
   ],
   "source": [
    "lst = [0,1,2,3,4,5,6,7,8,9,10]\n",
    "len(lst)"
   ]
  },
  {
   "cell_type": "code",
   "execution_count": 9,
   "id": "878ec494",
   "metadata": {},
   "outputs": [
    {
     "data": {
      "text/plain": [
       "3"
      ]
     },
     "execution_count": 9,
     "metadata": {},
     "output_type": "execute_result"
    }
   ],
   "source": [
    "tup = ('Apple','Gavava','Orange')\n",
    "len(tup)"
   ]
  },
  {
   "cell_type": "code",
   "execution_count": 12,
   "id": "abc5ae70",
   "metadata": {},
   "outputs": [],
   "source": [
    "thisdict = {\n",
    "    \"Name\":\"empty\",\n",
    "    \"brand\":'empty',\n",
    "    \"country\":None\n",
    "}"
   ]
  },
  {
   "cell_type": "code",
   "execution_count": 13,
   "id": "41ac8e4d",
   "metadata": {},
   "outputs": [
    {
     "data": {
      "text/plain": [
       "3"
      ]
     },
     "execution_count": 13,
     "metadata": {},
     "output_type": "execute_result"
    }
   ],
   "source": [
    "len(thisdict)"
   ]
  },
  {
   "cell_type": "markdown",
   "id": "2a486ad7",
   "metadata": {},
   "source": [
    "# Class Polymorphism"
   ]
  },
  {
   "cell_type": "raw",
   "id": "f6f0cd53",
   "metadata": {},
   "source": [
    "Polymorphism is often used in Class methods, where we can have multiple classes with the same method name.\n",
    "\n",
    "For example, say we have three classes: Car, Boat, and Plane, and they all have a method called move():"
   ]
  },
  {
   "cell_type": "code",
   "execution_count": 31,
   "id": "5cef118a",
   "metadata": {},
   "outputs": [],
   "source": [
    "class Car:\n",
    " def __init__(abs,brand,model):\n",
    "    abs.brand = brand\n",
    "    abs.model = model\n",
    "        \n",
    " def move(abs):\n",
    "    return print('Drive!')\n",
    "        \n",
    "class Boat:\n",
    " def __init__(abs,brand,model):\n",
    "    abs.brand = brand\n",
    "    abs.model = model\n",
    " def move(abs):\n",
    "    return print('Sail!')\n",
    "        \n",
    "class Plane:\n",
    " def __init__(abs,brand,model):\n",
    "    abs.brand = brand\n",
    "    abs.model = model\n",
    "        \n",
    " def move(abs):\n",
    "    return print('Fly!')"
   ]
  },
  {
   "cell_type": "code",
   "execution_count": 32,
   "id": "ebcd4ef9",
   "metadata": {},
   "outputs": [],
   "source": [
    "car = Car('ford','Mustnag')\n",
    "boat = Boat('Ibiza','Toursing20')\n",
    "plane = Plane('Boeing','747')"
   ]
  },
  {
   "cell_type": "code",
   "execution_count": 33,
   "id": "5b3ca554",
   "metadata": {},
   "outputs": [
    {
     "name": "stdout",
     "output_type": "stream",
     "text": [
      "Drive!\n",
      "None\n",
      "Sail!\n",
      "None\n",
      "Fly!\n",
      "None\n"
     ]
    }
   ],
   "source": [
    "for i in (car,boat,plane):\n",
    "    print(i.move())"
   ]
  },
  {
   "cell_type": "markdown",
   "id": "eccb7314",
   "metadata": {},
   "source": [
    "# Inheritance Class Polymorphism"
   ]
  },
  {
   "cell_type": "raw",
   "id": "a7b04a1d",
   "metadata": {},
   "source": [
    "What about classes with child classes with the same name? Can we use polymorphism there?\n",
    "\n",
    "Yes. If we use the example above and make a parent class called Vehicle, and make Car, Boat, Plane child classes of Vehicle, the child classes inherits the Vehicle methods, but can override them:"
   ]
  },
  {
   "cell_type": "code",
   "execution_count": 35,
   "id": "61853bd5",
   "metadata": {},
   "outputs": [
    {
     "name": "stdout",
     "output_type": "stream",
     "text": [
      "Ford\n",
      "Mustang\n",
      "Move!\n",
      "Ibiza\n",
      "Touring 20\n",
      "Sail!\n",
      "Boeing\n",
      "747\n",
      "Fly!\n"
     ]
    }
   ],
   "source": [
    "class Vehicle:\n",
    "  def __init__(self, brand, model):\n",
    "    self.brand = brand\n",
    "    self.model = model\n",
    "\n",
    "  def move(self):\n",
    "    print(\"Move!\")\n",
    "\n",
    "class Car(Vehicle):\n",
    "  pass\n",
    "\n",
    "class Boat(Vehicle):\n",
    "  def move(self):\n",
    "    print(\"Sail!\")\n",
    "\n",
    "class Plane(Vehicle):\n",
    "  def move(self):\n",
    "    print(\"Fly!\")\n",
    "\n",
    "car1 = Car(\"Ford\", \"Mustang\") #Create a Car object\n",
    "boat1 = Boat(\"Ibiza\", \"Touring 20\") #Create a Boat object\n",
    "plane1 = Plane(\"Boeing\", \"747\") #Create a Plane object\n",
    "\n",
    "for x in (car1, boat1, plane1):\n",
    "  print(x.brand)\n",
    "  print(x.model)\n",
    "  x.move()"
   ]
  },
  {
   "cell_type": "code",
   "execution_count": null,
   "id": "860bcc0a",
   "metadata": {},
   "outputs": [],
   "source": []
  }
 ],
 "metadata": {
  "kernelspec": {
   "display_name": "Python 3 (ipykernel)",
   "language": "python",
   "name": "python3"
  },
  "language_info": {
   "codemirror_mode": {
    "name": "ipython",
    "version": 3
   },
   "file_extension": ".py",
   "mimetype": "text/x-python",
   "name": "python",
   "nbconvert_exporter": "python",
   "pygments_lexer": "ipython3",
   "version": "3.11.2"
  }
 },
 "nbformat": 4,
 "nbformat_minor": 5
}
