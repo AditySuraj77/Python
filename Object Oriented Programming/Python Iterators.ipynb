{
 "cells": [
  {
   "cell_type": "markdown",
   "id": "5dffe186",
   "metadata": {},
   "source": [
    "# Python Iterators\n",
    "### An iterator is an object that contains a countable number of values.\n",
    "\n",
    "### An iterator is an object that can be iterated upon, meaning that you can traverse through all the values.\n",
    "\n",
    "### echnically, in Python, an iterator is an object which implements the iterator protocol, which consist of the methods __iter__() and __next__().\n",
    "\n",
    "# Iterator vs Iterable\n",
    "### Lists, tuples, dictionaries, and sets are all iterable objects. They are iterable containers which you can get an iterator from.\n",
    "\n",
    "### All these objects have a iter() method which is used to get an iterator:"
   ]
  },
  {
   "cell_type": "code",
   "execution_count": 2,
   "id": "1dbe0d3e",
   "metadata": {},
   "outputs": [],
   "source": [
    "mytup = ('banana','apple','orange','strawberry')"
   ]
  },
  {
   "cell_type": "code",
   "execution_count": 3,
   "id": "26dc5511",
   "metadata": {},
   "outputs": [],
   "source": [
    "pri_tup = iter(mytup)"
   ]
  },
  {
   "cell_type": "code",
   "execution_count": 4,
   "id": "ed2bb760",
   "metadata": {},
   "outputs": [
    {
     "name": "stdout",
     "output_type": "stream",
     "text": [
      "banana\n"
     ]
    }
   ],
   "source": [
    "print(next(pri_tup)) # next method use for print one by one item in list or anyother datatype"
   ]
  },
  {
   "cell_type": "markdown",
   "id": "65bffe73",
   "metadata": {},
   "source": [
    "# Iterator with string"
   ]
  },
  {
   "cell_type": "code",
   "execution_count": null,
   "id": "9967aa34",
   "metadata": {},
   "outputs": [],
   "source": [
    "mystr = 'pineapple'"
   ]
  },
  {
   "cell_type": "code",
   "execution_count": null,
   "id": "ddde23d5",
   "metadata": {},
   "outputs": [],
   "source": [
    "str_ = iter(mystr)"
   ]
  },
  {
   "cell_type": "code",
   "execution_count": null,
   "id": "72476b1c",
   "metadata": {},
   "outputs": [],
   "source": [
    "print(next(str_)) # In string next method was printing one by one word the number of countable"
   ]
  },
  {
   "cell_type": "code",
   "execution_count": 16,
   "id": "3ffea2ac",
   "metadata": {},
   "outputs": [
    {
     "data": {
      "text/plain": [
       "1"
      ]
     },
     "execution_count": 16,
     "metadata": {},
     "output_type": "execute_result"
    }
   ],
   "source": [
    "l = [1,2,3,4,5]\n",
    "iter_l = iter(l)\n",
    "next(iter_l)"
   ]
  },
  {
   "cell_type": "code",
   "execution_count": 14,
   "id": "99e4c810",
   "metadata": {},
   "outputs": [
    {
     "data": {
      "text/plain": [
       "['__add__',\n",
       " '__class__',\n",
       " '__class_getitem__',\n",
       " '__contains__',\n",
       " '__delattr__',\n",
       " '__delitem__',\n",
       " '__dir__',\n",
       " '__doc__',\n",
       " '__eq__',\n",
       " '__format__',\n",
       " '__ge__',\n",
       " '__getattribute__',\n",
       " '__getitem__',\n",
       " '__getstate__',\n",
       " '__gt__',\n",
       " '__hash__',\n",
       " '__iadd__',\n",
       " '__imul__',\n",
       " '__init__',\n",
       " '__init_subclass__',\n",
       " '__iter__',\n",
       " '__le__',\n",
       " '__len__',\n",
       " '__lt__',\n",
       " '__mul__',\n",
       " '__ne__',\n",
       " '__new__',\n",
       " '__reduce__',\n",
       " '__reduce_ex__',\n",
       " '__repr__',\n",
       " '__reversed__',\n",
       " '__rmul__',\n",
       " '__setattr__',\n",
       " '__setitem__',\n",
       " '__sizeof__',\n",
       " '__str__',\n",
       " '__subclasshook__',\n",
       " 'append',\n",
       " 'clear',\n",
       " 'copy',\n",
       " 'count',\n",
       " 'extend',\n",
       " 'index',\n",
       " 'insert',\n",
       " 'pop',\n",
       " 'remove',\n",
       " 'reverse',\n",
       " 'sort']"
      ]
     },
     "execution_count": 14,
     "metadata": {},
     "output_type": "execute_result"
    }
   ],
   "source": [
    "dir(l)"
   ]
  },
  {
   "cell_type": "code",
   "execution_count": null,
   "id": "c38c4567",
   "metadata": {},
   "outputs": [],
   "source": []
  },
  {
   "cell_type": "markdown",
   "id": "369a9009",
   "metadata": {},
   "source": [
    "# Looping Through an Iterator"
   ]
  },
  {
   "cell_type": "code",
   "execution_count": 7,
   "id": "848258f1",
   "metadata": {},
   "outputs": [
    {
     "name": "stdout",
     "output_type": "stream",
     "text": [
      "apple\n",
      "banana\n",
      "cherry\n"
     ]
    }
   ],
   "source": [
    "mytuple = (\"apple\", \"banana\", \"cherry\")\n",
    "\n",
    "for x in mytuple:\n",
    "  print(x)"
   ]
  },
  {
   "cell_type": "code",
   "execution_count": 8,
   "id": "a9a10039",
   "metadata": {},
   "outputs": [
    {
     "data": {
      "text/plain": [
       "['__add__',\n",
       " '__class__',\n",
       " '__class_getitem__',\n",
       " '__contains__',\n",
       " '__delattr__',\n",
       " '__dir__',\n",
       " '__doc__',\n",
       " '__eq__',\n",
       " '__format__',\n",
       " '__ge__',\n",
       " '__getattribute__',\n",
       " '__getitem__',\n",
       " '__getnewargs__',\n",
       " '__getstate__',\n",
       " '__gt__',\n",
       " '__hash__',\n",
       " '__init__',\n",
       " '__init_subclass__',\n",
       " '__iter__',\n",
       " '__le__',\n",
       " '__len__',\n",
       " '__lt__',\n",
       " '__mul__',\n",
       " '__ne__',\n",
       " '__new__',\n",
       " '__reduce__',\n",
       " '__reduce_ex__',\n",
       " '__repr__',\n",
       " '__rmul__',\n",
       " '__setattr__',\n",
       " '__sizeof__',\n",
       " '__str__',\n",
       " '__subclasshook__',\n",
       " 'count',\n",
       " 'index']"
      ]
     },
     "execution_count": 8,
     "metadata": {},
     "output_type": "execute_result"
    }
   ],
   "source": [
    "dir (mytuple)"
   ]
  },
  {
   "cell_type": "markdown",
   "id": "cf75cc64",
   "metadata": {},
   "source": [
    "# Making Own for loop"
   ]
  },
  {
   "cell_type": "code",
   "execution_count": 18,
   "id": "568f48f0",
   "metadata": {},
   "outputs": [],
   "source": [
    "def personal_for_loop(iterable):\n",
    "    iterator = iter(iterable)\n",
    "    \n",
    "    while True:\n",
    "        try:\n",
    "            print(next(iterator))\n",
    "        except StopIteration:\n",
    "            break"
   ]
  },
  {
   "cell_type": "code",
   "execution_count": 24,
   "id": "e6f41919",
   "metadata": {},
   "outputs": [],
   "source": [
    "p_iter_1 = [1,2,3,4,5,6,7]\n",
    "p_iter_2 = {10,20,30,40,50,50,60}\n",
    "p_iter_3 = (11,21,31,41,51,61,71)\n",
    "p_iter_4 = {0:1,2:2,1:1}"
   ]
  },
  {
   "cell_type": "code",
   "execution_count": 29,
   "id": "e90c5978",
   "metadata": {},
   "outputs": [
    {
     "name": "stdout",
     "output_type": "stream",
     "text": [
      "1\n",
      "2\n",
      "3\n",
      "4\n",
      "5\n",
      "6\n",
      "7\n",
      "None\n",
      "50\n",
      "20\n",
      "40\n",
      "10\n",
      "60\n",
      "30\n",
      "None\n",
      "11\n",
      "21\n",
      "31\n",
      "41\n",
      "51\n",
      "61\n",
      "71\n",
      "None\n",
      "0\n",
      "2\n",
      "1\n",
      "None\n"
     ]
    }
   ],
   "source": [
    "print(personal_for_loop(p_iter_1))\n",
    "print(personal_for_loop(p_iter_2))\n",
    "print(personal_for_loop(p_iter_3))\n",
    "print(personal_for_loop(p_iter_4))"
   ]
  },
  {
   "cell_type": "code",
   "execution_count": 26,
   "id": "23ab1511",
   "metadata": {},
   "outputs": [
    {
     "name": "stdout",
     "output_type": "stream",
     "text": [
      "50\n",
      "20\n",
      "40\n",
      "10\n",
      "60\n",
      "30\n"
     ]
    }
   ],
   "source": []
  },
  {
   "cell_type": "code",
   "execution_count": null,
   "id": "a9e8a1fd",
   "metadata": {},
   "outputs": [],
   "source": []
  },
  {
   "cell_type": "code",
   "execution_count": null,
   "id": "da572a15",
   "metadata": {},
   "outputs": [],
   "source": []
  },
  {
   "cell_type": "code",
   "execution_count": 22,
   "id": "af95b1c8",
   "metadata": {},
   "outputs": [
    {
     "name": "stdout",
     "output_type": "stream",
     "text": [
      "-----------------------------------------------------------------------------------------------------------------------------\n",
      "-----------------------------------------------------------------------------------------------------------------------------\n",
      "-----------------------------------------------------------------------------------------------------------------------------\n"
     ]
    }
   ],
   "source": [
    "print('-----------------------------------------------------------------------------------------------------------------------------')\n",
    "print('-----------------------------------------------------------------------------------------------------------------------------')\n",
    "print('-----------------------------------------------------------------------------------------------------------------------------')"
   ]
  },
  {
   "cell_type": "code",
   "execution_count": null,
   "id": "c73cda2b",
   "metadata": {},
   "outputs": [],
   "source": []
  },
  {
   "cell_type": "code",
   "execution_count": null,
   "id": "51802eb9",
   "metadata": {},
   "outputs": [],
   "source": [
    "mystr = \"banana\"\n",
    "\n",
    "for x in mystr:\n",
    "  print(x)"
   ]
  },
  {
   "cell_type": "code",
   "execution_count": null,
   "id": "c9b7550d",
   "metadata": {},
   "outputs": [],
   "source": [
    "class Number:\n",
    "    def __iter__(self):\n",
    "        self.a = 1\n",
    "        return self\n",
    "    \n",
    "    def __next__(self):\n",
    "        x = self.a\n",
    "        self.a += 1\n",
    "        return x"
   ]
  },
  {
   "cell_type": "code",
   "execution_count": null,
   "id": "6beb05a1",
   "metadata": {},
   "outputs": [],
   "source": [
    "myclass = Number()"
   ]
  },
  {
   "cell_type": "code",
   "execution_count": null,
   "id": "54ba93a9",
   "metadata": {},
   "outputs": [],
   "source": [
    "myiter = iter(myclass)"
   ]
  },
  {
   "cell_type": "code",
   "execution_count": null,
   "id": "824ee3c4",
   "metadata": {},
   "outputs": [],
   "source": [
    "print(next(myiter))\n",
    "print(next(myiter))\n",
    "print(next(myiter))\n",
    "print(next(myiter))\n",
    "print(next(myiter))\n",
    "print(next(myiter))\n",
    "print(next(myiter))\n",
    "print(next(myiter))"
   ]
  },
  {
   "cell_type": "markdown",
   "id": "a69c29e9",
   "metadata": {},
   "source": [
    "# StopIteration\n",
    "### The example above would continue forever if you had enough next() statements, or if it was used in a for loop.\n",
    "\n",
    "### To prevent the iteration from going on forever, we can use the StopIteration statement.\n",
    "\n",
    "### In the __next__() method, we can add a terminating condition to raise an error if the iteration is done a specified number of times:"
   ]
  },
  {
   "cell_type": "code",
   "execution_count": null,
   "id": "895b77ca",
   "metadata": {},
   "outputs": [],
   "source": [
    "class Number:\n",
    "    def __iter__(self):\n",
    "        self.a = 1\n",
    "        return self\n",
    "    \n",
    "    def __next__(self):\n",
    "        if self.a <=10:\n",
    "            x = self.a\n",
    "            self.a += 1\n",
    "            return x\n",
    "        else:\n",
    "            raise StopIteration"
   ]
  },
  {
   "cell_type": "code",
   "execution_count": null,
   "id": "a563313e",
   "metadata": {},
   "outputs": [],
   "source": [
    "my_class = Number()"
   ]
  },
  {
   "cell_type": "code",
   "execution_count": null,
   "id": "c5fa641b",
   "metadata": {},
   "outputs": [],
   "source": [
    "my_iter = iter(my_class)"
   ]
  },
  {
   "cell_type": "code",
   "execution_count": null,
   "id": "fbd54577",
   "metadata": {},
   "outputs": [],
   "source": [
    "for i in my_iter:\n",
    "    print(i)"
   ]
  },
  {
   "cell_type": "code",
   "execution_count": null,
   "id": "7a428594",
   "metadata": {},
   "outputs": [],
   "source": []
  }
 ],
 "metadata": {
  "kernelspec": {
   "display_name": "Python 3 (ipykernel)",
   "language": "python",
   "name": "python3"
  },
  "language_info": {
   "codemirror_mode": {
    "name": "ipython",
    "version": 3
   },
   "file_extension": ".py",
   "mimetype": "text/x-python",
   "name": "python",
   "nbconvert_exporter": "python",
   "pygments_lexer": "ipython3",
   "version": "3.11.2"
  }
 },
 "nbformat": 4,
 "nbformat_minor": 5
}
