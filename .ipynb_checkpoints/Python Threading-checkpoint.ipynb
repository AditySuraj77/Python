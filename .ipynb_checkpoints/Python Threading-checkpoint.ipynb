{
 "cells": [
  {
   "cell_type": "code",
   "execution_count": 1,
   "id": "d12d49fa",
   "metadata": {},
   "outputs": [],
   "source": [
    "import time"
   ]
  },
  {
   "cell_type": "code",
   "execution_count": 10,
   "id": "9da83675",
   "metadata": {},
   "outputs": [],
   "source": [
    "def func(seconds):\n",
    "    time.sleep(seconds)\n",
    "    print(f\"sleep for {seconds} Seconds\")\n",
    "    time.sleep(seconds)\n",
    "    return seconds"
   ]
  },
  {
   "cell_type": "code",
   "execution_count": 39,
   "id": "d1c85f1b",
   "metadata": {},
   "outputs": [
    {
     "name": "stdout",
     "output_type": "stream",
     "text": [
      "sleep for 5 Seconds\n",
      "sleep for 4 Seconds\n",
      "sleep for 3 Seconds\n",
      "sleep for 2 Seconds\n",
      "sleep for 1 Seconds\n"
     ]
    }
   ],
   "source": [
    "time1 = time.time()\n",
    "func(5)\n",
    "func(4)\n",
    "func(3)\n",
    "func(2)\n",
    "func(1)\n",
    "time2 = time.time()\n"
   ]
  },
  {
   "cell_type": "code",
   "execution_count": 40,
   "id": "bf1fe3e4",
   "metadata": {},
   "outputs": [
    {
     "name": "stdout",
     "output_type": "stream",
     "text": [
      "30.018102169036865\n"
     ]
    }
   ],
   "source": [
    "print(time2 - time1)"
   ]
  },
  {
   "cell_type": "markdown",
   "id": "2afcc9df",
   "metadata": {},
   "source": [
    "# Threading"
   ]
  },
  {
   "cell_type": "raw",
   "id": "b8170bb8",
   "metadata": {},
   "source": [
    "A Normal code take so much time to excute  For the better And Fast excutetion we use Threading module"
   ]
  },
  {
   "cell_type": "code",
   "execution_count": 49,
   "id": "c2418bdb",
   "metadata": {},
   "outputs": [],
   "source": [
    "import threading"
   ]
  },
  {
   "cell_type": "code",
   "execution_count": 50,
   "id": "44e1ce1d",
   "metadata": {},
   "outputs": [],
   "source": [
    "def func(seconds):\n",
    "    time.sleep(seconds)\n",
    "    print(f\"sleep for {seconds} Seconds\")\n",
    "    time.sleep(seconds)\n",
    "    return seconds"
   ]
  },
  {
   "cell_type": "code",
   "execution_count": 75,
   "id": "3a515607",
   "metadata": {},
   "outputs": [
    {
     "name": "stdout",
     "output_type": "stream",
     "text": [
      "sleep for 1 Seconds\n",
      "sleep for 2 Seconds\n",
      "sleep for 3 Seconds\n",
      "sleep for 4 Seconds\n",
      "sleep for 5 Seconds\n"
     ]
    }
   ],
   "source": [
    "time1 = time.time()\n",
    "t1 = threading.Thread(target=func,args=[1])\n",
    "t2 = threading.Thread(target=func,args=[2])\n",
    "t3 = threading.Thread(target=func,args=[3])\n",
    "t4 = threading.Thread(target=func,args=[4])\n",
    "t5 = threading.Thread(target=func,args=[5])\n",
    "\n",
    "t1.start()\n",
    "t2.start()\n",
    "t3.start()\n",
    "t4.start()\n",
    "t5.start()\n",
    "'''\n",
    "t1.join()\n",
    "t2.join()\n",
    "t3.join()\n",
    "t4.join()\n",
    "t5.join()\n",
    "'''\n",
    "\n",
    "time2 = time.time()"
   ]
  },
  {
   "cell_type": "code",
   "execution_count": 76,
   "id": "97a4ea8b",
   "metadata": {},
   "outputs": [
    {
     "name": "stdout",
     "output_type": "stream",
     "text": [
      "0.005002021789550781\n"
     ]
    }
   ],
   "source": [
    "print(time2 - time1)"
   ]
  },
  {
   "cell_type": "raw",
   "id": "a4dbe440",
   "metadata": {},
   "source": [
    "There are huge difference In the normal excuation And Threading excuation\n",
    "\n",
    "Normal excuation taken time =====> 30 seconds\n",
    "\n",
    "Threading excuation taken time =====> 0.011998176574707031\n"
   ]
  },
  {
   "cell_type": "raw",
   "id": "99d95eb4",
   "metadata": {},
   "source": []
  }
 ],
 "metadata": {
  "kernelspec": {
   "display_name": "Python 3 (ipykernel)",
   "language": "python",
   "name": "python3"
  },
  "language_info": {
   "codemirror_mode": {
    "name": "ipython",
    "version": 3
   },
   "file_extension": ".py",
   "mimetype": "text/x-python",
   "name": "python",
   "nbconvert_exporter": "python",
   "pygments_lexer": "ipython3",
   "version": "3.11.2"
  }
 },
 "nbformat": 4,
 "nbformat_minor": 5
}
