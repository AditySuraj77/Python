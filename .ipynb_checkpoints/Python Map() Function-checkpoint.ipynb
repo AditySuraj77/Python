{
 "cells": [
  {
   "cell_type": "code",
   "execution_count": 5,
   "id": "442ca742",
   "metadata": {},
   "outputs": [],
   "source": [
    "l_1 = ['apple','pineapple','orange','strawberry']"
   ]
  },
  {
   "cell_type": "code",
   "execution_count": 6,
   "id": "bc9b155b",
   "metadata": {},
   "outputs": [],
   "source": [
    "def find_len(li_st):\n",
    "    return len(li_st)\n",
    "\n",
    "x = map(find_len,l_1)"
   ]
  },
  {
   "cell_type": "code",
   "execution_count": 7,
   "id": "caf21188",
   "metadata": {},
   "outputs": [
    {
     "data": {
      "text/plain": [
       "<map at 0x27139a40850>"
      ]
     },
     "execution_count": 7,
     "metadata": {},
     "output_type": "execute_result"
    }
   ],
   "source": [
    "x"
   ]
  },
  {
   "cell_type": "code",
   "execution_count": 8,
   "id": "14741039",
   "metadata": {},
   "outputs": [
    {
     "data": {
      "text/plain": [
       "[5, 9, 6, 10]"
      ]
     },
     "execution_count": 8,
     "metadata": {},
     "output_type": "execute_result"
    }
   ],
   "source": [
    "list(x)"
   ]
  },
  {
   "cell_type": "code",
   "execution_count": 9,
   "id": "1c6eefca",
   "metadata": {},
   "outputs": [],
   "source": [
    "l_2 = [1,2,3,4,5,6,7,8,10]"
   ]
  },
  {
   "cell_type": "code",
   "execution_count": 16,
   "id": "a7bfd03b",
   "metadata": {},
   "outputs": [],
   "source": [
    "def even_odd(ls):\n",
    "    return ls%2, 'Even' if ls%2 == 0 else 'Odd'\n",
    "\n",
    "y = map(even_odd,l_2)"
   ]
  },
  {
   "cell_type": "code",
   "execution_count": 17,
   "id": "59109f66",
   "metadata": {},
   "outputs": [
    {
     "data": {
      "text/plain": [
       "[(1, 'Odd'),\n",
       " (0, 'Even'),\n",
       " (1, 'Odd'),\n",
       " (0, 'Even'),\n",
       " (1, 'Odd'),\n",
       " (0, 'Even'),\n",
       " (1, 'Odd'),\n",
       " (0, 'Even'),\n",
       " (0, 'Even')]"
      ]
     },
     "execution_count": 17,
     "metadata": {},
     "output_type": "execute_result"
    }
   ],
   "source": [
    "list(y)"
   ]
  },
  {
   "cell_type": "code",
   "execution_count": null,
   "id": "1931217b",
   "metadata": {},
   "outputs": [],
   "source": []
  }
 ],
 "metadata": {
  "kernelspec": {
   "display_name": "Python 3 (ipykernel)",
   "language": "python",
   "name": "python3"
  },
  "language_info": {
   "codemirror_mode": {
    "name": "ipython",
    "version": 3
   },
   "file_extension": ".py",
   "mimetype": "text/x-python",
   "name": "python",
   "nbconvert_exporter": "python",
   "pygments_lexer": "ipython3",
   "version": "3.11.2"
  }
 },
 "nbformat": 4,
 "nbformat_minor": 5
}
