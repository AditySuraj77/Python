{
 "cells": [
  {
   "cell_type": "markdown",
   "id": "f49ce62a",
   "metadata": {},
   "source": [
    "# Lambda"
   ]
  },
  {
   "cell_type": "code",
   "execution_count": 1,
   "id": "d581600c",
   "metadata": {},
   "outputs": [
    {
     "data": {
      "text/plain": [
       "<function __main__.<lambda>(x)>"
      ]
     },
     "execution_count": 1,
     "metadata": {},
     "output_type": "execute_result"
    }
   ],
   "source": [
    "x = lambda x: x+x\n",
    "x"
   ]
  },
  {
   "cell_type": "code",
   "execution_count": 2,
   "id": "21618f77",
   "metadata": {},
   "outputs": [
    {
     "data": {
      "text/plain": [
       "12"
      ]
     },
     "execution_count": 2,
     "metadata": {},
     "output_type": "execute_result"
    }
   ],
   "source": [
    "x(6)"
   ]
  },
  {
   "cell_type": "code",
   "execution_count": 3,
   "id": "198639ba",
   "metadata": {},
   "outputs": [],
   "source": [
    "two_num_multi = lambda x,y: x*y"
   ]
  },
  {
   "cell_type": "code",
   "execution_count": 4,
   "id": "07d6f8d5",
   "metadata": {},
   "outputs": [
    {
     "data": {
      "text/plain": [
       "25"
      ]
     },
     "execution_count": 4,
     "metadata": {},
     "output_type": "execute_result"
    }
   ],
   "source": [
    "two_num_multi(5,5)"
   ]
  },
  {
   "cell_type": "code",
   "execution_count": 5,
   "id": "37d87762",
   "metadata": {},
   "outputs": [],
   "source": [
    "three_num_add = lambda a,b,c:a+b+c"
   ]
  },
  {
   "cell_type": "code",
   "execution_count": 9,
   "id": "2de09495",
   "metadata": {},
   "outputs": [
    {
     "data": {
      "text/plain": [
       "1000"
      ]
     },
     "execution_count": 9,
     "metadata": {},
     "output_type": "execute_result"
    }
   ],
   "source": [
    "three_num_add(300,500,200)"
   ]
  },
  {
   "cell_type": "markdown",
   "id": "72631017",
   "metadata": {},
   "source": [
    "# Lambda with anonymous function"
   ]
  },
  {
   "cell_type": "code",
   "execution_count": 16,
   "id": "e34986da",
   "metadata": {},
   "outputs": [],
   "source": [
    "def myfunc(n):\n",
    "    return lambda x:x*n"
   ]
  },
  {
   "cell_type": "code",
   "execution_count": 17,
   "id": "a1586efd",
   "metadata": {},
   "outputs": [
    {
     "name": "stdout",
     "output_type": "stream",
     "text": [
      "<function myfunc.<locals>.<lambda> at 0x000002A3142E1080>\n"
     ]
    }
   ],
   "source": [
    "print(myfunc(3))"
   ]
  },
  {
   "cell_type": "code",
   "execution_count": 18,
   "id": "c2d81775",
   "metadata": {},
   "outputs": [
    {
     "name": "stdout",
     "output_type": "stream",
     "text": [
      "24\n"
     ]
    }
   ],
   "source": [
    "def myfunc(n):\n",
    "  return lambda a : a * n\n",
    "\n",
    "mydoubler = myfunc(2)\n",
    "\n",
    "print(mydoubler(12))"
   ]
  },
  {
   "cell_type": "code",
   "execution_count": 19,
   "id": "452070cd",
   "metadata": {},
   "outputs": [
    {
     "name": "stdout",
     "output_type": "stream",
     "text": [
      "22\n",
      "33\n"
     ]
    }
   ],
   "source": [
    "def func(n):\n",
    "    return lambda x: x*n\n",
    "\n",
    "mydoubler = myfunc(2)\n",
    "mytrippler = myfunc(3)\n",
    "\n",
    "print(mydoubler(11))\n",
    "print(mytrippler(11))"
   ]
  },
  {
   "cell_type": "code",
   "execution_count": null,
   "id": "3f280b35",
   "metadata": {},
   "outputs": [],
   "source": []
  }
 ],
 "metadata": {
  "kernelspec": {
   "display_name": "Python 3 (ipykernel)",
   "language": "python",
   "name": "python3"
  },
  "language_info": {
   "codemirror_mode": {
    "name": "ipython",
    "version": 3
   },
   "file_extension": ".py",
   "mimetype": "text/x-python",
   "name": "python",
   "nbconvert_exporter": "python",
   "pygments_lexer": "ipython3",
   "version": "3.11.2"
  }
 },
 "nbformat": 4,
 "nbformat_minor": 5
}
