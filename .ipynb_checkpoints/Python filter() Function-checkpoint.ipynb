{
 "cells": [
  {
   "cell_type": "code",
   "execution_count": 9,
   "id": "e6d633b5",
   "metadata": {},
   "outputs": [],
   "source": [
    "ages = [5,10,15,20,25,30,35,40,45,50]"
   ]
  },
  {
   "cell_type": "code",
   "execution_count": 17,
   "id": "3fcf2723",
   "metadata": {},
   "outputs": [],
   "source": [
    "def myfunc(x):\n",
    "    if x< 18:\n",
    "        return False\n",
    "    else:\n",
    "        return True\n",
    "        \n",
    "fil = filter(myfunc,ages)"
   ]
  },
  {
   "cell_type": "code",
   "execution_count": 18,
   "id": "d4dd904d",
   "metadata": {},
   "outputs": [
    {
     "name": "stdout",
     "output_type": "stream",
     "text": [
      "18\n",
      "24\n",
      "32\n"
     ]
    }
   ],
   "source": [
    "for i in fil:\n",
    "    print(i)"
   ]
  },
  {
   "cell_type": "code",
   "execution_count": null,
   "id": "99ad967b",
   "metadata": {},
   "outputs": [],
   "source": []
  }
 ],
 "metadata": {
  "kernelspec": {
   "display_name": "Python 3 (ipykernel)",
   "language": "python",
   "name": "python3"
  },
  "language_info": {
   "codemirror_mode": {
    "name": "ipython",
    "version": 3
   },
   "file_extension": ".py",
   "mimetype": "text/x-python",
   "name": "python",
   "nbconvert_exporter": "python",
   "pygments_lexer": "ipython3",
   "version": "3.11.2"
  }
 },
 "nbformat": 4,
 "nbformat_minor": 5
}
