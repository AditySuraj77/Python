{
 "cells": [
  {
   "cell_type": "markdown",
   "id": "95140ad0",
   "metadata": {},
   "source": [
    "# Creating List"
   ]
  },
  {
   "cell_type": "code",
   "execution_count": 12,
   "id": "be211edd",
   "metadata": {},
   "outputs": [
    {
     "data": {
      "text/plain": [
       "['apple', 'banana', 'mango', 'watermelon']"
      ]
     },
     "execution_count": 12,
     "metadata": {},
     "output_type": "execute_result"
    }
   ],
   "source": [
    "f_list = ['apple','banana','mango','watermelon']\n",
    "f_list"
   ]
  },
  {
   "cell_type": "code",
   "execution_count": 2,
   "id": "6197bb5c",
   "metadata": {},
   "outputs": [
    {
     "data": {
      "text/plain": [
       "list"
      ]
     },
     "execution_count": 2,
     "metadata": {},
     "output_type": "execute_result"
    }
   ],
   "source": [
    "type(f_list)"
   ]
  },
  {
   "cell_type": "code",
   "execution_count": null,
   "id": "4f94efea",
   "metadata": {},
   "outputs": [],
   "source": [
    "len(f_list)"
   ]
  },
  {
   "cell_type": "code",
   "execution_count": 5,
   "id": "15300872",
   "metadata": {},
   "outputs": [],
   "source": [
    "s_list = ['apple',33,5.5,True,4+4]"
   ]
  },
  {
   "cell_type": "code",
   "execution_count": 6,
   "id": "e839fd93",
   "metadata": {},
   "outputs": [
    {
     "data": {
      "text/plain": [
       "['apple', 33, 5.5, True, 8]"
      ]
     },
     "execution_count": 6,
     "metadata": {},
     "output_type": "execute_result"
    }
   ],
   "source": [
    "s_list"
   ]
  },
  {
   "cell_type": "code",
   "execution_count": 9,
   "id": "3a5d9ea4",
   "metadata": {},
   "outputs": [],
   "source": [
    "fet_s_list = s_list[1]"
   ]
  },
  {
   "cell_type": "code",
   "execution_count": 11,
   "id": "c301a4d2",
   "metadata": {},
   "outputs": [
    {
     "data": {
      "text/plain": [
       "int"
      ]
     },
     "execution_count": 11,
     "metadata": {},
     "output_type": "execute_result"
    }
   ],
   "source": [
    "type(fet_s_list)"
   ]
  },
  {
   "cell_type": "code",
   "execution_count": 13,
   "id": "faa8b59b",
   "metadata": {},
   "outputs": [
    {
     "data": {
      "text/plain": [
       "list['apple', 'none', 44, 5.5, True]"
      ]
     },
     "execution_count": 13,
     "metadata": {},
     "output_type": "execute_result"
    }
   ],
   "source": [
    "list['apple','none',44,5.5,True]"
   ]
  },
  {
   "cell_type": "markdown",
   "id": "75f86966",
   "metadata": {},
   "source": [
    "# Access Items"
   ]
  },
  {
   "cell_type": "code",
   "execution_count": 15,
   "id": "18629df5",
   "metadata": {},
   "outputs": [],
   "source": [
    "fo_list = [\"apple\", \"banana\", \"cherry\", \"orange\", \"kiwi\", \"melon\", \"mango\"]"
   ]
  },
  {
   "cell_type": "code",
   "execution_count": 16,
   "id": "bb2c75ec",
   "metadata": {},
   "outputs": [
    {
     "data": {
      "text/plain": [
       "list"
      ]
     },
     "execution_count": 16,
     "metadata": {},
     "output_type": "execute_result"
    }
   ],
   "source": [
    "type(fo_list)"
   ]
  },
  {
   "cell_type": "code",
   "execution_count": 18,
   "id": "9406651d",
   "metadata": {},
   "outputs": [
    {
     "data": {
      "text/plain": [
       "'banana'"
      ]
     },
     "execution_count": 18,
     "metadata": {},
     "output_type": "execute_result"
    }
   ],
   "source": [
    "fo_list[1]"
   ]
  },
  {
   "cell_type": "code",
   "execution_count": 19,
   "id": "14032de5",
   "metadata": {},
   "outputs": [
    {
     "data": {
      "text/plain": [
       "'mango'"
      ]
     },
     "execution_count": 19,
     "metadata": {},
     "output_type": "execute_result"
    }
   ],
   "source": [
    "fo_list[-1]"
   ]
  },
  {
   "cell_type": "code",
   "execution_count": 20,
   "id": "68ec58eb",
   "metadata": {},
   "outputs": [
    {
     "data": {
      "text/plain": [
       "['cherry', 'orange', 'kiwi']"
      ]
     },
     "execution_count": 20,
     "metadata": {},
     "output_type": "execute_result"
    }
   ],
   "source": [
    "fo_list[2:5]"
   ]
  },
  {
   "cell_type": "code",
   "execution_count": 21,
   "id": "a32a5204",
   "metadata": {},
   "outputs": [
    {
     "data": {
      "text/plain": [
       "['apple', 'banana', 'cherry', 'orange']"
      ]
     },
     "execution_count": 21,
     "metadata": {},
     "output_type": "execute_result"
    }
   ],
   "source": [
    "fo_list[:4]"
   ]
  },
  {
   "cell_type": "code",
   "execution_count": 22,
   "id": "2e9e1d99",
   "metadata": {},
   "outputs": [
    {
     "data": {
      "text/plain": [
       "['cherry', 'orange', 'kiwi', 'melon', 'mango']"
      ]
     },
     "execution_count": 22,
     "metadata": {},
     "output_type": "execute_result"
    }
   ],
   "source": [
    "fo_list[2:]"
   ]
  },
  {
   "cell_type": "code",
   "execution_count": 23,
   "id": "dc7ac5bb",
   "metadata": {},
   "outputs": [
    {
     "data": {
      "text/plain": [
       "['orange', 'kiwi', 'melon']"
      ]
     },
     "execution_count": 23,
     "metadata": {},
     "output_type": "execute_result"
    }
   ],
   "source": [
    "fo_list[-4:-1]"
   ]
  },
  {
   "cell_type": "code",
   "execution_count": 24,
   "id": "bc375790",
   "metadata": {},
   "outputs": [
    {
     "name": "stdout",
     "output_type": "stream",
     "text": [
      "Yes melon in the list\n"
     ]
    }
   ],
   "source": [
    "if 'melon' in fo_list:\n",
    "    print(\"Yes\",fo_list[5],\"in the list\")"
   ]
  },
  {
   "cell_type": "markdown",
   "id": "2f0701b8",
   "metadata": {},
   "source": [
    "# Change Item Value"
   ]
  },
  {
   "cell_type": "code",
   "execution_count": 25,
   "id": "d330d737",
   "metadata": {},
   "outputs": [],
   "source": [
    "ch_list = [\"apple\", \"banana\", \"cherry\", \"orange\", \"kiwi\", \"mango\"]"
   ]
  },
  {
   "cell_type": "code",
   "execution_count": 26,
   "id": "31723bcb",
   "metadata": {},
   "outputs": [],
   "source": [
    "ch_list[1] = 'BananaShake'"
   ]
  },
  {
   "cell_type": "code",
   "execution_count": 27,
   "id": "e3ad1eb3",
   "metadata": {},
   "outputs": [
    {
     "data": {
      "text/plain": [
       "['apple', 'BananaShake', 'cherry', 'orange', 'kiwi', 'mango']"
      ]
     },
     "execution_count": 27,
     "metadata": {},
     "output_type": "execute_result"
    }
   ],
   "source": [
    "ch_list"
   ]
  },
  {
   "cell_type": "code",
   "execution_count": 28,
   "id": "6643da9b",
   "metadata": {},
   "outputs": [],
   "source": [
    "ch_list[1:3] = ['BananaShake','StrawBerry']"
   ]
  },
  {
   "cell_type": "code",
   "execution_count": 29,
   "id": "60f6de73",
   "metadata": {},
   "outputs": [
    {
     "data": {
      "text/plain": [
       "['apple', 'BananaShake', 'StrawBerry', 'orange', 'kiwi', 'mango']"
      ]
     },
     "execution_count": 29,
     "metadata": {},
     "output_type": "execute_result"
    }
   ],
   "source": [
    "ch_list"
   ]
  },
  {
   "cell_type": "code",
   "execution_count": 30,
   "id": "590e98c2",
   "metadata": {},
   "outputs": [],
   "source": [
    "ch_list[1:2] = ['BananaShake','StrawBerry']"
   ]
  },
  {
   "cell_type": "code",
   "execution_count": 31,
   "id": "c6b068a1",
   "metadata": {},
   "outputs": [
    {
     "data": {
      "text/plain": [
       "['apple', 'BananaShake', 'StrawBerry', 'StrawBerry', 'orange', 'kiwi', 'mango']"
      ]
     },
     "execution_count": 31,
     "metadata": {},
     "output_type": "execute_result"
    }
   ],
   "source": [
    "ch_list"
   ]
  },
  {
   "cell_type": "code",
   "execution_count": 32,
   "id": "4d52b77d",
   "metadata": {},
   "outputs": [],
   "source": [
    "ch_list[1:3] = ['Graphes']"
   ]
  },
  {
   "cell_type": "code",
   "execution_count": 35,
   "id": "52ac8767",
   "metadata": {},
   "outputs": [
    {
     "data": {
      "text/plain": [
       "['apple', 'Graphes', 'StrawBerry', 'orange', 'kiwi', 'mango']"
      ]
     },
     "execution_count": 35,
     "metadata": {},
     "output_type": "execute_result"
    }
   ],
   "source": [
    "ch_list"
   ]
  },
  {
   "cell_type": "markdown",
   "id": "c99fc806",
   "metadata": {},
   "source": [
    "# Insert Items"
   ]
  },
  {
   "cell_type": "code",
   "execution_count": 36,
   "id": "039f5f1a",
   "metadata": {},
   "outputs": [],
   "source": [
    "ins_list = [\"apple\", \"banana\", \"cherry\", \"orange\", \"kiwi\", \"mango\"]"
   ]
  },
  {
   "cell_type": "code",
   "execution_count": 44,
   "id": "5798941b",
   "metadata": {},
   "outputs": [],
   "source": [
    "ins_list.insert(2,'Babab')"
   ]
  },
  {
   "cell_type": "code",
   "execution_count": 45,
   "id": "83b267f1",
   "metadata": {},
   "outputs": [
    {
     "data": {
      "text/plain": [
       "['apple',\n",
       " 'banana',\n",
       " 'Babab',\n",
       " 'cherry',\n",
       " 'orange',\n",
       " 'kiwi',\n",
       " 'KacchaMango',\n",
       " 'KacchaMango',\n",
       " 'KacchaMango',\n",
       " 'mango']"
      ]
     },
     "execution_count": 45,
     "metadata": {},
     "output_type": "execute_result"
    }
   ],
   "source": [
    "ins_list"
   ]
  },
  {
   "cell_type": "markdown",
   "id": "b5fa6cfb",
   "metadata": {},
   "source": [
    "# Add List Items\n"
   ]
  },
  {
   "cell_type": "code",
   "execution_count": 46,
   "id": "8d1b8721",
   "metadata": {},
   "outputs": [],
   "source": [
    "# Append\n",
    "thislist = [\"apple\", \"banana\", \"cherry\"]\n",
    "thislist.append('Orange')"
   ]
  },
  {
   "cell_type": "code",
   "execution_count": 47,
   "id": "8b46f568",
   "metadata": {},
   "outputs": [
    {
     "data": {
      "text/plain": [
       "['apple', 'banana', 'cherry', 'Orange']"
      ]
     },
     "execution_count": 47,
     "metadata": {},
     "output_type": "execute_result"
    }
   ],
   "source": [
    "thislist"
   ]
  },
  {
   "cell_type": "code",
   "execution_count": 48,
   "id": "97f6c3db",
   "metadata": {},
   "outputs": [],
   "source": [
    "# Insert\n",
    "thislist.insert(1,'Gavava')"
   ]
  },
  {
   "cell_type": "code",
   "execution_count": 49,
   "id": "21f49e84",
   "metadata": {},
   "outputs": [
    {
     "data": {
      "text/plain": [
       "['apple', 'Gavava', 'banana', 'cherry', 'Orange']"
      ]
     },
     "execution_count": 49,
     "metadata": {},
     "output_type": "execute_result"
    }
   ],
   "source": [
    "thislist"
   ]
  },
  {
   "cell_type": "code",
   "execution_count": 50,
   "id": "18420bd1",
   "metadata": {},
   "outputs": [],
   "source": [
    "# extend\n",
    "thislist = [\"apple\", \"banana\", \"cherry\"]\n",
    "tropical = [\"mango\", \"pineapple\", \"papaya\"]\n",
    "thislist.extend(tropical)"
   ]
  },
  {
   "cell_type": "code",
   "execution_count": 51,
   "id": "7590447d",
   "metadata": {},
   "outputs": [
    {
     "data": {
      "text/plain": [
       "['apple', 'banana', 'cherry', 'mango', 'pineapple', 'papaya']"
      ]
     },
     "execution_count": 51,
     "metadata": {},
     "output_type": "execute_result"
    }
   ],
   "source": [
    "thislist"
   ]
  },
  {
   "cell_type": "code",
   "execution_count": 64,
   "id": "61ba8e3b",
   "metadata": {},
   "outputs": [
    {
     "name": "stdout",
     "output_type": "stream",
     "text": [
      "['apple', 'banana', 'cherry', 'kiwi', 'orange']\n"
     ]
    }
   ],
   "source": [
    "thislist = [\"apple\", \"banana\", \"cherry\"]\n",
    "thistuple = (\"kiwi\", \"orange\")\n",
    "thislist.extend(thistuple)\n",
    "print(thislist)"
   ]
  },
  {
   "cell_type": "code",
   "execution_count": 65,
   "id": "dbf2fd85",
   "metadata": {},
   "outputs": [],
   "source": [
    "ex"
   ]
  },
  {
   "cell_type": "markdown",
   "id": "11c8c0c3",
   "metadata": {},
   "source": [
    "# Remove List Items"
   ]
  },
  {
   "cell_type": "code",
   "execution_count": 71,
   "id": "f5378aba",
   "metadata": {},
   "outputs": [],
   "source": [
    "fruitlist = [\"apple\", \"banana\", \"cherry\"]"
   ]
  },
  {
   "cell_type": "code",
   "execution_count": 72,
   "id": "c46e6c46",
   "metadata": {},
   "outputs": [],
   "source": [
    "# remove\n",
    "fruitlist.remove('cherry')"
   ]
  },
  {
   "cell_type": "code",
   "execution_count": 73,
   "id": "82427546",
   "metadata": {},
   "outputs": [
    {
     "data": {
      "text/plain": [
       "['apple', 'banana']"
      ]
     },
     "execution_count": 73,
     "metadata": {},
     "output_type": "execute_result"
    }
   ],
   "source": [
    "fruitlist"
   ]
  },
  {
   "cell_type": "code",
   "execution_count": 74,
   "id": "4f76b3b7",
   "metadata": {},
   "outputs": [
    {
     "data": {
      "text/plain": [
       "'banana'"
      ]
     },
     "execution_count": 74,
     "metadata": {},
     "output_type": "execute_result"
    }
   ],
   "source": [
    "# pop()\n",
    "fruitlist.pop(1)"
   ]
  },
  {
   "cell_type": "code",
   "execution_count": 75,
   "id": "7b900b02",
   "metadata": {},
   "outputs": [
    {
     "data": {
      "text/plain": [
       "['apple']"
      ]
     },
     "execution_count": 75,
     "metadata": {},
     "output_type": "execute_result"
    }
   ],
   "source": [
    "fruitlist"
   ]
  },
  {
   "cell_type": "code",
   "execution_count": 76,
   "id": "b44b547c",
   "metadata": {},
   "outputs": [],
   "source": [
    "fruitlist = [\"apple\", \"banana\", \"cherry\"]"
   ]
  },
  {
   "cell_type": "code",
   "execution_count": 77,
   "id": "528f2698",
   "metadata": {},
   "outputs": [
    {
     "data": {
      "text/plain": [
       "['apple', 'banana', 'cherry']"
      ]
     },
     "execution_count": 77,
     "metadata": {},
     "output_type": "execute_result"
    }
   ],
   "source": [
    "fruitlist"
   ]
  },
  {
   "cell_type": "code",
   "execution_count": 78,
   "id": "a58fd45b",
   "metadata": {},
   "outputs": [],
   "source": [
    "del fruitlist[0] # del fuction"
   ]
  },
  {
   "cell_type": "code",
   "execution_count": 79,
   "id": "c4fdc31a",
   "metadata": {},
   "outputs": [
    {
     "data": {
      "text/plain": [
       "['banana', 'cherry']"
      ]
     },
     "execution_count": 79,
     "metadata": {},
     "output_type": "execute_result"
    }
   ],
   "source": [
    "fruitlist"
   ]
  },
  {
   "cell_type": "code",
   "execution_count": 80,
   "id": "2db9f3ec",
   "metadata": {},
   "outputs": [],
   "source": [
    "fruitlist = [\"apple\", \"banana\", \"cherry\"]"
   ]
  },
  {
   "cell_type": "code",
   "execution_count": 83,
   "id": "2f2e65a0",
   "metadata": {},
   "outputs": [],
   "source": [
    "fruitlist.clear() # clear"
   ]
  },
  {
   "cell_type": "code",
   "execution_count": 84,
   "id": "4170447b",
   "metadata": {},
   "outputs": [
    {
     "data": {
      "text/plain": [
       "[]"
      ]
     },
     "execution_count": 84,
     "metadata": {},
     "output_type": "execute_result"
    }
   ],
   "source": [
    "fruitlist"
   ]
  },
  {
   "cell_type": "code",
   "execution_count": null,
   "id": "1d635494",
   "metadata": {},
   "outputs": [],
   "source": []
  }
 ],
 "metadata": {
  "kernelspec": {
   "display_name": "Python 3 (ipykernel)",
   "language": "python",
   "name": "python3"
  },
  "language_info": {
   "codemirror_mode": {
    "name": "ipython",
    "version": 3
   },
   "file_extension": ".py",
   "mimetype": "text/x-python",
   "name": "python",
   "nbconvert_exporter": "python",
   "pygments_lexer": "ipython3",
   "version": "3.11.2"
  }
 },
 "nbformat": 4,
 "nbformat_minor": 5
}
