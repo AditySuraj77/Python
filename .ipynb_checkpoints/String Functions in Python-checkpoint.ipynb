{
 "cells": [
  {
   "cell_type": "markdown",
   "id": "6120a9c3",
   "metadata": {},
   "source": [
    "# Common Functions\n",
    "### len\n",
    "### max\n",
    "### min\n",
    "### sorted"
   ]
  },
  {
   "cell_type": "code",
   "execution_count": 3,
   "id": "27b326e7",
   "metadata": {},
   "outputs": [
    {
     "data": {
      "text/plain": [
       "42"
      ]
     },
     "execution_count": 3,
     "metadata": {},
     "output_type": "execute_result"
    }
   ],
   "source": [
    "len(\"80% oxygen are come from amazon rainforest\")"
   ]
  },
  {
   "cell_type": "code",
   "execution_count": 4,
   "id": "d001fd17",
   "metadata": {},
   "outputs": [
    {
     "data": {
      "text/plain": [
       "'z'"
      ]
     },
     "execution_count": 4,
     "metadata": {},
     "output_type": "execute_result"
    }
   ],
   "source": [
    "max(\"80% oxygen are come from amazon rainforest\")"
   ]
  },
  {
   "cell_type": "code",
   "execution_count": 5,
   "id": "1364090a",
   "metadata": {},
   "outputs": [
    {
     "data": {
      "text/plain": [
       "' '"
      ]
     },
     "execution_count": 5,
     "metadata": {},
     "output_type": "execute_result"
    }
   ],
   "source": [
    "min(\"80% oxygen are come from amazon rainforest\")"
   ]
  },
  {
   "cell_type": "code",
   "execution_count": 13,
   "id": "23f237cf",
   "metadata": {},
   "outputs": [],
   "source": [
    "c = \"amazon rainforest\""
   ]
  },
  {
   "cell_type": "code",
   "execution_count": 15,
   "id": "ae8b81fe",
   "metadata": {},
   "outputs": [
    {
     "data": {
      "text/plain": [
       "['z',\n",
       " 't',\n",
       " 's',\n",
       " 'r',\n",
       " 'r',\n",
       " 'o',\n",
       " 'o',\n",
       " 'n',\n",
       " 'n',\n",
       " 'm',\n",
       " 'i',\n",
       " 'f',\n",
       " 'e',\n",
       " 'a',\n",
       " 'a',\n",
       " 'a',\n",
       " ' ']"
      ]
     },
     "execution_count": 15,
     "metadata": {},
     "output_type": "execute_result"
    }
   ],
   "source": [
    "sorted(c,reverse=True)"
   ]
  },
  {
   "cell_type": "markdown",
   "id": "71529147",
   "metadata": {},
   "source": [
    "# 1. Capitalize/Title/Upper/Lower/Swapcase"
   ]
  },
  {
   "cell_type": "code",
   "execution_count": 17,
   "id": "72f30b59",
   "metadata": {},
   "outputs": [
    {
     "data": {
      "text/plain": [
       "'Amazon rainforest'"
      ]
     },
     "execution_count": 17,
     "metadata": {},
     "output_type": "execute_result"
    }
   ],
   "source": [
    "'amazon rainforest'.capitalize()"
   ]
  },
  {
   "cell_type": "code",
   "execution_count": 18,
   "id": "c7f39a4c",
   "metadata": {},
   "outputs": [
    {
     "data": {
      "text/plain": [
       "'Amazon Rainforest'"
      ]
     },
     "execution_count": 18,
     "metadata": {},
     "output_type": "execute_result"
    }
   ],
   "source": [
    "'amazon rainforest'.title()"
   ]
  },
  {
   "cell_type": "code",
   "execution_count": 19,
   "id": "bc36d09e",
   "metadata": {},
   "outputs": [
    {
     "data": {
      "text/plain": [
       "'AMAZON RAINFOREST'"
      ]
     },
     "execution_count": 19,
     "metadata": {},
     "output_type": "execute_result"
    }
   ],
   "source": [
    "'amazon rainforest'.upper()"
   ]
  },
  {
   "cell_type": "code",
   "execution_count": 20,
   "id": "e94b38e5",
   "metadata": {},
   "outputs": [
    {
     "data": {
      "text/plain": [
       "'amazon rainforest'"
      ]
     },
     "execution_count": 20,
     "metadata": {},
     "output_type": "execute_result"
    }
   ],
   "source": [
    "'amazon rainforest'.lower()"
   ]
  },
  {
   "cell_type": "code",
   "execution_count": 22,
   "id": "2c9fdaaf",
   "metadata": {},
   "outputs": [
    {
     "data": {
      "text/plain": [
       "'aMaZoN rAiNfOrEsT'"
      ]
     },
     "execution_count": 22,
     "metadata": {},
     "output_type": "execute_result"
    }
   ],
   "source": [
    "'AmAzOn RaInFoReSt'.swapcase()"
   ]
  },
  {
   "cell_type": "markdown",
   "id": "05455ff1",
   "metadata": {},
   "source": [
    "# 2. Count"
   ]
  },
  {
   "cell_type": "code",
   "execution_count": 26,
   "id": "9dc4c7c3",
   "metadata": {},
   "outputs": [
    {
     "data": {
      "text/plain": [
       "7"
      ]
     },
     "execution_count": 26,
     "metadata": {},
     "output_type": "execute_result"
    }
   ],
   "source": [
    "\"eighty percent oxygen are come from amazon rainforest\".count('e')"
   ]
  },
  {
   "cell_type": "markdown",
   "id": "b610cf74",
   "metadata": {},
   "source": [
    "# 3. Find/Index"
   ]
  },
  {
   "cell_type": "code",
   "execution_count": 27,
   "id": "588c3b21",
   "metadata": {},
   "outputs": [
    {
     "data": {
      "text/plain": [
       "15"
      ]
     },
     "execution_count": 27,
     "metadata": {},
     "output_type": "execute_result"
    }
   ],
   "source": [
    "\"eighty percent oxygen are come from amazon rainforest\".find('o')"
   ]
  },
  {
   "cell_type": "code",
   "execution_count": 32,
   "id": "a94d8059",
   "metadata": {},
   "outputs": [
    {
     "data": {
      "text/plain": [
       "7"
      ]
     },
     "execution_count": 32,
     "metadata": {},
     "output_type": "execute_result"
    }
   ],
   "source": [
    "\"eighty percent oxygen are come from amazon rainforest\".index('percent')"
   ]
  },
  {
   "cell_type": "markdown",
   "id": "6f4a1f31",
   "metadata": {},
   "source": [
    "# 4. endswith/startswith"
   ]
  },
  {
   "cell_type": "code",
   "execution_count": 33,
   "id": "843a36a6",
   "metadata": {},
   "outputs": [
    {
     "data": {
      "text/plain": [
       "False"
      ]
     },
     "execution_count": 33,
     "metadata": {},
     "output_type": "execute_result"
    }
   ],
   "source": [
    "\"eighty percent oxygen are come from amazon rainforest\".endswith('fg')"
   ]
  },
  {
   "cell_type": "code",
   "execution_count": 35,
   "id": "e577a65d",
   "metadata": {},
   "outputs": [
    {
     "data": {
      "text/plain": [
       "True"
      ]
     },
     "execution_count": 35,
     "metadata": {},
     "output_type": "execute_result"
    }
   ],
   "source": [
    "\"eighty percent oxygen are come from amazon rainforest\".endswith('forest')"
   ]
  },
  {
   "cell_type": "code",
   "execution_count": 36,
   "id": "ea2ca0bc",
   "metadata": {},
   "outputs": [
    {
     "data": {
      "text/plain": [
       "False"
      ]
     },
     "execution_count": 36,
     "metadata": {},
     "output_type": "execute_result"
    }
   ],
   "source": [
    "\"eighty percent oxygen are come from amazon rainforest\".startswith('fikf')"
   ]
  },
  {
   "cell_type": "code",
   "execution_count": 38,
   "id": "6d2e10d0",
   "metadata": {},
   "outputs": [
    {
     "data": {
      "text/plain": [
       "True"
      ]
     },
     "execution_count": 38,
     "metadata": {},
     "output_type": "execute_result"
    }
   ],
   "source": [
    "\"eighty percent oxygen are come from amazon rainforest\".startswith('eighty')"
   ]
  },
  {
   "cell_type": "markdown",
   "id": "c8a83de1",
   "metadata": {},
   "source": [
    "# 5. format"
   ]
  },
  {
   "cell_type": "code",
   "execution_count": 40,
   "id": "742a63c6",
   "metadata": {},
   "outputs": [
    {
     "data": {
      "text/plain": [
       "'A very intensive forest Amazon RainForest and it located in Brazil'"
      ]
     },
     "execution_count": 40,
     "metadata": {},
     "output_type": "execute_result"
    }
   ],
   "source": [
    "'A very intensive forest {} and it located in {}'.format('Amazon RainForest','Brazil')"
   ]
  },
  {
   "cell_type": "code",
   "execution_count": 41,
   "id": "2aa6d3ba",
   "metadata": {},
   "outputs": [
    {
     "data": {
      "text/plain": [
       "'A very intensive forest Amazon RainForest and it located in Brazil'"
      ]
     },
     "execution_count": 41,
     "metadata": {},
     "output_type": "execute_result"
    }
   ],
   "source": [
    "'A very intensive forest {name} and it located in {locat}'.format(name='Amazon RainForest',locat='Brazil')"
   ]
  },
  {
   "cell_type": "code",
   "execution_count": 43,
   "id": "e563b819",
   "metadata": {},
   "outputs": [
    {
     "data": {
      "text/plain": [
       "'A very intensive forest Brazil and it located in Brazil'"
      ]
     },
     "execution_count": 43,
     "metadata": {},
     "output_type": "execute_result"
    }
   ],
   "source": [
    "'A very intensive forest {1} and it located in {1}'.format('Amazon RainForest','Brazil')"
   ]
  },
  {
   "cell_type": "markdown",
   "id": "0e74e7fb",
   "metadata": {},
   "source": [
    "# 6. isalnum/ isalpha/ isdecimal/ isdigit/ isidentifier"
   ]
  },
  {
   "cell_type": "code",
   "execution_count": 46,
   "id": "9d3b3f23",
   "metadata": {},
   "outputs": [
    {
     "data": {
      "text/plain": [
       "True"
      ]
     },
     "execution_count": 46,
     "metadata": {},
     "output_type": "execute_result"
    }
   ],
   "source": [
    "'fall02'.isalnum()"
   ]
  },
  {
   "cell_type": "code",
   "execution_count": 48,
   "id": "244e88f4",
   "metadata": {},
   "outputs": [
    {
     "data": {
      "text/plain": [
       "False"
      ]
     },
     "execution_count": 48,
     "metadata": {},
     "output_type": "execute_result"
    }
   ],
   "source": [
    "'fall022@'.isalnum()"
   ]
  },
  {
   "cell_type": "code",
   "execution_count": 50,
   "id": "b8a927c4",
   "metadata": {},
   "outputs": [
    {
     "data": {
      "text/plain": [
       "True"
      ]
     },
     "execution_count": 50,
     "metadata": {},
     "output_type": "execute_result"
    }
   ],
   "source": [
    "'very'.isalpha()"
   ]
  },
  {
   "cell_type": "code",
   "execution_count": 55,
   "id": "1cf081f9",
   "metadata": {},
   "outputs": [
    {
     "data": {
      "text/plain": [
       "True"
      ]
     },
     "execution_count": 55,
     "metadata": {},
     "output_type": "execute_result"
    }
   ],
   "source": [
    "'55'.isdecimal()"
   ]
  },
  {
   "cell_type": "code",
   "execution_count": 56,
   "id": "c9b8074f",
   "metadata": {},
   "outputs": [
    {
     "data": {
      "text/plain": [
       "True"
      ]
     },
     "execution_count": 56,
     "metadata": {},
     "output_type": "execute_result"
    }
   ],
   "source": [
    "\"543\".isdigit()"
   ]
  },
  {
   "cell_type": "code",
   "execution_count": 59,
   "id": "180c5d10",
   "metadata": {},
   "outputs": [
    {
     "data": {
      "text/plain": [
       "True"
      ]
     },
     "execution_count": 59,
     "metadata": {},
     "output_type": "execute_result"
    }
   ],
   "source": [
    "'Hello_'.isidentifier()"
   ]
  },
  {
   "cell_type": "code",
   "execution_count": 60,
   "id": "28e241eb",
   "metadata": {},
   "outputs": [
    {
     "name": "stdout",
     "output_type": "stream",
     "text": [
      "True\n",
      "True\n",
      "False\n",
      "False\n"
     ]
    }
   ],
   "source": [
    "a = \"MyFolder\"\n",
    "b = \"Demo002\"\n",
    "c = \"2bring\"\n",
    "d = \"my demo\"\n",
    "\n",
    "print(a.isidentifier())\n",
    "print(b.isidentifier())\n",
    "print(c.isidentifier())\n",
    "print(d.isidentifier())"
   ]
  },
  {
   "cell_type": "markdown",
   "id": "fce34606",
   "metadata": {},
   "source": [
    "# 7. Split"
   ]
  },
  {
   "cell_type": "code",
   "execution_count": 61,
   "id": "95856e0b",
   "metadata": {},
   "outputs": [
    {
     "data": {
      "text/plain": [
       "['eighty', 'percent', 'oxygen', 'are', 'come', 'from', 'amazon', 'rainforest']"
      ]
     },
     "execution_count": 61,
     "metadata": {},
     "output_type": "execute_result"
    }
   ],
   "source": [
    "\"eighty percent oxygen are come from amazon rainforest\".split()"
   ]
  },
  {
   "cell_type": "code",
   "execution_count": 63,
   "id": "bbece45e",
   "metadata": {},
   "outputs": [
    {
     "data": {
      "text/plain": [
       "['eighty percent ', 'xygen are c', 'me fr', 'm amaz', 'n rainf', 'rest']"
      ]
     },
     "execution_count": 63,
     "metadata": {},
     "output_type": "execute_result"
    }
   ],
   "source": [
    "\"eighty percent oxygen are come from amazon rainforest\".split('o')"
   ]
  },
  {
   "cell_type": "markdown",
   "id": "b7a8f555",
   "metadata": {},
   "source": [
    "# 8. Join"
   ]
  },
  {
   "cell_type": "code",
   "execution_count": 75,
   "id": "f53df87a",
   "metadata": {},
   "outputs": [
    {
     "name": "stdout",
     "output_type": "stream",
     "text": [
      "e_i_g_h_t_y_,_ _p_e_r_c_e_n_t_,_ _o_x_y_g_e_n_,_ _a_r_e_,_ _c_o_m_e_,_ _f_r_o_m_,_ _a_m_a_z_o_n_,_ _r_a_i_n_f_o_r_e_s_t\n"
     ]
    }
   ],
   "source": [
    "content = (\"eighty, percent, oxygen, are, come, from, amazon, rainforest\")\n",
    "x = \"_\".join(content)\n",
    "print(x)\n"
   ]
  },
  {
   "cell_type": "code",
   "execution_count": 76,
   "id": "3184d6bb",
   "metadata": {},
   "outputs": [
    {
     "name": "stdout",
     "output_type": "stream",
     "text": [
      "John#Peter#Vicky\n"
     ]
    }
   ],
   "source": [
    "myTuple = (\"John\", \"Peter\", \"Vicky\")\n",
    "\n",
    "x = \"#\".join(myTuple)\n",
    "\n",
    "print(x)"
   ]
  },
  {
   "cell_type": "code",
   "execution_count": 77,
   "id": "d95f26ac",
   "metadata": {},
   "outputs": [
    {
     "data": {
      "text/plain": [
       "'who-is-the-pm-of-india'"
      ]
     },
     "execution_count": 77,
     "metadata": {},
     "output_type": "execute_result"
    }
   ],
   "source": [
    "\"-\".join(['who', 'is', 'the', 'pm', 'of', 'india'])"
   ]
  },
  {
   "cell_type": "markdown",
   "id": "a80978ae",
   "metadata": {},
   "source": [
    "# 9. Replace"
   ]
  },
  {
   "cell_type": "code",
   "execution_count": 80,
   "id": "dba5c506",
   "metadata": {},
   "outputs": [
    {
     "data": {
      "text/plain": [
       "'RCB Team was promote QatarAirWays'"
      ]
     },
     "execution_count": 80,
     "metadata": {},
     "output_type": "execute_result"
    }
   ],
   "source": [
    "'RCB Team was promote kingfisher'.replace('kingfisher','QatarAirWays')"
   ]
  },
  {
   "cell_type": "code",
   "execution_count": 83,
   "id": "512eab05",
   "metadata": {},
   "outputs": [
    {
     "data": {
      "text/plain": [
       "'                    Lufthansa'"
      ]
     },
     "execution_count": 83,
     "metadata": {},
     "output_type": "execute_result"
    }
   ],
   "source": [
    "na_me = \"                    Lufthansa\"\n",
    "na_me"
   ]
  },
  {
   "cell_type": "code",
   "execution_count": 84,
   "id": "e729bd98",
   "metadata": {},
   "outputs": [
    {
     "data": {
      "text/plain": [
       "'Lufthansa'"
      ]
     },
     "execution_count": 84,
     "metadata": {},
     "output_type": "execute_result"
    }
   ],
   "source": [
    "na_me.strip()"
   ]
  },
  {
   "cell_type": "code",
   "execution_count": null,
   "id": "620a5e33",
   "metadata": {},
   "outputs": [],
   "source": []
  }
 ],
 "metadata": {
  "kernelspec": {
   "display_name": "Python 3 (ipykernel)",
   "language": "python",
   "name": "python3"
  },
  "language_info": {
   "codemirror_mode": {
    "name": "ipython",
    "version": 3
   },
   "file_extension": ".py",
   "mimetype": "text/x-python",
   "name": "python",
   "nbconvert_exporter": "python",
   "pygments_lexer": "ipython3",
   "version": "3.11.2"
  }
 },
 "nbformat": 4,
 "nbformat_minor": 5
}
