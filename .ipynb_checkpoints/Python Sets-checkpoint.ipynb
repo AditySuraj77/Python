{
 "cells": [
  {
   "cell_type": "markdown",
   "id": "abafc247",
   "metadata": {},
   "source": [
    "# Sets"
   ]
  },
  {
   "cell_type": "code",
   "execution_count": 5,
   "id": "0dbcf1b2",
   "metadata": {},
   "outputs": [],
   "source": [
    "set_1= {'row','cow','mow'}"
   ]
  },
  {
   "cell_type": "code",
   "execution_count": 6,
   "id": "93647e67",
   "metadata": {},
   "outputs": [
    {
     "data": {
      "text/plain": [
       "set"
      ]
     },
     "execution_count": 6,
     "metadata": {},
     "output_type": "execute_result"
    }
   ],
   "source": [
    "type(set_1)"
   ]
  },
  {
   "cell_type": "code",
   "execution_count": 7,
   "id": "005c911a",
   "metadata": {},
   "outputs": [],
   "source": [
    "set_1= {'row','cow','mow',2,4,3,True}"
   ]
  },
  {
   "cell_type": "code",
   "execution_count": 8,
   "id": "7fc9921f",
   "metadata": {},
   "outputs": [
    {
     "data": {
      "text/plain": [
       "{2, 3, 4, True, 'cow', 'mow', 'row'}"
      ]
     },
     "execution_count": 8,
     "metadata": {},
     "output_type": "execute_result"
    }
   ],
   "source": [
    "set_1"
   ]
  },
  {
   "cell_type": "code",
   "execution_count": 9,
   "id": "203c0534",
   "metadata": {},
   "outputs": [
    {
     "data": {
      "text/plain": [
       "7"
      ]
     },
     "execution_count": 9,
     "metadata": {},
     "output_type": "execute_result"
    }
   ],
   "source": [
    "len(set_1)"
   ]
  },
  {
   "cell_type": "code",
   "execution_count": 12,
   "id": "8546040d",
   "metadata": {},
   "outputs": [],
   "source": [
    "set_2 = set(('hello',\"hello\",\"\"\"Hello\"\"\",True,False,55,5.5))"
   ]
  },
  {
   "cell_type": "code",
   "execution_count": 13,
   "id": "2128f19e",
   "metadata": {},
   "outputs": [
    {
     "data": {
      "text/plain": [
       "{5.5, 55, False, 'Hello', True, 'hello'}"
      ]
     },
     "execution_count": 13,
     "metadata": {},
     "output_type": "execute_result"
    }
   ],
   "source": [
    "set_2"
   ]
  },
  {
   "cell_type": "markdown",
   "id": "9914051b",
   "metadata": {},
   "source": [
    "# Access Items"
   ]
  },
  {
   "cell_type": "code",
   "execution_count": 14,
   "id": "b9d4c0d3",
   "metadata": {},
   "outputs": [
    {
     "name": "stdout",
     "output_type": "stream",
     "text": [
      "False\n",
      "True\n",
      "5.5\n",
      "hello\n",
      "Hello\n",
      "55\n"
     ]
    }
   ],
   "source": [
    "for x in set_2:\n",
    "    print(x)"
   ]
  },
  {
   "cell_type": "code",
   "execution_count": 20,
   "id": "de128ba7",
   "metadata": {},
   "outputs": [
    {
     "name": "stdout",
     "output_type": "stream",
     "text": [
      "True\n"
     ]
    }
   ],
   "source": [
    "print(True in set_2)"
   ]
  },
  {
   "cell_type": "markdown",
   "id": "f2aa822f",
   "metadata": {},
   "source": [
    "# Add Items"
   ]
  },
  {
   "cell_type": "code",
   "execution_count": 21,
   "id": "a2d961e9",
   "metadata": {},
   "outputs": [],
   "source": [
    "set_f = {'Mango','Cherry','Kiwi'}"
   ]
  },
  {
   "cell_type": "code",
   "execution_count": 22,
   "id": "2e5e0f61",
   "metadata": {},
   "outputs": [],
   "source": [
    "set_f.add('Orange')"
   ]
  },
  {
   "cell_type": "code",
   "execution_count": 23,
   "id": "eec64afa",
   "metadata": {},
   "outputs": [
    {
     "data": {
      "text/plain": [
       "{'Cherry', 'Kiwi', 'Mango', 'Orange'}"
      ]
     },
     "execution_count": 23,
     "metadata": {},
     "output_type": "execute_result"
    }
   ],
   "source": [
    "set_f"
   ]
  },
  {
   "cell_type": "code",
   "execution_count": 26,
   "id": "5f80f2f0",
   "metadata": {},
   "outputs": [],
   "source": [
    "set_s = {1,2,3,4,5}\n",
    "st_t = {6,7,8,9,10}\n",
    "Up_se = set_s.update(st_t)"
   ]
  },
  {
   "cell_type": "code",
   "execution_count": 28,
   "id": "05a67a7e",
   "metadata": {},
   "outputs": [
    {
     "data": {
      "text/plain": [
       "{1, 2, 3, 4, 5, 6, 7, 8, 9, 10}"
      ]
     },
     "execution_count": 28,
     "metadata": {},
     "output_type": "execute_result"
    }
   ],
   "source": [
    "set_s"
   ]
  },
  {
   "cell_type": "markdown",
   "id": "a784ff04",
   "metadata": {},
   "source": [
    "# Remove Set"
   ]
  },
  {
   "cell_type": "code",
   "execution_count": 30,
   "id": "b4764517",
   "metadata": {},
   "outputs": [],
   "source": [
    "set_country = {'England','India','New Zealand','Australia','Finland'}"
   ]
  },
  {
   "cell_type": "code",
   "execution_count": 31,
   "id": "7e34771b",
   "metadata": {},
   "outputs": [],
   "source": [
    "set_country.remove('India')"
   ]
  },
  {
   "cell_type": "code",
   "execution_count": 32,
   "id": "3b0290c6",
   "metadata": {},
   "outputs": [
    {
     "data": {
      "text/plain": [
       "{'Australia', 'England', 'Finland', 'New Zealand'}"
      ]
     },
     "execution_count": 32,
     "metadata": {},
     "output_type": "execute_result"
    }
   ],
   "source": [
    "set_country"
   ]
  },
  {
   "cell_type": "code",
   "execution_count": 33,
   "id": "316be59a",
   "metadata": {},
   "outputs": [],
   "source": [
    "set_country.discard('Finland')"
   ]
  },
  {
   "cell_type": "code",
   "execution_count": 34,
   "id": "a51ef840",
   "metadata": {},
   "outputs": [
    {
     "data": {
      "text/plain": [
       "{'Australia', 'England', 'New Zealand'}"
      ]
     },
     "execution_count": 34,
     "metadata": {},
     "output_type": "execute_result"
    }
   ],
   "source": [
    "set_country"
   ]
  },
  {
   "cell_type": "code",
   "execution_count": 35,
   "id": "7335df08",
   "metadata": {},
   "outputs": [
    {
     "data": {
      "text/plain": [
       "'England'"
      ]
     },
     "execution_count": 35,
     "metadata": {},
     "output_type": "execute_result"
    }
   ],
   "source": [
    "set_country.pop()"
   ]
  },
  {
   "cell_type": "code",
   "execution_count": 36,
   "id": "00368b19",
   "metadata": {},
   "outputs": [],
   "source": [
    "set_country = {'England','India','New Zealand','Australia','Finland'}"
   ]
  },
  {
   "cell_type": "code",
   "execution_count": 37,
   "id": "767f5f0c",
   "metadata": {},
   "outputs": [],
   "source": [
    "set_country.clear()"
   ]
  },
  {
   "cell_type": "code",
   "execution_count": 38,
   "id": "a484bf35",
   "metadata": {},
   "outputs": [
    {
     "data": {
      "text/plain": [
       "set()"
      ]
     },
     "execution_count": 38,
     "metadata": {},
     "output_type": "execute_result"
    }
   ],
   "source": [
    "set_country"
   ]
  },
  {
   "cell_type": "code",
   "execution_count": 39,
   "id": "31f7c34d",
   "metadata": {},
   "outputs": [],
   "source": [
    "set_country = {'England','India','New Zealand','Australia','Finland'}"
   ]
  },
  {
   "cell_type": "code",
   "execution_count": 40,
   "id": "5cce26c6",
   "metadata": {},
   "outputs": [
    {
     "data": {
      "text/plain": [
       "{'Australia', 'England', 'Finland', 'India', 'New Zealand'}"
      ]
     },
     "execution_count": 40,
     "metadata": {},
     "output_type": "execute_result"
    }
   ],
   "source": [
    "set_country"
   ]
  },
  {
   "cell_type": "code",
   "execution_count": 41,
   "id": "6c61ca26",
   "metadata": {},
   "outputs": [],
   "source": [
    "del set_country"
   ]
  },
  {
   "cell_type": "markdown",
   "id": "044c0c07",
   "metadata": {},
   "source": [
    "# Loop"
   ]
  },
  {
   "cell_type": "code",
   "execution_count": 42,
   "id": "cef2246b",
   "metadata": {},
   "outputs": [],
   "source": [
    "set_country = {'England','India','New Zealand','Australia','Finland'}"
   ]
  },
  {
   "cell_type": "code",
   "execution_count": 44,
   "id": "131c5e11",
   "metadata": {},
   "outputs": [
    {
     "name": "stdout",
     "output_type": "stream",
     "text": [
      "England\n",
      "India\n",
      "Australia\n",
      "Finland\n",
      "New Zealand\n"
     ]
    }
   ],
   "source": [
    "for i in set_country:\n",
    "    print(i)"
   ]
  },
  {
   "cell_type": "markdown",
   "id": "f2d7dac0",
   "metadata": {},
   "source": [
    "# Join Sets"
   ]
  },
  {
   "cell_type": "code",
   "execution_count": 45,
   "id": "bdbea2b4",
   "metadata": {},
   "outputs": [],
   "source": [
    "firts_set = {2,4,6,8,10}\n",
    "second_set = {12,14,16,18,20}"
   ]
  },
  {
   "cell_type": "code",
   "execution_count": 46,
   "id": "d2281c01",
   "metadata": {},
   "outputs": [
    {
     "data": {
      "text/plain": [
       "{2, 4, 6, 8, 10, 12, 14, 16, 18, 20}"
      ]
     },
     "execution_count": 46,
     "metadata": {},
     "output_type": "execute_result"
    }
   ],
   "source": [
    "firts_set.union(second_set)"
   ]
  },
  {
   "cell_type": "code",
   "execution_count": 52,
   "id": "b9807611",
   "metadata": {},
   "outputs": [],
   "source": [
    "firts_set = {2,4,6,8,10,11}\n",
    "second_set = {11,12,14,16,18,20}"
   ]
  },
  {
   "cell_type": "code",
   "execution_count": 53,
   "id": "a91f1814",
   "metadata": {},
   "outputs": [
    {
     "data": {
      "text/plain": [
       "{11}"
      ]
     },
     "execution_count": 53,
     "metadata": {},
     "output_type": "execute_result"
    }
   ],
   "source": [
    "firts_set.intersection(second_set)"
   ]
  },
  {
   "cell_type": "code",
   "execution_count": 57,
   "id": "640fa211",
   "metadata": {},
   "outputs": [],
   "source": [
    "x = {\"apple\", \"banana\", \"cherry\"}\n",
    "y = {\"google\", \"microsoft\", \"apple\"}\n",
    "x.symmetric_difference_update(y)\n"
   ]
  },
  {
   "cell_type": "code",
   "execution_count": null,
   "id": "b14548cd",
   "metadata": {},
   "outputs": [],
   "source": []
  },
  {
   "cell_type": "code",
   "execution_count": null,
   "id": "c7167ee2",
   "metadata": {},
   "outputs": [],
   "source": []
  }
 ],
 "metadata": {
  "kernelspec": {
   "display_name": "Python 3 (ipykernel)",
   "language": "python",
   "name": "python3"
  },
  "language_info": {
   "codemirror_mode": {
    "name": "ipython",
    "version": 3
   },
   "file_extension": ".py",
   "mimetype": "text/x-python",
   "name": "python",
   "nbconvert_exporter": "python",
   "pygments_lexer": "ipython3",
   "version": "3.11.2"
  }
 },
 "nbformat": 4,
 "nbformat_minor": 5
}
