{
 "cells": [
  {
   "cell_type": "markdown",
   "id": "09353d9f",
   "metadata": {},
   "source": [
    "# Operators\n",
    "## Operators are used to perform operations on variables and values. Python has the following operators:\n",
    "\n",
    "### 1. Arithmetic operators\n",
    "### 2. Comparison operators\n",
    "### 3. Logical operators\n",
    "### 4. Bitwise operators\n",
    "### 5. Assignment operators\n",
    "### 6. Identity operators\n",
    "### 7. Membership operators"
   ]
  },
  {
   "cell_type": "markdown",
   "id": "444dd0a1",
   "metadata": {},
   "source": [
    "# Arithmetic operators\n"
   ]
  },
  {
   "cell_type": "code",
   "execution_count": null,
   "id": "984bd73d",
   "metadata": {},
   "outputs": [],
   "source": [
    "x = 5\n",
    "y = 2"
   ]
  },
  {
   "cell_type": "code",
   "execution_count": 11,
   "id": "03abc556",
   "metadata": {},
   "outputs": [
    {
     "name": "stdout",
     "output_type": "stream",
     "text": [
      "7\n",
      "3\n",
      "10\n",
      "2.5\n",
      "25\n",
      "2\n",
      "1\n"
     ]
    }
   ],
   "source": [
    "print(x + y)\n",
    "print(x - y)\n",
    "print(x * y)\n",
    "print(x / y)\n",
    "print(x ** y)\n",
    "print(x // y)\n",
    "print(x%y)"
   ]
  },
  {
   "cell_type": "markdown",
   "id": "031d3a87",
   "metadata": {},
   "source": [
    "# Comparison operators\n"
   ]
  },
  {
   "cell_type": "code",
   "execution_count": null,
   "id": "666a627b",
   "metadata": {},
   "outputs": [],
   "source": [
    "a = 5\n",
    "b = 3"
   ]
  },
  {
   "cell_type": "code",
   "execution_count": 17,
   "id": "3fe69221",
   "metadata": {},
   "outputs": [
    {
     "name": "stdout",
     "output_type": "stream",
     "text": [
      "True\n",
      "False\n",
      "True\n",
      "False\n",
      "False\n",
      "True\n"
     ]
    }
   ],
   "source": [
    "print(a>b)\n",
    "print(a<b)\n",
    "print(a>=b)\n",
    "print(a<=b)\n",
    "print(a == b)\n",
    "print(a != b)"
   ]
  },
  {
   "cell_type": "markdown",
   "id": "bac53a3e",
   "metadata": {},
   "source": [
    "# Logical operators\n"
   ]
  },
  {
   "cell_type": "code",
   "execution_count": null,
   "id": "6f0ec037",
   "metadata": {},
   "outputs": [],
   "source": [
    "t = True\n",
    "f = False"
   ]
  },
  {
   "cell_type": "code",
   "execution_count": 24,
   "id": "7fa79cd3",
   "metadata": {},
   "outputs": [
    {
     "name": "stdout",
     "output_type": "stream",
     "text": [
      "False\n",
      "True\n",
      "False\n",
      "True\n",
      "False\n"
     ]
    }
   ],
   "source": [
    "print(t is f)\n",
    "print(f or t)\n",
    "print(t and f)\n",
    "print(not f)\n",
    "print(not t)"
   ]
  },
  {
   "cell_type": "markdown",
   "id": "e0e195cf",
   "metadata": {},
   "source": [
    "# Bitwise operators"
   ]
  },
  {
   "cell_type": "code",
   "execution_count": 26,
   "id": "863281e5",
   "metadata": {},
   "outputs": [],
   "source": [
    "x = 3\n",
    "y = 4"
   ]
  },
  {
   "cell_type": "code",
   "execution_count": 32,
   "id": "32f71549",
   "metadata": {},
   "outputs": [
    {
     "name": "stdout",
     "output_type": "stream",
     "text": [
      "0\n",
      "7\n",
      "48\n",
      "0\n",
      "-5\n"
     ]
    }
   ],
   "source": [
    "print(x & y)\n",
    "print(x | y)\n",
    "print(x << y)\n",
    "print(x >> y)\n",
    "print(~y)"
   ]
  },
  {
   "cell_type": "markdown",
   "id": "de488153",
   "metadata": {},
   "source": [
    "# Assignment operators\n"
   ]
  },
  {
   "cell_type": "code",
   "execution_count": 59,
   "id": "8f1c87df",
   "metadata": {},
   "outputs": [],
   "source": [
    "a = 5\n",
    "a +=5"
   ]
  },
  {
   "cell_type": "code",
   "execution_count": 38,
   "id": "f91a0749",
   "metadata": {},
   "outputs": [
    {
     "name": "stdout",
     "output_type": "stream",
     "text": [
      "10\n"
     ]
    }
   ],
   "source": [
    "print(a)"
   ]
  },
  {
   "cell_type": "code",
   "execution_count": 44,
   "id": "624f92c3",
   "metadata": {},
   "outputs": [],
   "source": [
    "a-=5\n",
    "a*=5\n",
    "a/=5"
   ]
  },
  {
   "cell_type": "markdown",
   "id": "cd50335f",
   "metadata": {},
   "source": [
    "# Identity operators"
   ]
  },
  {
   "cell_type": "code",
   "execution_count": 52,
   "id": "998c2737",
   "metadata": {},
   "outputs": [],
   "source": [
    "a = 4\n",
    "b =4"
   ]
  },
  {
   "cell_type": "code",
   "execution_count": 53,
   "id": "b608dc93",
   "metadata": {},
   "outputs": [
    {
     "name": "stdout",
     "output_type": "stream",
     "text": [
      "True\n"
     ]
    }
   ],
   "source": [
    "print(a is b)"
   ]
  },
  {
   "cell_type": "code",
   "execution_count": 54,
   "id": "187e2e41",
   "metadata": {},
   "outputs": [
    {
     "name": "stdout",
     "output_type": "stream",
     "text": [
      "False\n"
     ]
    }
   ],
   "source": [
    "print(a is not b)"
   ]
  },
  {
   "cell_type": "code",
   "execution_count": 55,
   "id": "a945bd39",
   "metadata": {},
   "outputs": [],
   "source": [
    "str_1 = 'hello-world'\n",
    "str_2 = 'hello-world'"
   ]
  },
  {
   "cell_type": "code",
   "execution_count": 57,
   "id": "6818054c",
   "metadata": {},
   "outputs": [
    {
     "name": "stdout",
     "output_type": "stream",
     "text": [
      "False\n"
     ]
    }
   ],
   "source": [
    "print(str_1 is str_2)"
   ]
  },
  {
   "cell_type": "code",
   "execution_count": 58,
   "id": "9829a28d",
   "metadata": {},
   "outputs": [
    {
     "name": "stdout",
     "output_type": "stream",
     "text": [
      "True\n"
     ]
    }
   ],
   "source": [
    "print(str_1 is not str_2)"
   ]
  },
  {
   "cell_type": "markdown",
   "id": "09ede23f",
   "metadata": {},
   "source": [
    "# Membership operators"
   ]
  },
  {
   "cell_type": "code",
   "execution_count": 60,
   "id": "ca6bd513",
   "metadata": {},
   "outputs": [],
   "source": [
    "x = 'Hello i am going to UK for Two week'"
   ]
  },
  {
   "cell_type": "code",
   "execution_count": 62,
   "id": "3c9cd20d",
   "metadata": {},
   "outputs": [
    {
     "name": "stdout",
     "output_type": "stream",
     "text": [
      "True\n"
     ]
    }
   ],
   "source": [
    "print('am' in x)"
   ]
  },
  {
   "cell_type": "code",
   "execution_count": 64,
   "id": "423d0155",
   "metadata": {},
   "outputs": [
    {
     "name": "stdout",
     "output_type": "stream",
     "text": [
      "False\n"
     ]
    }
   ],
   "source": [
    "print('UK'not in x)"
   ]
  },
  {
   "cell_type": "code",
   "execution_count": 65,
   "id": "0922135a",
   "metadata": {},
   "outputs": [],
   "source": [
    "num = [5,10,15,20]"
   ]
  },
  {
   "cell_type": "code",
   "execution_count": 66,
   "id": "8b7f5c7f",
   "metadata": {},
   "outputs": [
    {
     "name": "stdout",
     "output_type": "stream",
     "text": [
      "True\n"
     ]
    }
   ],
   "source": [
    "print(5 in num)"
   ]
  },
  {
   "cell_type": "code",
   "execution_count": 67,
   "id": "9e6e2f2e",
   "metadata": {},
   "outputs": [
    {
     "name": "stdout",
     "output_type": "stream",
     "text": [
      "False\n"
     ]
    }
   ],
   "source": [
    "print(5 not in num)"
   ]
  },
  {
   "cell_type": "code",
   "execution_count": null,
   "id": "4194f314",
   "metadata": {},
   "outputs": [],
   "source": []
  }
 ],
 "metadata": {
  "kernelspec": {
   "display_name": "Python 3 (ipykernel)",
   "language": "python",
   "name": "python3"
  },
  "language_info": {
   "codemirror_mode": {
    "name": "ipython",
    "version": 3
   },
   "file_extension": ".py",
   "mimetype": "text/x-python",
   "name": "python",
   "nbconvert_exporter": "python",
   "pygments_lexer": "ipython3",
   "version": "3.11.2"
  }
 },
 "nbformat": 4,
 "nbformat_minor": 5
}
