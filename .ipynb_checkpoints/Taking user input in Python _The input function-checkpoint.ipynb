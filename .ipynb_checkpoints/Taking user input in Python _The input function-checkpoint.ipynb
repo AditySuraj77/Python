{
 "cells": [
  {
   "cell_type": "markdown",
   "id": "6837de46",
   "metadata": {},
   "source": [
    "# Input"
   ]
  },
  {
   "cell_type": "code",
   "execution_count": 8,
   "id": "cadfb1de",
   "metadata": {},
   "outputs": [
    {
     "name": "stdout",
     "output_type": "stream",
     "text": [
      "Enter a first Number : 5\n",
      "Enter a Second Number : 5\n",
      "The Addition of your 5 + 5 = 10\n"
     ]
    }
   ],
   "source": [
    "first_num = int(input('Enter a first Number : ' ))\n",
    "Second_num = int(input('Enter a Second Number : '))\n",
    "\n",
    "print('The Addition of your',first_num, \"+\", Second_num, '=',first_num + Second_num)"
   ]
  },
  {
   "cell_type": "code",
   "execution_count": 9,
   "id": "5b21facd",
   "metadata": {},
   "outputs": [
    {
     "name": "stdout",
     "output_type": "stream",
     "text": [
      "Searchdfkj\n"
     ]
    },
    {
     "data": {
      "text/plain": [
       "'dfkj'"
      ]
     },
     "execution_count": 9,
     "metadata": {},
     "output_type": "execute_result"
    }
   ],
   "source": [
    "input(prompt='Search')"
   ]
  },
  {
   "cell_type": "code",
   "execution_count": null,
   "id": "7724014e",
   "metadata": {},
   "outputs": [],
   "source": []
  }
 ],
 "metadata": {
  "kernelspec": {
   "display_name": "Python 3 (ipykernel)",
   "language": "python",
   "name": "python3"
  },
  "language_info": {
   "codemirror_mode": {
    "name": "ipython",
    "version": 3
   },
   "file_extension": ".py",
   "mimetype": "text/x-python",
   "name": "python",
   "nbconvert_exporter": "python",
   "pygments_lexer": "ipython3",
   "version": "3.11.2"
  }
 },
 "nbformat": 4,
 "nbformat_minor": 5
}
