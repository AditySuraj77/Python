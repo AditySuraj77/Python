{
 "cells": [
  {
   "cell_type": "markdown",
   "id": "d2bd2b03",
   "metadata": {},
   "source": [
    "#  Create Tuples"
   ]
  },
  {
   "cell_type": "code",
   "execution_count": 1,
   "id": "cf9e2cd7",
   "metadata": {},
   "outputs": [],
   "source": [
    "tup_1 = ('Hello',)"
   ]
  },
  {
   "cell_type": "code",
   "execution_count": 2,
   "id": "d82e7d1b",
   "metadata": {},
   "outputs": [
    {
     "data": {
      "text/plain": [
       "('Hello',)"
      ]
     },
     "execution_count": 2,
     "metadata": {},
     "output_type": "execute_result"
    }
   ],
   "source": [
    "tup_1"
   ]
  },
  {
   "cell_type": "code",
   "execution_count": 3,
   "id": "7acf500c",
   "metadata": {},
   "outputs": [
    {
     "data": {
      "text/plain": [
       "tuple"
      ]
     },
     "execution_count": 3,
     "metadata": {},
     "output_type": "execute_result"
    }
   ],
   "source": [
    "type(tup_1)"
   ]
  },
  {
   "cell_type": "code",
   "execution_count": 4,
   "id": "77d48c0c",
   "metadata": {},
   "outputs": [],
   "source": [
    "tup_2 = tuple(('hello','dear','welcome','to','titanic'))"
   ]
  },
  {
   "cell_type": "code",
   "execution_count": 5,
   "id": "8e666d2c",
   "metadata": {},
   "outputs": [
    {
     "data": {
      "text/plain": [
       "('hello', 'dear', 'welcome', 'to', 'titanic')"
      ]
     },
     "execution_count": 5,
     "metadata": {},
     "output_type": "execute_result"
    }
   ],
   "source": [
    "tup_2"
   ]
  },
  {
   "cell_type": "code",
   "execution_count": 7,
   "id": "794e390c",
   "metadata": {},
   "outputs": [
    {
     "data": {
      "text/plain": [
       "tuple"
      ]
     },
     "execution_count": 7,
     "metadata": {},
     "output_type": "execute_result"
    }
   ],
   "source": [
    "type(tup_2)"
   ]
  },
  {
   "cell_type": "code",
   "execution_count": 8,
   "id": "e06d7ffa",
   "metadata": {},
   "outputs": [
    {
     "data": {
      "text/plain": [
       "5"
      ]
     },
     "execution_count": 8,
     "metadata": {},
     "output_type": "execute_result"
    }
   ],
   "source": [
    "len(tup_2)"
   ]
  },
  {
   "cell_type": "markdown",
   "id": "bdc282df",
   "metadata": {},
   "source": [
    "# Access Tuple Items"
   ]
  },
  {
   "cell_type": "code",
   "execution_count": 9,
   "id": "d3fe22d9",
   "metadata": {},
   "outputs": [],
   "source": [
    "tup_2 = tuple(('hello','dear','welcome','to','titanic'))"
   ]
  },
  {
   "cell_type": "code",
   "execution_count": 10,
   "id": "dbd706c9",
   "metadata": {},
   "outputs": [
    {
     "data": {
      "text/plain": [
       "'hello'"
      ]
     },
     "execution_count": 10,
     "metadata": {},
     "output_type": "execute_result"
    }
   ],
   "source": [
    "tup_2[0]"
   ]
  },
  {
   "cell_type": "code",
   "execution_count": 11,
   "id": "026bd1f1",
   "metadata": {},
   "outputs": [
    {
     "data": {
      "text/plain": [
       "'titanic'"
      ]
     },
     "execution_count": 11,
     "metadata": {},
     "output_type": "execute_result"
    }
   ],
   "source": [
    "tup_2[-1]"
   ]
  },
  {
   "cell_type": "code",
   "execution_count": 13,
   "id": "bcc2f600",
   "metadata": {},
   "outputs": [
    {
     "data": {
      "text/plain": [
       "('hello', 'dear', 'welcome')"
      ]
     },
     "execution_count": 13,
     "metadata": {},
     "output_type": "execute_result"
    }
   ],
   "source": [
    "tup_2[0:3]"
   ]
  },
  {
   "cell_type": "code",
   "execution_count": 14,
   "id": "acda94f1",
   "metadata": {},
   "outputs": [
    {
     "data": {
      "text/plain": [
       "('hello', 'dear', 'welcome', 'to', 'titanic')"
      ]
     },
     "execution_count": 14,
     "metadata": {},
     "output_type": "execute_result"
    }
   ],
   "source": [
    "tup_2[:5]"
   ]
  },
  {
   "cell_type": "code",
   "execution_count": 15,
   "id": "bd0aee36",
   "metadata": {},
   "outputs": [
    {
     "data": {
      "text/plain": [
       "('welcome', 'to', 'titanic')"
      ]
     },
     "execution_count": 15,
     "metadata": {},
     "output_type": "execute_result"
    }
   ],
   "source": [
    "tup_2[2:]"
   ]
  },
  {
   "cell_type": "code",
   "execution_count": 16,
   "id": "5af09291",
   "metadata": {},
   "outputs": [
    {
     "data": {
      "text/plain": [
       "('dear', 'welcome', 'to')"
      ]
     },
     "execution_count": 16,
     "metadata": {},
     "output_type": "execute_result"
    }
   ],
   "source": [
    "tup_2[-4:-1]"
   ]
  },
  {
   "cell_type": "code",
   "execution_count": 17,
   "id": "b4e9e6b8",
   "metadata": {},
   "outputs": [
    {
     "name": "stdout",
     "output_type": "stream",
     "text": [
      "Yes to is present in tup_2\n"
     ]
    }
   ],
   "source": [
    "if 'to' in tup_2:\n",
    "    print('Yes',tup_2[3],'is present in tup_2')"
   ]
  },
  {
   "cell_type": "code",
   "execution_count": 18,
   "id": "cc06ac75",
   "metadata": {},
   "outputs": [],
   "source": [
    "del tup_2"
   ]
  },
  {
   "cell_type": "code",
   "execution_count": 19,
   "id": "98885809",
   "metadata": {},
   "outputs": [
    {
     "data": {
      "text/plain": [
       "('Hello',)"
      ]
     },
     "execution_count": 19,
     "metadata": {},
     "output_type": "execute_result"
    }
   ],
   "source": [
    "tup_1"
   ]
  },
  {
   "cell_type": "markdown",
   "id": "b0bc58fa",
   "metadata": {},
   "source": [
    "# Unpack Tuple"
   ]
  },
  {
   "cell_type": "code",
   "execution_count": 26,
   "id": "95bebd6c",
   "metadata": {},
   "outputs": [],
   "source": [
    "fruit = ('apple','cherry','pineapple')"
   ]
  },
  {
   "cell_type": "code",
   "execution_count": 27,
   "id": "e7df9199",
   "metadata": {},
   "outputs": [
    {
     "data": {
      "text/plain": [
       "('apple', 'cherry', 'pineapple')"
      ]
     },
     "execution_count": 27,
     "metadata": {},
     "output_type": "execute_result"
    }
   ],
   "source": [
    "fruit"
   ]
  },
  {
   "cell_type": "code",
   "execution_count": 28,
   "id": "c2f19978",
   "metadata": {},
   "outputs": [],
   "source": [
    "(first,second,third) = fruit"
   ]
  },
  {
   "cell_type": "code",
   "execution_count": 29,
   "id": "35b1528b",
   "metadata": {},
   "outputs": [
    {
     "data": {
      "text/plain": [
       "'cherry'"
      ]
     },
     "execution_count": 29,
     "metadata": {},
     "output_type": "execute_result"
    }
   ],
   "source": [
    "second"
   ]
  },
  {
   "cell_type": "code",
   "execution_count": 30,
   "id": "1a80e5d8",
   "metadata": {},
   "outputs": [],
   "source": [
    "fruit = ('apple','cherry','pineapple','banana','gavava','orange')"
   ]
  },
  {
   "cell_type": "code",
   "execution_count": 34,
   "id": "c29e358d",
   "metadata": {},
   "outputs": [],
   "source": [
    "(red,blue,*cyan) = fruit   "
   ]
  },
  {
   "cell_type": "code",
   "execution_count": 40,
   "id": "c19eed14",
   "metadata": {},
   "outputs": [],
   "source": [
    "# If the number of variables is less than the number of values, you can add an * \n",
    "#to the variable name and the values will be assigned to the variable as a list:"
   ]
  },
  {
   "cell_type": "code",
   "execution_count": 38,
   "id": "2af86c20",
   "metadata": {},
   "outputs": [
    {
     "data": {
      "text/plain": [
       "['pineapple', 'banana', 'gavava', 'orange']"
      ]
     },
     "execution_count": 38,
     "metadata": {},
     "output_type": "execute_result"
    }
   ],
   "source": [
    "cyan"
   ]
  },
  {
   "cell_type": "markdown",
   "id": "a4334235",
   "metadata": {},
   "source": [
    "# Looping on tuple"
   ]
  },
  {
   "cell_type": "code",
   "execution_count": 41,
   "id": "a538a84b",
   "metadata": {},
   "outputs": [
    {
     "name": "stdout",
     "output_type": "stream",
     "text": [
      "apple\n",
      "banana\n",
      "cherry\n"
     ]
    }
   ],
   "source": [
    "thistuple = (\"apple\", \"banana\", \"cherry\")\n",
    "i = 0\n",
    "while i < len(thistuple):\n",
    "  print(thistuple[i])\n",
    "  i = i + 1"
   ]
  },
  {
   "cell_type": "code",
   "execution_count": 42,
   "id": "7326375a",
   "metadata": {},
   "outputs": [
    {
     "name": "stdout",
     "output_type": "stream",
     "text": [
      "apple\n",
      "banana\n",
      "cherry\n"
     ]
    }
   ],
   "source": [
    "thistuple = (\"apple\", \"banana\", \"cherry\")\n",
    "for i in range(len(thistuple)):\n",
    "  print(thistuple[i])"
   ]
  },
  {
   "cell_type": "code",
   "execution_count": 43,
   "id": "43c46b07",
   "metadata": {},
   "outputs": [
    {
     "name": "stdout",
     "output_type": "stream",
     "text": [
      "apple\n",
      "banana\n",
      "cherry\n"
     ]
    }
   ],
   "source": [
    "thistuple = (\"apple\", \"banana\", \"cherry\")\n",
    "for x in thistuple:\n",
    "  print(x)"
   ]
  },
  {
   "cell_type": "markdown",
   "id": "f2dec13a",
   "metadata": {},
   "source": [
    "# Join"
   ]
  },
  {
   "cell_type": "code",
   "execution_count": 44,
   "id": "11acd848",
   "metadata": {},
   "outputs": [
    {
     "data": {
      "text/plain": [
       "('bell',\n",
       " 'tell',\n",
       " 'chell',\n",
       " 'bell',\n",
       " 'tell',\n",
       " 'chell',\n",
       " 'bell',\n",
       " 'tell',\n",
       " 'chell',\n",
       " 'bell',\n",
       " 'tell',\n",
       " 'chell',\n",
       " 'bell',\n",
       " 'tell',\n",
       " 'chell')"
      ]
     },
     "execution_count": 44,
     "metadata": {},
     "output_type": "execute_result"
    }
   ],
   "source": [
    "this_tup = ('bell','tell','chell')\n",
    "this_tup * 5"
   ]
  },
  {
   "cell_type": "code",
   "execution_count": 45,
   "id": "6d877962",
   "metadata": {},
   "outputs": [],
   "source": [
    "tup_f= (1,2,3,4,5)\n",
    "tup_s = (6,7,8,9,10)\n",
    "tup_add = tup_f + tup_s"
   ]
  },
  {
   "cell_type": "code",
   "execution_count": 46,
   "id": "47836d5a",
   "metadata": {},
   "outputs": [
    {
     "data": {
      "text/plain": [
       "(1, 2, 3, 4, 5, 6, 7, 8, 9, 10)"
      ]
     },
     "execution_count": 46,
     "metadata": {},
     "output_type": "execute_result"
    }
   ],
   "source": [
    "tup_add"
   ]
  },
  {
   "cell_type": "markdown",
   "id": "f3e240ca",
   "metadata": {},
   "source": [
    "# tuple Function"
   ]
  },
  {
   "cell_type": "code",
   "execution_count": 51,
   "id": "8dbf2228",
   "metadata": {},
   "outputs": [
    {
     "data": {
      "text/plain": [
       "1"
      ]
     },
     "execution_count": 51,
     "metadata": {},
     "output_type": "execute_result"
    }
   ],
   "source": [
    "fruit.count(\"orange\")"
   ]
  },
  {
   "cell_type": "code",
   "execution_count": 57,
   "id": "053dc2ae",
   "metadata": {},
   "outputs": [
    {
     "data": {
      "text/plain": [
       "2"
      ]
     },
     "execution_count": 57,
     "metadata": {},
     "output_type": "execute_result"
    }
   ],
   "source": [
    "tup_add.index(3)"
   ]
  },
  {
   "cell_type": "code",
   "execution_count": null,
   "id": "e5cc2d48",
   "metadata": {},
   "outputs": [],
   "source": []
  }
 ],
 "metadata": {
  "kernelspec": {
   "display_name": "Python 3 (ipykernel)",
   "language": "python",
   "name": "python3"
  },
  "language_info": {
   "codemirror_mode": {
    "name": "ipython",
    "version": 3
   },
   "file_extension": ".py",
   "mimetype": "text/x-python",
   "name": "python",
   "nbconvert_exporter": "python",
   "pygments_lexer": "ipython3",
   "version": "3.11.2"
  }
 },
 "nbformat": 4,
 "nbformat_minor": 5
}
