{
 "cells": [
  {
   "cell_type": "markdown",
   "id": "892d1583",
   "metadata": {},
   "source": [
    "## JSON is a syntax for storing and exchanging data.\n",
    "\n",
    "## JSON is text, written with JavaScript object notation.\n",
    "\n",
    "# JSON in Python"
   ]
  },
  {
   "cell_type": "markdown",
   "id": "03b1d531",
   "metadata": {},
   "source": [
    "# Parse JSON - Convert from JSON to Python"
   ]
  },
  {
   "cell_type": "code",
   "execution_count": 4,
   "id": "b4eb936f",
   "metadata": {},
   "outputs": [],
   "source": [
    "import json"
   ]
  },
  {
   "cell_type": "code",
   "execution_count": 8,
   "id": "f251dff0",
   "metadata": {},
   "outputs": [
    {
     "name": "stdout",
     "output_type": "stream",
     "text": [
      "{'1_player': 'Virat', '2_player': 'FAF Du Plesis', '3_Player': 'Maxwell', '4_Player': 'Bracewell', '5_Player': 'Rawat'}\n"
     ]
    }
   ],
   "source": [
    "dict1 = '{\"1_player\":\"Virat\",\"2_player\":\"FAF Du Plesis\",\"3_Player\":\"Maxwell\",\"4_Player\":\"Bracewell\",\"5_Player\":\"Rawat\"}'\n",
    "        \n",
    "# Parsing json string to Python file\n",
    "y = json.loads(dict1)\n",
    "\n",
    "print(y)"
   ]
  },
  {
   "cell_type": "code",
   "execution_count": 9,
   "id": "7ac00262",
   "metadata": {},
   "outputs": [
    {
     "data": {
      "text/plain": [
       "dict"
      ]
     },
     "execution_count": 9,
     "metadata": {},
     "output_type": "execute_result"
    }
   ],
   "source": [
    "type(y)"
   ]
  },
  {
   "cell_type": "markdown",
   "id": "e6c64f1a",
   "metadata": {},
   "source": [
    "# Convert from Python to JSON"
   ]
  },
  {
   "cell_type": "code",
   "execution_count": 14,
   "id": "f9beb059",
   "metadata": {},
   "outputs": [
    {
     "name": "stdout",
     "output_type": "stream",
     "text": [
      "{\"name\": \"LuftHansa\", \"Type\": \"Flight\", \"Origin\": \"Berlin,Germany\"}\n"
     ]
    }
   ],
   "source": [
    "dic = {'name':'LuftHansa','Type':'Flight','Origin':'Berlin,Germany'}\n",
    "\n",
    "x = json.dumps(dic)\n",
    "print(x)"
   ]
  },
  {
   "cell_type": "code",
   "execution_count": 15,
   "id": "87381a87",
   "metadata": {},
   "outputs": [
    {
     "data": {
      "text/plain": [
       "str"
      ]
     },
     "execution_count": 15,
     "metadata": {},
     "output_type": "execute_result"
    }
   ],
   "source": [
    "type(x)"
   ]
  },
  {
   "cell_type": "code",
   "execution_count": null,
   "id": "04b10f72",
   "metadata": {},
   "outputs": [],
   "source": []
  }
 ],
 "metadata": {
  "kernelspec": {
   "display_name": "Python 3 (ipykernel)",
   "language": "python",
   "name": "python3"
  },
  "language_info": {
   "codemirror_mode": {
    "name": "ipython",
    "version": 3
   },
   "file_extension": ".py",
   "mimetype": "text/x-python",
   "name": "python",
   "nbconvert_exporter": "python",
   "pygments_lexer": "ipython3",
   "version": "3.11.2"
  }
 },
 "nbformat": 4,
 "nbformat_minor": 5
}
