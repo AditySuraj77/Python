{
 "cells": [
  {
   "cell_type": "markdown",
   "id": "fed41dba",
   "metadata": {},
   "source": [
    "# What is a Module?\n",
    "### Consider a module to be the same as a code library.\n",
    "\n",
    "### A file containing a set of functions you want to include in your application."
   ]
  },
  {
   "cell_type": "markdown",
   "id": "5b313127",
   "metadata": {},
   "source": [
    "# Create a Module"
   ]
  },
  {
   "cell_type": "code",
   "execution_count": 6,
   "id": "74c15afa",
   "metadata": {},
   "outputs": [],
   "source": [
    "def greeting(name):\n",
    "    print('Hello ' + name)"
   ]
  },
  {
   "cell_type": "code",
   "execution_count": 7,
   "id": "0dd7c5b2",
   "metadata": {},
   "outputs": [
    {
     "name": "stdout",
     "output_type": "stream",
     "text": [
      "Hello aditya\n"
     ]
    }
   ],
   "source": [
    "greeting('aditya')"
   ]
  },
  {
   "cell_type": "raw",
   "id": "96230409",
   "metadata": {},
   "source": [
    "Saving a file into python Library and then import module "
   ]
  },
  {
   "cell_type": "code",
   "execution_count": 10,
   "id": "e9883865",
   "metadata": {},
   "outputs": [],
   "source": [
    "import hellofunc as h"
   ]
  },
  {
   "cell_type": "code",
   "execution_count": 13,
   "id": "47f9b76d",
   "metadata": {},
   "outputs": [
    {
     "name": "stdout",
     "output_type": "stream",
     "text": [
      "Hello He\n"
     ]
    }
   ],
   "source": [
    "h.greeting('He')"
   ]
  },
  {
   "cell_type": "markdown",
   "id": "e7aa42dd",
   "metadata": {},
   "source": [
    "# Built-in Modules\n",
    "### There are several built-in modules in Python, which you can import whenever you like."
   ]
  },
  {
   "cell_type": "code",
   "execution_count": 15,
   "id": "5241ea95",
   "metadata": {},
   "outputs": [],
   "source": [
    "import platform"
   ]
  },
  {
   "cell_type": "code",
   "execution_count": 16,
   "id": "0371a9dc",
   "metadata": {},
   "outputs": [
    {
     "name": "stdout",
     "output_type": "stream",
     "text": [
      "Windows\n"
     ]
    }
   ],
   "source": [
    "x = platform.system()\n",
    "print(x)"
   ]
  },
  {
   "cell_type": "markdown",
   "id": "c05a2392",
   "metadata": {},
   "source": [
    "# Using the dir() Function\n",
    "### There is a built-in function to list all the function names (or variable names) in a module. The dir() function:"
   ]
  },
  {
   "cell_type": "code",
   "execution_count": 18,
   "id": "adee58c0",
   "metadata": {},
   "outputs": [
    {
     "name": "stdout",
     "output_type": "stream",
     "text": [
      "['_Processor', '_WIN32_CLIENT_RELEASES', '_WIN32_SERVER_RELEASES', '__builtins__', '__cached__', '__copyright__', '__doc__', '__file__', '__loader__', '__name__', '__package__', '__spec__', '__version__', '_comparable_version', '_component_re', '_default_architecture', '_follow_symlinks', '_get_machine_win32', '_ironpython26_sys_version_parser', '_ironpython_sys_version_parser', '_java_getprop', '_libc_search', '_mac_ver_xml', '_node', '_norm_version', '_os_release_cache', '_os_release_candidates', '_os_release_line', '_os_release_unescape', '_parse_os_release', '_platform', '_platform_cache', '_pypy_sys_version_parser', '_sys_version', '_sys_version_cache', '_sys_version_parser', '_syscmd_file', '_syscmd_ver', '_uname_cache', '_unknown_as_blank', '_ver_output', '_ver_stages', 'architecture', 'collections', 'freedesktop_os_release', 'functools', 'itertools', 'java_ver', 'libc_ver', 'mac_ver', 'machine', 'node', 'os', 'platform', 'processor', 'python_branch', 'python_build', 'python_compiler', 'python_implementation', 'python_revision', 'python_version', 'python_version_tuple', 're', 'release', 'sys', 'system', 'system_alias', 'uname', 'uname_result', 'version', 'win32_edition', 'win32_is_iot', 'win32_ver']\n"
     ]
    }
   ],
   "source": [
    "print(dir(platform))"
   ]
  },
  {
   "cell_type": "code",
   "execution_count": null,
   "id": "1ff3dcb8",
   "metadata": {},
   "outputs": [],
   "source": []
  }
 ],
 "metadata": {
  "kernelspec": {
   "display_name": "Python 3 (ipykernel)",
   "language": "python",
   "name": "python3"
  },
  "language_info": {
   "codemirror_mode": {
    "name": "ipython",
    "version": 3
   },
   "file_extension": ".py",
   "mimetype": "text/x-python",
   "name": "python",
   "nbconvert_exporter": "python",
   "pygments_lexer": "ipython3",
   "version": "3.11.2"
  }
 },
 "nbformat": 4,
 "nbformat_minor": 5
}
